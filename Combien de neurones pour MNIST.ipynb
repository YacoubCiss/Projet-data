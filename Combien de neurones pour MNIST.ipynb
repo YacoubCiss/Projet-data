{
 "cells": [
  {
   "cell_type": "markdown",
   "id": "4a3c196f-5ec2-496f-87ab-bf556033f074",
   "metadata": {},
   "source": [
    "# Expérience : classification MNIST\n",
    "\n",
    "Combien de neurones faut-il pour réussir une classification MNIST (acc >= 0.9, acc >= 0.95) ?"
   ]
  },
  {
   "cell_type": "code",
   "execution_count": 1,
   "id": "04522724-50e7-4de6-b1e7-79e1025e01d4",
   "metadata": {},
   "outputs": [],
   "source": [
    "import numpy as np\n",
    "import matplotlib.pyplot as plt\n",
    "import keras"
   ]
  },
  {
   "cell_type": "code",
   "execution_count": 3,
   "id": "2ba803a8-491e-43bf-be29-eacb01ee20d9",
   "metadata": {},
   "outputs": [],
   "source": [
    "from keras import layers\n",
    "from keras.models import Sequential\n",
    "from keras.datasets import mnist"
   ]
  },
  {
   "cell_type": "code",
   "execution_count": 5,
   "id": "5ee2bf04-e6c9-4aa6-b50c-391580961e22",
   "metadata": {},
   "outputs": [],
   "source": [
    "(train_data, train_labels), (test_data, test_labels) = mnist.load_data()"
   ]
  },
  {
   "cell_type": "code",
   "execution_count": 7,
   "id": "da8ba355-09fb-4ecf-9f14-9735b86862e3",
   "metadata": {},
   "outputs": [],
   "source": [
    "def preprocessing(tableau):\n",
    "    # normalisation es données dans [0, 1]\n",
    "    return tableau.astype(\"float32\") / 255.0"
   ]
  },
  {
   "cell_type": "code",
   "execution_count": 9,
   "id": "6680f25f-a7e8-4c9f-bc76-e5559cb39cb2",
   "metadata": {},
   "outputs": [],
   "source": [
    "X_train = preprocessing(train_data)\n",
    "X_test = preprocessing(test_data)"
   ]
  },
  {
   "cell_type": "code",
   "execution_count": 11,
   "id": "7dfeb846-0b74-4e3f-8843-1d5abcc1a598",
   "metadata": {},
   "outputs": [],
   "source": [
    "# Premier modèle : juste softmax, 10 neurones\n",
    "nn0 = Sequential([keras.Input(shape=(28,28)), \n",
    "                  layers.Flatten(),\n",
    "                  layers.Dense(10, activation='softmax')\n",
    "                 ])"
   ]
  },
  {
   "cell_type": "code",
   "execution_count": 13,
   "id": "4ca3bbdf-90da-44c4-bc2a-af0a51b01de5",
   "metadata": {},
   "outputs": [
    {
     "data": {
      "text/html": [
       "<pre style=\"white-space:pre;overflow-x:auto;line-height:normal;font-family:Menlo,'DejaVu Sans Mono',consolas,'Courier New',monospace\"><span style=\"font-weight: bold\">Model: \"sequential\"</span>\n",
       "</pre>\n"
      ],
      "text/plain": [
       "\u001b[1mModel: \"sequential\"\u001b[0m\n"
      ]
     },
     "metadata": {},
     "output_type": "display_data"
    },
    {
     "data": {
      "text/html": [
       "<pre style=\"white-space:pre;overflow-x:auto;line-height:normal;font-family:Menlo,'DejaVu Sans Mono',consolas,'Courier New',monospace\">┏━━━━━━━━━━━━━━━━━━━━━━━━━━━━━━━━━┳━━━━━━━━━━━━━━━━━━━━━━━━┳━━━━━━━━━━━━━━━┓\n",
       "┃<span style=\"font-weight: bold\"> Layer (type)                    </span>┃<span style=\"font-weight: bold\"> Output Shape           </span>┃<span style=\"font-weight: bold\">       Param # </span>┃\n",
       "┡━━━━━━━━━━━━━━━━━━━━━━━━━━━━━━━━━╇━━━━━━━━━━━━━━━━━━━━━━━━╇━━━━━━━━━━━━━━━┩\n",
       "│ flatten (<span style=\"color: #0087ff; text-decoration-color: #0087ff\">Flatten</span>)               │ (<span style=\"color: #00d7ff; text-decoration-color: #00d7ff\">None</span>, <span style=\"color: #00af00; text-decoration-color: #00af00\">784</span>)            │             <span style=\"color: #00af00; text-decoration-color: #00af00\">0</span> │\n",
       "├─────────────────────────────────┼────────────────────────┼───────────────┤\n",
       "│ dense (<span style=\"color: #0087ff; text-decoration-color: #0087ff\">Dense</span>)                   │ (<span style=\"color: #00d7ff; text-decoration-color: #00d7ff\">None</span>, <span style=\"color: #00af00; text-decoration-color: #00af00\">10</span>)             │         <span style=\"color: #00af00; text-decoration-color: #00af00\">7,850</span> │\n",
       "└─────────────────────────────────┴────────────────────────┴───────────────┘\n",
       "</pre>\n"
      ],
      "text/plain": [
       "┏━━━━━━━━━━━━━━━━━━━━━━━━━━━━━━━━━┳━━━━━━━━━━━━━━━━━━━━━━━━┳━━━━━━━━━━━━━━━┓\n",
       "┃\u001b[1m \u001b[0m\u001b[1mLayer (type)                   \u001b[0m\u001b[1m \u001b[0m┃\u001b[1m \u001b[0m\u001b[1mOutput Shape          \u001b[0m\u001b[1m \u001b[0m┃\u001b[1m \u001b[0m\u001b[1m      Param #\u001b[0m\u001b[1m \u001b[0m┃\n",
       "┡━━━━━━━━━━━━━━━━━━━━━━━━━━━━━━━━━╇━━━━━━━━━━━━━━━━━━━━━━━━╇━━━━━━━━━━━━━━━┩\n",
       "│ flatten (\u001b[38;5;33mFlatten\u001b[0m)               │ (\u001b[38;5;45mNone\u001b[0m, \u001b[38;5;34m784\u001b[0m)            │             \u001b[38;5;34m0\u001b[0m │\n",
       "├─────────────────────────────────┼────────────────────────┼───────────────┤\n",
       "│ dense (\u001b[38;5;33mDense\u001b[0m)                   │ (\u001b[38;5;45mNone\u001b[0m, \u001b[38;5;34m10\u001b[0m)             │         \u001b[38;5;34m7,850\u001b[0m │\n",
       "└─────────────────────────────────┴────────────────────────┴───────────────┘\n"
      ]
     },
     "metadata": {},
     "output_type": "display_data"
    },
    {
     "data": {
      "text/html": [
       "<pre style=\"white-space:pre;overflow-x:auto;line-height:normal;font-family:Menlo,'DejaVu Sans Mono',consolas,'Courier New',monospace\"><span style=\"font-weight: bold\"> Total params: </span><span style=\"color: #00af00; text-decoration-color: #00af00\">7,850</span> (30.66 KB)\n",
       "</pre>\n"
      ],
      "text/plain": [
       "\u001b[1m Total params: \u001b[0m\u001b[38;5;34m7,850\u001b[0m (30.66 KB)\n"
      ]
     },
     "metadata": {},
     "output_type": "display_data"
    },
    {
     "data": {
      "text/html": [
       "<pre style=\"white-space:pre;overflow-x:auto;line-height:normal;font-family:Menlo,'DejaVu Sans Mono',consolas,'Courier New',monospace\"><span style=\"font-weight: bold\"> Trainable params: </span><span style=\"color: #00af00; text-decoration-color: #00af00\">7,850</span> (30.66 KB)\n",
       "</pre>\n"
      ],
      "text/plain": [
       "\u001b[1m Trainable params: \u001b[0m\u001b[38;5;34m7,850\u001b[0m (30.66 KB)\n"
      ]
     },
     "metadata": {},
     "output_type": "display_data"
    },
    {
     "data": {
      "text/html": [
       "<pre style=\"white-space:pre;overflow-x:auto;line-height:normal;font-family:Menlo,'DejaVu Sans Mono',consolas,'Courier New',monospace\"><span style=\"font-weight: bold\"> Non-trainable params: </span><span style=\"color: #00af00; text-decoration-color: #00af00\">0</span> (0.00 B)\n",
       "</pre>\n"
      ],
      "text/plain": [
       "\u001b[1m Non-trainable params: \u001b[0m\u001b[38;5;34m0\u001b[0m (0.00 B)\n"
      ]
     },
     "metadata": {},
     "output_type": "display_data"
    }
   ],
   "source": [
    "nn0.summary()"
   ]
  },
  {
   "cell_type": "code",
   "execution_count": 15,
   "id": "fc8ef812-36aa-4eea-8be5-6df3cfae8f2c",
   "metadata": {},
   "outputs": [],
   "source": [
    "from keras.utils import to_categorical\n",
    "y_train = to_categorical(train_labels, 10)\n",
    "y_test = to_categorical(test_labels, 10)"
   ]
  },
  {
   "cell_type": "code",
   "execution_count": 17,
   "id": "10957639-d052-44de-b333-e206d57ee852",
   "metadata": {},
   "outputs": [],
   "source": [
    "nn0.compile(loss='categorical_crossentropy', \n",
    "            optimizer='adam',\n",
    "            metrics=['accuracy']\n",
    "           )"
   ]
  },
  {
   "cell_type": "code",
   "execution_count": 19,
   "id": "eaadb2a5-b32e-4994-b8b7-5222e1b337b1",
   "metadata": {},
   "outputs": [
    {
     "name": "stdout",
     "output_type": "stream",
     "text": [
      "Epoch 1/200\n",
      "\u001b[1m1875/1875\u001b[0m \u001b[32m━━━━━━━━━━━━━━━━━━━━\u001b[0m\u001b[37m\u001b[0m \u001b[1m1s\u001b[0m 243us/step - accuracy: 0.8156 - loss: 0.7133\n",
      "Epoch 2/200\n",
      "\u001b[1m1875/1875\u001b[0m \u001b[32m━━━━━━━━━━━━━━━━━━━━\u001b[0m\u001b[37m\u001b[0m \u001b[1m0s\u001b[0m 238us/step - accuracy: 0.9110 - loss: 0.3103\n",
      "Epoch 3/200\n",
      "\u001b[1m1875/1875\u001b[0m \u001b[32m━━━━━━━━━━━━━━━━━━━━\u001b[0m\u001b[37m\u001b[0m \u001b[1m0s\u001b[0m 237us/step - accuracy: 0.9226 - loss: 0.2772\n",
      "Epoch 4/200\n",
      "\u001b[1m1875/1875\u001b[0m \u001b[32m━━━━━━━━━━━━━━━━━━━━\u001b[0m\u001b[37m\u001b[0m \u001b[1m0s\u001b[0m 238us/step - accuracy: 0.9238 - loss: 0.2736\n",
      "Epoch 5/200\n",
      "\u001b[1m1875/1875\u001b[0m \u001b[32m━━━━━━━━━━━━━━━━━━━━\u001b[0m\u001b[37m\u001b[0m \u001b[1m0s\u001b[0m 242us/step - accuracy: 0.9262 - loss: 0.2628\n",
      "Epoch 6/200\n",
      "\u001b[1m1875/1875\u001b[0m \u001b[32m━━━━━━━━━━━━━━━━━━━━\u001b[0m\u001b[37m\u001b[0m \u001b[1m0s\u001b[0m 243us/step - accuracy: 0.9260 - loss: 0.2652\n",
      "Epoch 7/200\n",
      "\u001b[1m1875/1875\u001b[0m \u001b[32m━━━━━━━━━━━━━━━━━━━━\u001b[0m\u001b[37m\u001b[0m \u001b[1m0s\u001b[0m 237us/step - accuracy: 0.9283 - loss: 0.2582\n",
      "Epoch 8/200\n",
      "\u001b[1m1875/1875\u001b[0m \u001b[32m━━━━━━━━━━━━━━━━━━━━\u001b[0m\u001b[37m\u001b[0m \u001b[1m0s\u001b[0m 238us/step - accuracy: 0.9313 - loss: 0.2513\n",
      "Epoch 9/200\n",
      "\u001b[1m1875/1875\u001b[0m \u001b[32m━━━━━━━━━━━━━━━━━━━━\u001b[0m\u001b[37m\u001b[0m \u001b[1m0s\u001b[0m 237us/step - accuracy: 0.9302 - loss: 0.2499\n",
      "Epoch 10/200\n",
      "\u001b[1m1875/1875\u001b[0m \u001b[32m━━━━━━━━━━━━━━━━━━━━\u001b[0m\u001b[37m\u001b[0m \u001b[1m0s\u001b[0m 236us/step - accuracy: 0.9310 - loss: 0.2472\n",
      "Epoch 11/200\n",
      "\u001b[1m1875/1875\u001b[0m \u001b[32m━━━━━━━━━━━━━━━━━━━━\u001b[0m\u001b[37m\u001b[0m \u001b[1m0s\u001b[0m 239us/step - accuracy: 0.9315 - loss: 0.2479\n",
      "Epoch 12/200\n",
      "\u001b[1m1875/1875\u001b[0m \u001b[32m━━━━━━━━━━━━━━━━━━━━\u001b[0m\u001b[37m\u001b[0m \u001b[1m0s\u001b[0m 244us/step - accuracy: 0.9328 - loss: 0.2429\n",
      "Epoch 13/200\n",
      "\u001b[1m1875/1875\u001b[0m \u001b[32m━━━━━━━━━━━━━━━━━━━━\u001b[0m\u001b[37m\u001b[0m \u001b[1m0s\u001b[0m 241us/step - accuracy: 0.9352 - loss: 0.2407\n",
      "Epoch 14/200\n",
      "\u001b[1m1875/1875\u001b[0m \u001b[32m━━━━━━━━━━━━━━━━━━━━\u001b[0m\u001b[37m\u001b[0m \u001b[1m0s\u001b[0m 240us/step - accuracy: 0.9334 - loss: 0.2447\n",
      "Epoch 15/200\n",
      "\u001b[1m1875/1875\u001b[0m \u001b[32m━━━━━━━━━━━━━━━━━━━━\u001b[0m\u001b[37m\u001b[0m \u001b[1m0s\u001b[0m 240us/step - accuracy: 0.9343 - loss: 0.2402\n",
      "Epoch 16/200\n",
      "\u001b[1m1875/1875\u001b[0m \u001b[32m━━━━━━━━━━━━━━━━━━━━\u001b[0m\u001b[37m\u001b[0m \u001b[1m0s\u001b[0m 241us/step - accuracy: 0.9337 - loss: 0.2405\n",
      "Epoch 17/200\n",
      "\u001b[1m1875/1875\u001b[0m \u001b[32m━━━━━━━━━━━━━━━━━━━━\u001b[0m\u001b[37m\u001b[0m \u001b[1m0s\u001b[0m 240us/step - accuracy: 0.9348 - loss: 0.2420\n",
      "Epoch 18/200\n",
      "\u001b[1m1875/1875\u001b[0m \u001b[32m━━━━━━━━━━━━━━━━━━━━\u001b[0m\u001b[37m\u001b[0m \u001b[1m0s\u001b[0m 241us/step - accuracy: 0.9333 - loss: 0.2428\n",
      "Epoch 19/200\n",
      "\u001b[1m1875/1875\u001b[0m \u001b[32m━━━━━━━━━━━━━━━━━━━━\u001b[0m\u001b[37m\u001b[0m \u001b[1m0s\u001b[0m 241us/step - accuracy: 0.9339 - loss: 0.2321\n",
      "Epoch 20/200\n",
      "\u001b[1m1875/1875\u001b[0m \u001b[32m━━━━━━━━━━━━━━━━━━━━\u001b[0m\u001b[37m\u001b[0m \u001b[1m0s\u001b[0m 250us/step - accuracy: 0.9338 - loss: 0.2362\n",
      "Epoch 21/200\n",
      "\u001b[1m1875/1875\u001b[0m \u001b[32m━━━━━━━━━━━━━━━━━━━━\u001b[0m\u001b[37m\u001b[0m \u001b[1m0s\u001b[0m 245us/step - accuracy: 0.9335 - loss: 0.2392\n",
      "Epoch 22/200\n",
      "\u001b[1m1875/1875\u001b[0m \u001b[32m━━━━━━━━━━━━━━━━━━━━\u001b[0m\u001b[37m\u001b[0m \u001b[1m0s\u001b[0m 243us/step - accuracy: 0.9364 - loss: 0.2308\n",
      "Epoch 23/200\n",
      "\u001b[1m1875/1875\u001b[0m \u001b[32m━━━━━━━━━━━━━━━━━━━━\u001b[0m\u001b[37m\u001b[0m \u001b[1m0s\u001b[0m 245us/step - accuracy: 0.9338 - loss: 0.2345\n",
      "Epoch 24/200\n",
      "\u001b[1m1875/1875\u001b[0m \u001b[32m━━━━━━━━━━━━━━━━━━━━\u001b[0m\u001b[37m\u001b[0m \u001b[1m0s\u001b[0m 245us/step - accuracy: 0.9348 - loss: 0.2383\n",
      "Epoch 25/200\n",
      "\u001b[1m1875/1875\u001b[0m \u001b[32m━━━━━━━━━━━━━━━━━━━━\u001b[0m\u001b[37m\u001b[0m \u001b[1m0s\u001b[0m 250us/step - accuracy: 0.9358 - loss: 0.2346\n",
      "Epoch 26/200\n",
      "\u001b[1m1875/1875\u001b[0m \u001b[32m━━━━━━━━━━━━━━━━━━━━\u001b[0m\u001b[37m\u001b[0m \u001b[1m0s\u001b[0m 247us/step - accuracy: 0.9346 - loss: 0.2326\n",
      "Epoch 27/200\n",
      "\u001b[1m1875/1875\u001b[0m \u001b[32m━━━━━━━━━━━━━━━━━━━━\u001b[0m\u001b[37m\u001b[0m \u001b[1m0s\u001b[0m 245us/step - accuracy: 0.9349 - loss: 0.2388\n",
      "Epoch 28/200\n",
      "\u001b[1m1875/1875\u001b[0m \u001b[32m━━━━━━━━━━━━━━━━━━━━\u001b[0m\u001b[37m\u001b[0m \u001b[1m0s\u001b[0m 256us/step - accuracy: 0.9357 - loss: 0.2321\n",
      "Epoch 29/200\n",
      "\u001b[1m1875/1875\u001b[0m \u001b[32m━━━━━━━━━━━━━━━━━━━━\u001b[0m\u001b[37m\u001b[0m \u001b[1m0s\u001b[0m 245us/step - accuracy: 0.9346 - loss: 0.2355\n",
      "Epoch 30/200\n",
      "\u001b[1m1875/1875\u001b[0m \u001b[32m━━━━━━━━━━━━━━━━━━━━\u001b[0m\u001b[37m\u001b[0m \u001b[1m0s\u001b[0m 246us/step - accuracy: 0.9356 - loss: 0.2304\n",
      "Epoch 31/200\n",
      "\u001b[1m1875/1875\u001b[0m \u001b[32m━━━━━━━━━━━━━━━━━━━━\u001b[0m\u001b[37m\u001b[0m \u001b[1m0s\u001b[0m 251us/step - accuracy: 0.9357 - loss: 0.2337\n",
      "Epoch 32/200\n",
      "\u001b[1m1875/1875\u001b[0m \u001b[32m━━━━━━━━━━━━━━━━━━━━\u001b[0m\u001b[37m\u001b[0m \u001b[1m0s\u001b[0m 251us/step - accuracy: 0.9378 - loss: 0.2291\n",
      "Epoch 33/200\n",
      "\u001b[1m1875/1875\u001b[0m \u001b[32m━━━━━━━━━━━━━━━━━━━━\u001b[0m\u001b[37m\u001b[0m \u001b[1m0s\u001b[0m 247us/step - accuracy: 0.9353 - loss: 0.2293\n",
      "Epoch 34/200\n",
      "\u001b[1m1875/1875\u001b[0m \u001b[32m━━━━━━━━━━━━━━━━━━━━\u001b[0m\u001b[37m\u001b[0m \u001b[1m0s\u001b[0m 246us/step - accuracy: 0.9348 - loss: 0.2332\n",
      "Epoch 35/200\n",
      "\u001b[1m1875/1875\u001b[0m \u001b[32m━━━━━━━━━━━━━━━━━━━━\u001b[0m\u001b[37m\u001b[0m \u001b[1m0s\u001b[0m 246us/step - accuracy: 0.9373 - loss: 0.2270\n",
      "Epoch 36/200\n",
      "\u001b[1m1875/1875\u001b[0m \u001b[32m━━━━━━━━━━━━━━━━━━━━\u001b[0m\u001b[37m\u001b[0m \u001b[1m0s\u001b[0m 247us/step - accuracy: 0.9364 - loss: 0.2261\n",
      "Epoch 37/200\n",
      "\u001b[1m1875/1875\u001b[0m \u001b[32m━━━━━━━━━━━━━━━━━━━━\u001b[0m\u001b[37m\u001b[0m \u001b[1m0s\u001b[0m 246us/step - accuracy: 0.9384 - loss: 0.2266\n",
      "Epoch 38/200\n",
      "\u001b[1m1875/1875\u001b[0m \u001b[32m━━━━━━━━━━━━━━━━━━━━\u001b[0m\u001b[37m\u001b[0m \u001b[1m0s\u001b[0m 245us/step - accuracy: 0.9378 - loss: 0.2279\n",
      "Epoch 39/200\n",
      "\u001b[1m1875/1875\u001b[0m \u001b[32m━━━━━━━━━━━━━━━━━━━━\u001b[0m\u001b[37m\u001b[0m \u001b[1m0s\u001b[0m 245us/step - accuracy: 0.9369 - loss: 0.2330\n",
      "Epoch 40/200\n",
      "\u001b[1m1875/1875\u001b[0m \u001b[32m━━━━━━━━━━━━━━━━━━━━\u001b[0m\u001b[37m\u001b[0m \u001b[1m0s\u001b[0m 246us/step - accuracy: 0.9353 - loss: 0.2327\n",
      "Epoch 41/200\n",
      "\u001b[1m1875/1875\u001b[0m \u001b[32m━━━━━━━━━━━━━━━━━━━━\u001b[0m\u001b[37m\u001b[0m \u001b[1m0s\u001b[0m 245us/step - accuracy: 0.9365 - loss: 0.2299\n",
      "Epoch 42/200\n",
      "\u001b[1m1875/1875\u001b[0m \u001b[32m━━━━━━━━━━━━━━━━━━━━\u001b[0m\u001b[37m\u001b[0m \u001b[1m0s\u001b[0m 246us/step - accuracy: 0.9384 - loss: 0.2264\n",
      "Epoch 43/200\n",
      "\u001b[1m1875/1875\u001b[0m \u001b[32m━━━━━━━━━━━━━━━━━━━━\u001b[0m\u001b[37m\u001b[0m \u001b[1m0s\u001b[0m 249us/step - accuracy: 0.9372 - loss: 0.2284\n",
      "Epoch 44/200\n",
      "\u001b[1m1875/1875\u001b[0m \u001b[32m━━━━━━━━━━━━━━━━━━━━\u001b[0m\u001b[37m\u001b[0m \u001b[1m0s\u001b[0m 246us/step - accuracy: 0.9358 - loss: 0.2329\n",
      "Epoch 45/200\n",
      "\u001b[1m1875/1875\u001b[0m \u001b[32m━━━━━━━━━━━━━━━━━━━━\u001b[0m\u001b[37m\u001b[0m \u001b[1m0s\u001b[0m 245us/step - accuracy: 0.9349 - loss: 0.2346\n",
      "Epoch 46/200\n",
      "\u001b[1m1875/1875\u001b[0m \u001b[32m━━━━━━━━━━━━━━━━━━━━\u001b[0m\u001b[37m\u001b[0m \u001b[1m0s\u001b[0m 246us/step - accuracy: 0.9393 - loss: 0.2236\n",
      "Epoch 47/200\n",
      "\u001b[1m1875/1875\u001b[0m \u001b[32m━━━━━━━━━━━━━━━━━━━━\u001b[0m\u001b[37m\u001b[0m \u001b[1m0s\u001b[0m 247us/step - accuracy: 0.9377 - loss: 0.2322\n",
      "Epoch 48/200\n",
      "\u001b[1m1875/1875\u001b[0m \u001b[32m━━━━━━━━━━━━━━━━━━━━\u001b[0m\u001b[37m\u001b[0m \u001b[1m0s\u001b[0m 247us/step - accuracy: 0.9368 - loss: 0.2291\n",
      "Epoch 49/200\n",
      "\u001b[1m1875/1875\u001b[0m \u001b[32m━━━━━━━━━━━━━━━━━━━━\u001b[0m\u001b[37m\u001b[0m \u001b[1m0s\u001b[0m 247us/step - accuracy: 0.9361 - loss: 0.2325\n",
      "Epoch 50/200\n",
      "\u001b[1m1875/1875\u001b[0m \u001b[32m━━━━━━━━━━━━━━━━━━━━\u001b[0m\u001b[37m\u001b[0m \u001b[1m0s\u001b[0m 248us/step - accuracy: 0.9362 - loss: 0.2253\n",
      "Epoch 51/200\n",
      "\u001b[1m1875/1875\u001b[0m \u001b[32m━━━━━━━━━━━━━━━━━━━━\u001b[0m\u001b[37m\u001b[0m \u001b[1m0s\u001b[0m 246us/step - accuracy: 0.9378 - loss: 0.2247\n",
      "Epoch 52/200\n",
      "\u001b[1m1875/1875\u001b[0m \u001b[32m━━━━━━━━━━━━━━━━━━━━\u001b[0m\u001b[37m\u001b[0m \u001b[1m0s\u001b[0m 246us/step - accuracy: 0.9392 - loss: 0.2189\n",
      "Epoch 53/200\n",
      "\u001b[1m1875/1875\u001b[0m \u001b[32m━━━━━━━━━━━━━━━━━━━━\u001b[0m\u001b[37m\u001b[0m \u001b[1m0s\u001b[0m 249us/step - accuracy: 0.9364 - loss: 0.2214\n",
      "Epoch 54/200\n",
      "\u001b[1m1875/1875\u001b[0m \u001b[32m━━━━━━━━━━━━━━━━━━━━\u001b[0m\u001b[37m\u001b[0m \u001b[1m0s\u001b[0m 247us/step - accuracy: 0.9374 - loss: 0.2268\n",
      "Epoch 55/200\n",
      "\u001b[1m1875/1875\u001b[0m \u001b[32m━━━━━━━━━━━━━━━━━━━━\u001b[0m\u001b[37m\u001b[0m \u001b[1m0s\u001b[0m 246us/step - accuracy: 0.9365 - loss: 0.2273\n",
      "Epoch 56/200\n",
      "\u001b[1m1875/1875\u001b[0m \u001b[32m━━━━━━━━━━━━━━━━━━━━\u001b[0m\u001b[37m\u001b[0m \u001b[1m0s\u001b[0m 247us/step - accuracy: 0.9375 - loss: 0.2248\n",
      "Epoch 57/200\n",
      "\u001b[1m1875/1875\u001b[0m \u001b[32m━━━━━━━━━━━━━━━━━━━━\u001b[0m\u001b[37m\u001b[0m \u001b[1m0s\u001b[0m 244us/step - accuracy: 0.9367 - loss: 0.2203\n",
      "Epoch 58/200\n",
      "\u001b[1m1875/1875\u001b[0m \u001b[32m━━━━━━━━━━━━━━━━━━━━\u001b[0m\u001b[37m\u001b[0m \u001b[1m0s\u001b[0m 244us/step - accuracy: 0.9381 - loss: 0.2231\n",
      "Epoch 59/200\n",
      "\u001b[1m1875/1875\u001b[0m \u001b[32m━━━━━━━━━━━━━━━━━━━━\u001b[0m\u001b[37m\u001b[0m \u001b[1m0s\u001b[0m 245us/step - accuracy: 0.9374 - loss: 0.2251\n",
      "Epoch 60/200\n",
      "\u001b[1m1875/1875\u001b[0m \u001b[32m━━━━━━━━━━━━━━━━━━━━\u001b[0m\u001b[37m\u001b[0m \u001b[1m0s\u001b[0m 244us/step - accuracy: 0.9377 - loss: 0.2213\n",
      "Epoch 61/200\n",
      "\u001b[1m1875/1875\u001b[0m \u001b[32m━━━━━━━━━━━━━━━━━━━━\u001b[0m\u001b[37m\u001b[0m \u001b[1m0s\u001b[0m 244us/step - accuracy: 0.9384 - loss: 0.2217\n",
      "Epoch 62/200\n",
      "\u001b[1m1875/1875\u001b[0m \u001b[32m━━━━━━━━━━━━━━━━━━━━\u001b[0m\u001b[37m\u001b[0m \u001b[1m0s\u001b[0m 244us/step - accuracy: 0.9359 - loss: 0.2295\n",
      "Epoch 63/200\n",
      "\u001b[1m1875/1875\u001b[0m \u001b[32m━━━━━━━━━━━━━━━━━━━━\u001b[0m\u001b[37m\u001b[0m \u001b[1m0s\u001b[0m 244us/step - accuracy: 0.9375 - loss: 0.2252\n",
      "Epoch 64/200\n",
      "\u001b[1m1875/1875\u001b[0m \u001b[32m━━━━━━━━━━━━━━━━━━━━\u001b[0m\u001b[37m\u001b[0m \u001b[1m0s\u001b[0m 244us/step - accuracy: 0.9395 - loss: 0.2177\n",
      "Epoch 65/200\n",
      "\u001b[1m1875/1875\u001b[0m \u001b[32m━━━━━━━━━━━━━━━━━━━━\u001b[0m\u001b[37m\u001b[0m \u001b[1m0s\u001b[0m 247us/step - accuracy: 0.9386 - loss: 0.2214\n",
      "Epoch 66/200\n",
      "\u001b[1m1875/1875\u001b[0m \u001b[32m━━━━━━━━━━━━━━━━━━━━\u001b[0m\u001b[37m\u001b[0m \u001b[1m0s\u001b[0m 248us/step - accuracy: 0.9378 - loss: 0.2197\n",
      "Epoch 67/200\n",
      "\u001b[1m1875/1875\u001b[0m \u001b[32m━━━━━━━━━━━━━━━━━━━━\u001b[0m\u001b[37m\u001b[0m \u001b[1m0s\u001b[0m 245us/step - accuracy: 0.9379 - loss: 0.2261\n",
      "Epoch 68/200\n",
      "\u001b[1m1875/1875\u001b[0m \u001b[32m━━━━━━━━━━━━━━━━━━━━\u001b[0m\u001b[37m\u001b[0m \u001b[1m0s\u001b[0m 244us/step - accuracy: 0.9383 - loss: 0.2271\n",
      "Epoch 69/200\n",
      "\u001b[1m1875/1875\u001b[0m \u001b[32m━━━━━━━━━━━━━━━━━━━━\u001b[0m\u001b[37m\u001b[0m \u001b[1m0s\u001b[0m 245us/step - accuracy: 0.9384 - loss: 0.2215\n",
      "Epoch 70/200\n",
      "\u001b[1m1875/1875\u001b[0m \u001b[32m━━━━━━━━━━━━━━━━━━━━\u001b[0m\u001b[37m\u001b[0m \u001b[1m0s\u001b[0m 245us/step - accuracy: 0.9374 - loss: 0.2259\n",
      "Epoch 71/200\n",
      "\u001b[1m1875/1875\u001b[0m \u001b[32m━━━━━━━━━━━━━━━━━━━━\u001b[0m\u001b[37m\u001b[0m \u001b[1m0s\u001b[0m 245us/step - accuracy: 0.9395 - loss: 0.2219\n",
      "Epoch 72/200\n",
      "\u001b[1m1875/1875\u001b[0m \u001b[32m━━━━━━━━━━━━━━━━━━━━\u001b[0m\u001b[37m\u001b[0m \u001b[1m0s\u001b[0m 244us/step - accuracy: 0.9383 - loss: 0.2213\n",
      "Epoch 73/200\n",
      "\u001b[1m1875/1875\u001b[0m \u001b[32m━━━━━━━━━━━━━━━━━━━━\u001b[0m\u001b[37m\u001b[0m \u001b[1m0s\u001b[0m 245us/step - accuracy: 0.9384 - loss: 0.2169\n",
      "Epoch 74/200\n",
      "\u001b[1m1875/1875\u001b[0m \u001b[32m━━━━━━━━━━━━━━━━━━━━\u001b[0m\u001b[37m\u001b[0m \u001b[1m0s\u001b[0m 248us/step - accuracy: 0.9381 - loss: 0.2212\n",
      "Epoch 75/200\n",
      "\u001b[1m1875/1875\u001b[0m \u001b[32m━━━━━━━━━━━━━━━━━━━━\u001b[0m\u001b[37m\u001b[0m \u001b[1m0s\u001b[0m 244us/step - accuracy: 0.9394 - loss: 0.2202\n",
      "Epoch 76/200\n",
      "\u001b[1m1875/1875\u001b[0m \u001b[32m━━━━━━━━━━━━━━━━━━━━\u001b[0m\u001b[37m\u001b[0m \u001b[1m0s\u001b[0m 244us/step - accuracy: 0.9391 - loss: 0.2213\n",
      "Epoch 77/200\n",
      "\u001b[1m1875/1875\u001b[0m \u001b[32m━━━━━━━━━━━━━━━━━━━━\u001b[0m\u001b[37m\u001b[0m \u001b[1m0s\u001b[0m 244us/step - accuracy: 0.9400 - loss: 0.2177\n",
      "Epoch 78/200\n",
      "\u001b[1m1875/1875\u001b[0m \u001b[32m━━━━━━━━━━━━━━━━━━━━\u001b[0m\u001b[37m\u001b[0m \u001b[1m0s\u001b[0m 245us/step - accuracy: 0.9382 - loss: 0.2235\n",
      "Epoch 79/200\n",
      "\u001b[1m1875/1875\u001b[0m \u001b[32m━━━━━━━━━━━━━━━━━━━━\u001b[0m\u001b[37m\u001b[0m \u001b[1m0s\u001b[0m 244us/step - accuracy: 0.9368 - loss: 0.2235\n",
      "Epoch 80/200\n",
      "\u001b[1m1875/1875\u001b[0m \u001b[32m━━━━━━━━━━━━━━━━━━━━\u001b[0m\u001b[37m\u001b[0m \u001b[1m0s\u001b[0m 245us/step - accuracy: 0.9397 - loss: 0.2158\n",
      "Epoch 81/200\n",
      "\u001b[1m1875/1875\u001b[0m \u001b[32m━━━━━━━━━━━━━━━━━━━━\u001b[0m\u001b[37m\u001b[0m \u001b[1m0s\u001b[0m 244us/step - accuracy: 0.9395 - loss: 0.2158\n",
      "Epoch 82/200\n",
      "\u001b[1m1875/1875\u001b[0m \u001b[32m━━━━━━━━━━━━━━━━━━━━\u001b[0m\u001b[37m\u001b[0m \u001b[1m0s\u001b[0m 244us/step - accuracy: 0.9394 - loss: 0.2230\n",
      "Epoch 83/200\n",
      "\u001b[1m1875/1875\u001b[0m \u001b[32m━━━━━━━━━━━━━━━━━━━━\u001b[0m\u001b[37m\u001b[0m \u001b[1m0s\u001b[0m 244us/step - accuracy: 0.9420 - loss: 0.2164\n",
      "Epoch 84/200\n",
      "\u001b[1m1875/1875\u001b[0m \u001b[32m━━━━━━━━━━━━━━━━━━━━\u001b[0m\u001b[37m\u001b[0m \u001b[1m0s\u001b[0m 245us/step - accuracy: 0.9386 - loss: 0.2177\n",
      "Epoch 85/200\n",
      "\u001b[1m1875/1875\u001b[0m \u001b[32m━━━━━━━━━━━━━━━━━━━━\u001b[0m\u001b[37m\u001b[0m \u001b[1m0s\u001b[0m 244us/step - accuracy: 0.9384 - loss: 0.2213\n",
      "Epoch 86/200\n",
      "\u001b[1m1875/1875\u001b[0m \u001b[32m━━━━━━━━━━━━━━━━━━━━\u001b[0m\u001b[37m\u001b[0m \u001b[1m0s\u001b[0m 244us/step - accuracy: 0.9403 - loss: 0.2160\n",
      "Epoch 87/200\n",
      "\u001b[1m1875/1875\u001b[0m \u001b[32m━━━━━━━━━━━━━━━━━━━━\u001b[0m\u001b[37m\u001b[0m \u001b[1m0s\u001b[0m 244us/step - accuracy: 0.9390 - loss: 0.2202\n",
      "Epoch 88/200\n",
      "\u001b[1m1875/1875\u001b[0m \u001b[32m━━━━━━━━━━━━━━━━━━━━\u001b[0m\u001b[37m\u001b[0m \u001b[1m0s\u001b[0m 244us/step - accuracy: 0.9369 - loss: 0.2215\n",
      "Epoch 89/200\n",
      "\u001b[1m1875/1875\u001b[0m \u001b[32m━━━━━━━━━━━━━━━━━━━━\u001b[0m\u001b[37m\u001b[0m \u001b[1m0s\u001b[0m 243us/step - accuracy: 0.9402 - loss: 0.2163\n",
      "Epoch 90/200\n",
      "\u001b[1m1875/1875\u001b[0m \u001b[32m━━━━━━━━━━━━━━━━━━━━\u001b[0m\u001b[37m\u001b[0m \u001b[1m0s\u001b[0m 244us/step - accuracy: 0.9366 - loss: 0.2285\n",
      "Epoch 91/200\n",
      "\u001b[1m1875/1875\u001b[0m \u001b[32m━━━━━━━━━━━━━━━━━━━━\u001b[0m\u001b[37m\u001b[0m \u001b[1m0s\u001b[0m 245us/step - accuracy: 0.9409 - loss: 0.2127\n",
      "Epoch 92/200\n",
      "\u001b[1m1875/1875\u001b[0m \u001b[32m━━━━━━━━━━━━━━━━━━━━\u001b[0m\u001b[37m\u001b[0m \u001b[1m0s\u001b[0m 244us/step - accuracy: 0.9388 - loss: 0.2250\n",
      "Epoch 93/200\n",
      "\u001b[1m1875/1875\u001b[0m \u001b[32m━━━━━━━━━━━━━━━━━━━━\u001b[0m\u001b[37m\u001b[0m \u001b[1m0s\u001b[0m 245us/step - accuracy: 0.9365 - loss: 0.2238\n",
      "Epoch 94/200\n",
      "\u001b[1m1875/1875\u001b[0m \u001b[32m━━━━━━━━━━━━━━━━━━━━\u001b[0m\u001b[37m\u001b[0m \u001b[1m0s\u001b[0m 245us/step - accuracy: 0.9399 - loss: 0.2153\n",
      "Epoch 95/200\n",
      "\u001b[1m1875/1875\u001b[0m \u001b[32m━━━━━━━━━━━━━━━━━━━━\u001b[0m\u001b[37m\u001b[0m \u001b[1m0s\u001b[0m 244us/step - accuracy: 0.9383 - loss: 0.2213\n",
      "Epoch 96/200\n",
      "\u001b[1m1875/1875\u001b[0m \u001b[32m━━━━━━━━━━━━━━━━━━━━\u001b[0m\u001b[37m\u001b[0m \u001b[1m0s\u001b[0m 243us/step - accuracy: 0.9402 - loss: 0.2247\n",
      "Epoch 97/200\n",
      "\u001b[1m1875/1875\u001b[0m \u001b[32m━━━━━━━━━━━━━━━━━━━━\u001b[0m\u001b[37m\u001b[0m \u001b[1m0s\u001b[0m 245us/step - accuracy: 0.9394 - loss: 0.2196\n",
      "Epoch 98/200\n",
      "\u001b[1m1875/1875\u001b[0m \u001b[32m━━━━━━━━━━━━━━━━━━━━\u001b[0m\u001b[37m\u001b[0m \u001b[1m0s\u001b[0m 244us/step - accuracy: 0.9370 - loss: 0.2233\n",
      "Epoch 99/200\n",
      "\u001b[1m1875/1875\u001b[0m \u001b[32m━━━━━━━━━━━━━━━━━━━━\u001b[0m\u001b[37m\u001b[0m \u001b[1m0s\u001b[0m 246us/step - accuracy: 0.9390 - loss: 0.2192\n",
      "Epoch 100/200\n",
      "\u001b[1m1875/1875\u001b[0m \u001b[32m━━━━━━━━━━━━━━━━━━━━\u001b[0m\u001b[37m\u001b[0m \u001b[1m0s\u001b[0m 248us/step - accuracy: 0.9378 - loss: 0.2220\n",
      "Epoch 101/200\n",
      "\u001b[1m1875/1875\u001b[0m \u001b[32m━━━━━━━━━━━━━━━━━━━━\u001b[0m\u001b[37m\u001b[0m \u001b[1m0s\u001b[0m 244us/step - accuracy: 0.9382 - loss: 0.2221\n",
      "Epoch 102/200\n",
      "\u001b[1m1875/1875\u001b[0m \u001b[32m━━━━━━━━━━━━━━━━━━━━\u001b[0m\u001b[37m\u001b[0m \u001b[1m0s\u001b[0m 244us/step - accuracy: 0.9377 - loss: 0.2198\n",
      "Epoch 103/200\n",
      "\u001b[1m1875/1875\u001b[0m \u001b[32m━━━━━━━━━━━━━━━━━━━━\u001b[0m\u001b[37m\u001b[0m \u001b[1m0s\u001b[0m 245us/step - accuracy: 0.9387 - loss: 0.2197\n",
      "Epoch 104/200\n",
      "\u001b[1m1875/1875\u001b[0m \u001b[32m━━━━━━━━━━━━━━━━━━━━\u001b[0m\u001b[37m\u001b[0m \u001b[1m0s\u001b[0m 245us/step - accuracy: 0.9386 - loss: 0.2191\n",
      "Epoch 105/200\n",
      "\u001b[1m1875/1875\u001b[0m \u001b[32m━━━━━━━━━━━━━━━━━━━━\u001b[0m\u001b[37m\u001b[0m \u001b[1m0s\u001b[0m 245us/step - accuracy: 0.9383 - loss: 0.2187\n",
      "Epoch 106/200\n",
      "\u001b[1m1875/1875\u001b[0m \u001b[32m━━━━━━━━━━━━━━━━━━━━\u001b[0m\u001b[37m\u001b[0m \u001b[1m0s\u001b[0m 246us/step - accuracy: 0.9388 - loss: 0.2234\n",
      "Epoch 107/200\n",
      "\u001b[1m1875/1875\u001b[0m \u001b[32m━━━━━━━━━━━━━━━━━━━━\u001b[0m\u001b[37m\u001b[0m \u001b[1m0s\u001b[0m 245us/step - accuracy: 0.9366 - loss: 0.2233\n",
      "Epoch 108/200\n",
      "\u001b[1m1875/1875\u001b[0m \u001b[32m━━━━━━━━━━━━━━━━━━━━\u001b[0m\u001b[37m\u001b[0m \u001b[1m0s\u001b[0m 246us/step - accuracy: 0.9395 - loss: 0.2174\n",
      "Epoch 109/200\n",
      "\u001b[1m1875/1875\u001b[0m \u001b[32m━━━━━━━━━━━━━━━━━━━━\u001b[0m\u001b[37m\u001b[0m \u001b[1m0s\u001b[0m 244us/step - accuracy: 0.9383 - loss: 0.2212\n",
      "Epoch 110/200\n",
      "\u001b[1m1875/1875\u001b[0m \u001b[32m━━━━━━━━━━━━━━━━━━━━\u001b[0m\u001b[37m\u001b[0m \u001b[1m0s\u001b[0m 245us/step - accuracy: 0.9374 - loss: 0.2245\n",
      "Epoch 111/200\n",
      "\u001b[1m1875/1875\u001b[0m \u001b[32m━━━━━━━━━━━━━━━━━━━━\u001b[0m\u001b[37m\u001b[0m \u001b[1m0s\u001b[0m 244us/step - accuracy: 0.9399 - loss: 0.2178\n",
      "Epoch 112/200\n",
      "\u001b[1m1875/1875\u001b[0m \u001b[32m━━━━━━━━━━━━━━━━━━━━\u001b[0m\u001b[37m\u001b[0m \u001b[1m0s\u001b[0m 245us/step - accuracy: 0.9395 - loss: 0.2146\n",
      "Epoch 113/200\n",
      "\u001b[1m1875/1875\u001b[0m \u001b[32m━━━━━━━━━━━━━━━━━━━━\u001b[0m\u001b[37m\u001b[0m \u001b[1m0s\u001b[0m 244us/step - accuracy: 0.9400 - loss: 0.2182\n",
      "Epoch 114/200\n",
      "\u001b[1m1875/1875\u001b[0m \u001b[32m━━━━━━━━━━━━━━━━━━━━\u001b[0m\u001b[37m\u001b[0m \u001b[1m0s\u001b[0m 244us/step - accuracy: 0.9384 - loss: 0.2186\n",
      "Epoch 115/200\n",
      "\u001b[1m1875/1875\u001b[0m \u001b[32m━━━━━━━━━━━━━━━━━━━━\u001b[0m\u001b[37m\u001b[0m \u001b[1m0s\u001b[0m 244us/step - accuracy: 0.9398 - loss: 0.2150\n",
      "Epoch 116/200\n",
      "\u001b[1m1875/1875\u001b[0m \u001b[32m━━━━━━━━━━━━━━━━━━━━\u001b[0m\u001b[37m\u001b[0m \u001b[1m0s\u001b[0m 245us/step - accuracy: 0.9384 - loss: 0.2217\n",
      "Epoch 117/200\n",
      "\u001b[1m1875/1875\u001b[0m \u001b[32m━━━━━━━━━━━━━━━━━━━━\u001b[0m\u001b[37m\u001b[0m \u001b[1m0s\u001b[0m 244us/step - accuracy: 0.9390 - loss: 0.2134\n",
      "Epoch 118/200\n",
      "\u001b[1m1875/1875\u001b[0m \u001b[32m━━━━━━━━━━━━━━━━━━━━\u001b[0m\u001b[37m\u001b[0m \u001b[1m0s\u001b[0m 245us/step - accuracy: 0.9390 - loss: 0.2168\n",
      "Epoch 119/200\n",
      "\u001b[1m1875/1875\u001b[0m \u001b[32m━━━━━━━━━━━━━━━━━━━━\u001b[0m\u001b[37m\u001b[0m \u001b[1m0s\u001b[0m 246us/step - accuracy: 0.9392 - loss: 0.2164\n",
      "Epoch 120/200\n",
      "\u001b[1m1875/1875\u001b[0m \u001b[32m━━━━━━━━━━━━━━━━━━━━\u001b[0m\u001b[37m\u001b[0m \u001b[1m0s\u001b[0m 244us/step - accuracy: 0.9402 - loss: 0.2134\n",
      "Epoch 121/200\n",
      "\u001b[1m1875/1875\u001b[0m \u001b[32m━━━━━━━━━━━━━━━━━━━━\u001b[0m\u001b[37m\u001b[0m \u001b[1m0s\u001b[0m 245us/step - accuracy: 0.9393 - loss: 0.2168\n",
      "Epoch 122/200\n",
      "\u001b[1m1875/1875\u001b[0m \u001b[32m━━━━━━━━━━━━━━━━━━━━\u001b[0m\u001b[37m\u001b[0m \u001b[1m0s\u001b[0m 245us/step - accuracy: 0.9394 - loss: 0.2146\n",
      "Epoch 123/200\n",
      "\u001b[1m1875/1875\u001b[0m \u001b[32m━━━━━━━━━━━━━━━━━━━━\u001b[0m\u001b[37m\u001b[0m \u001b[1m0s\u001b[0m 244us/step - accuracy: 0.9385 - loss: 0.2199\n",
      "Epoch 124/200\n",
      "\u001b[1m1875/1875\u001b[0m \u001b[32m━━━━━━━━━━━━━━━━━━━━\u001b[0m\u001b[37m\u001b[0m \u001b[1m0s\u001b[0m 244us/step - accuracy: 0.9391 - loss: 0.2173\n",
      "Epoch 125/200\n",
      "\u001b[1m1875/1875\u001b[0m \u001b[32m━━━━━━━━━━━━━━━━━━━━\u001b[0m\u001b[37m\u001b[0m \u001b[1m0s\u001b[0m 246us/step - accuracy: 0.9400 - loss: 0.2166\n",
      "Epoch 126/200\n",
      "\u001b[1m1875/1875\u001b[0m \u001b[32m━━━━━━━━━━━━━━━━━━━━\u001b[0m\u001b[37m\u001b[0m \u001b[1m0s\u001b[0m 244us/step - accuracy: 0.9388 - loss: 0.2167\n",
      "Epoch 127/200\n",
      "\u001b[1m1875/1875\u001b[0m \u001b[32m━━━━━━━━━━━━━━━━━━━━\u001b[0m\u001b[37m\u001b[0m \u001b[1m0s\u001b[0m 245us/step - accuracy: 0.9389 - loss: 0.2210\n",
      "Epoch 128/200\n",
      "\u001b[1m1875/1875\u001b[0m \u001b[32m━━━━━━━━━━━━━━━━━━━━\u001b[0m\u001b[37m\u001b[0m \u001b[1m0s\u001b[0m 244us/step - accuracy: 0.9376 - loss: 0.2199\n",
      "Epoch 129/200\n",
      "\u001b[1m1875/1875\u001b[0m \u001b[32m━━━━━━━━━━━━━━━━━━━━\u001b[0m\u001b[37m\u001b[0m \u001b[1m0s\u001b[0m 245us/step - accuracy: 0.9380 - loss: 0.2211\n",
      "Epoch 130/200\n",
      "\u001b[1m1875/1875\u001b[0m \u001b[32m━━━━━━━━━━━━━━━━━━━━\u001b[0m\u001b[37m\u001b[0m \u001b[1m0s\u001b[0m 244us/step - accuracy: 0.9401 - loss: 0.2164\n",
      "Epoch 131/200\n",
      "\u001b[1m1875/1875\u001b[0m \u001b[32m━━━━━━━━━━━━━━━━━━━━\u001b[0m\u001b[37m\u001b[0m \u001b[1m0s\u001b[0m 244us/step - accuracy: 0.9400 - loss: 0.2144\n",
      "Epoch 132/200\n",
      "\u001b[1m1875/1875\u001b[0m \u001b[32m━━━━━━━━━━━━━━━━━━━━\u001b[0m\u001b[37m\u001b[0m \u001b[1m0s\u001b[0m 245us/step - accuracy: 0.9383 - loss: 0.2156\n",
      "Epoch 133/200\n",
      "\u001b[1m1875/1875\u001b[0m \u001b[32m━━━━━━━━━━━━━━━━━━━━\u001b[0m\u001b[37m\u001b[0m \u001b[1m0s\u001b[0m 245us/step - accuracy: 0.9393 - loss: 0.2150\n",
      "Epoch 134/200\n",
      "\u001b[1m1875/1875\u001b[0m \u001b[32m━━━━━━━━━━━━━━━━━━━━\u001b[0m\u001b[37m\u001b[0m \u001b[1m0s\u001b[0m 246us/step - accuracy: 0.9393 - loss: 0.2149\n",
      "Epoch 135/200\n",
      "\u001b[1m1875/1875\u001b[0m \u001b[32m━━━━━━━━━━━━━━━━━━━━\u001b[0m\u001b[37m\u001b[0m \u001b[1m0s\u001b[0m 245us/step - accuracy: 0.9389 - loss: 0.2210\n",
      "Epoch 136/200\n",
      "\u001b[1m1875/1875\u001b[0m \u001b[32m━━━━━━━━━━━━━━━━━━━━\u001b[0m\u001b[37m\u001b[0m \u001b[1m0s\u001b[0m 245us/step - accuracy: 0.9390 - loss: 0.2153\n",
      "Epoch 137/200\n",
      "\u001b[1m1875/1875\u001b[0m \u001b[32m━━━━━━━━━━━━━━━━━━━━\u001b[0m\u001b[37m\u001b[0m \u001b[1m0s\u001b[0m 244us/step - accuracy: 0.9406 - loss: 0.2139\n",
      "Epoch 138/200\n",
      "\u001b[1m1875/1875\u001b[0m \u001b[32m━━━━━━━━━━━━━━━━━━━━\u001b[0m\u001b[37m\u001b[0m \u001b[1m0s\u001b[0m 245us/step - accuracy: 0.9386 - loss: 0.2226\n",
      "Epoch 139/200\n",
      "\u001b[1m1875/1875\u001b[0m \u001b[32m━━━━━━━━━━━━━━━━━━━━\u001b[0m\u001b[37m\u001b[0m \u001b[1m0s\u001b[0m 244us/step - accuracy: 0.9390 - loss: 0.2162\n",
      "Epoch 140/200\n",
      "\u001b[1m1875/1875\u001b[0m \u001b[32m━━━━━━━━━━━━━━━━━━━━\u001b[0m\u001b[37m\u001b[0m \u001b[1m0s\u001b[0m 244us/step - accuracy: 0.9390 - loss: 0.2153\n",
      "Epoch 141/200\n",
      "\u001b[1m1875/1875\u001b[0m \u001b[32m━━━━━━━━━━━━━━━━━━━━\u001b[0m\u001b[37m\u001b[0m \u001b[1m0s\u001b[0m 244us/step - accuracy: 0.9403 - loss: 0.2148\n",
      "Epoch 142/200\n",
      "\u001b[1m1875/1875\u001b[0m \u001b[32m━━━━━━━━━━━━━━━━━━━━\u001b[0m\u001b[37m\u001b[0m \u001b[1m0s\u001b[0m 256us/step - accuracy: 0.9393 - loss: 0.2190\n",
      "Epoch 143/200\n",
      "\u001b[1m1875/1875\u001b[0m \u001b[32m━━━━━━━━━━━━━━━━━━━━\u001b[0m\u001b[37m\u001b[0m \u001b[1m0s\u001b[0m 259us/step - accuracy: 0.9378 - loss: 0.2173\n",
      "Epoch 144/200\n",
      "\u001b[1m1875/1875\u001b[0m \u001b[32m━━━━━━━━━━━━━━━━━━━━\u001b[0m\u001b[37m\u001b[0m \u001b[1m0s\u001b[0m 258us/step - accuracy: 0.9385 - loss: 0.2190\n",
      "Epoch 145/200\n",
      "\u001b[1m1875/1875\u001b[0m \u001b[32m━━━━━━━━━━━━━━━━━━━━\u001b[0m\u001b[37m\u001b[0m \u001b[1m0s\u001b[0m 251us/step - accuracy: 0.9412 - loss: 0.2126\n",
      "Epoch 146/200\n",
      "\u001b[1m1875/1875\u001b[0m \u001b[32m━━━━━━━━━━━━━━━━━━━━\u001b[0m\u001b[37m\u001b[0m \u001b[1m0s\u001b[0m 254us/step - accuracy: 0.9392 - loss: 0.2183\n",
      "Epoch 147/200\n",
      "\u001b[1m1875/1875\u001b[0m \u001b[32m━━━━━━━━━━━━━━━━━━━━\u001b[0m\u001b[37m\u001b[0m \u001b[1m0s\u001b[0m 254us/step - accuracy: 0.9391 - loss: 0.2236\n",
      "Epoch 148/200\n",
      "\u001b[1m1875/1875\u001b[0m \u001b[32m━━━━━━━━━━━━━━━━━━━━\u001b[0m\u001b[37m\u001b[0m \u001b[1m0s\u001b[0m 259us/step - accuracy: 0.9390 - loss: 0.2214\n",
      "Epoch 149/200\n",
      "\u001b[1m1875/1875\u001b[0m \u001b[32m━━━━━━━━━━━━━━━━━━━━\u001b[0m\u001b[37m\u001b[0m \u001b[1m0s\u001b[0m 253us/step - accuracy: 0.9403 - loss: 0.2177\n",
      "Epoch 150/200\n",
      "\u001b[1m1875/1875\u001b[0m \u001b[32m━━━━━━━━━━━━━━━━━━━━\u001b[0m\u001b[37m\u001b[0m \u001b[1m0s\u001b[0m 252us/step - accuracy: 0.9400 - loss: 0.2146\n",
      "Epoch 151/200\n",
      "\u001b[1m1875/1875\u001b[0m \u001b[32m━━━━━━━━━━━━━━━━━━━━\u001b[0m\u001b[37m\u001b[0m \u001b[1m0s\u001b[0m 250us/step - accuracy: 0.9409 - loss: 0.2124\n",
      "Epoch 152/200\n",
      "\u001b[1m1875/1875\u001b[0m \u001b[32m━━━━━━━━━━━━━━━━━━━━\u001b[0m\u001b[37m\u001b[0m \u001b[1m0s\u001b[0m 249us/step - accuracy: 0.9389 - loss: 0.2174\n",
      "Epoch 153/200\n",
      "\u001b[1m1875/1875\u001b[0m \u001b[32m━━━━━━━━━━━━━━━━━━━━\u001b[0m\u001b[37m\u001b[0m \u001b[1m0s\u001b[0m 252us/step - accuracy: 0.9396 - loss: 0.2169\n",
      "Epoch 154/200\n",
      "\u001b[1m1875/1875\u001b[0m \u001b[32m━━━━━━━━━━━━━━━━━━━━\u001b[0m\u001b[37m\u001b[0m \u001b[1m0s\u001b[0m 256us/step - accuracy: 0.9417 - loss: 0.2105\n",
      "Epoch 155/200\n",
      "\u001b[1m1875/1875\u001b[0m \u001b[32m━━━━━━━━━━━━━━━━━━━━\u001b[0m\u001b[37m\u001b[0m \u001b[1m0s\u001b[0m 252us/step - accuracy: 0.9396 - loss: 0.2128\n",
      "Epoch 156/200\n",
      "\u001b[1m1875/1875\u001b[0m \u001b[32m━━━━━━━━━━━━━━━━━━━━\u001b[0m\u001b[37m\u001b[0m \u001b[1m0s\u001b[0m 252us/step - accuracy: 0.9374 - loss: 0.2233\n",
      "Epoch 157/200\n",
      "\u001b[1m1875/1875\u001b[0m \u001b[32m━━━━━━━━━━━━━━━━━━━━\u001b[0m\u001b[37m\u001b[0m \u001b[1m0s\u001b[0m 259us/step - accuracy: 0.9383 - loss: 0.2168\n",
      "Epoch 158/200\n",
      "\u001b[1m1875/1875\u001b[0m \u001b[32m━━━━━━━━━━━━━━━━━━━━\u001b[0m\u001b[37m\u001b[0m \u001b[1m0s\u001b[0m 258us/step - accuracy: 0.9393 - loss: 0.2154\n",
      "Epoch 159/200\n",
      "\u001b[1m1875/1875\u001b[0m \u001b[32m━━━━━━━━━━━━━━━━━━━━\u001b[0m\u001b[37m\u001b[0m \u001b[1m0s\u001b[0m 257us/step - accuracy: 0.9417 - loss: 0.2085\n",
      "Epoch 160/200\n",
      "\u001b[1m1875/1875\u001b[0m \u001b[32m━━━━━━━━━━━━━━━━━━━━\u001b[0m\u001b[37m\u001b[0m \u001b[1m0s\u001b[0m 251us/step - accuracy: 0.9389 - loss: 0.2193\n",
      "Epoch 161/200\n",
      "\u001b[1m1875/1875\u001b[0m \u001b[32m━━━━━━━━━━━━━━━━━━━━\u001b[0m\u001b[37m\u001b[0m \u001b[1m0s\u001b[0m 251us/step - accuracy: 0.9412 - loss: 0.2137\n",
      "Epoch 162/200\n",
      "\u001b[1m1875/1875\u001b[0m \u001b[32m━━━━━━━━━━━━━━━━━━━━\u001b[0m\u001b[37m\u001b[0m \u001b[1m0s\u001b[0m 252us/step - accuracy: 0.9393 - loss: 0.2203\n",
      "Epoch 163/200\n",
      "\u001b[1m1875/1875\u001b[0m \u001b[32m━━━━━━━━━━━━━━━━━━━━\u001b[0m\u001b[37m\u001b[0m \u001b[1m0s\u001b[0m 250us/step - accuracy: 0.9405 - loss: 0.2143\n",
      "Epoch 164/200\n",
      "\u001b[1m1875/1875\u001b[0m \u001b[32m━━━━━━━━━━━━━━━━━━━━\u001b[0m\u001b[37m\u001b[0m \u001b[1m0s\u001b[0m 254us/step - accuracy: 0.9400 - loss: 0.2148\n",
      "Epoch 165/200\n",
      "\u001b[1m1875/1875\u001b[0m \u001b[32m━━━━━━━━━━━━━━━━━━━━\u001b[0m\u001b[37m\u001b[0m \u001b[1m0s\u001b[0m 256us/step - accuracy: 0.9403 - loss: 0.2129\n",
      "Epoch 166/200\n",
      "\u001b[1m1875/1875\u001b[0m \u001b[32m━━━━━━━━━━━━━━━━━━━━\u001b[0m\u001b[37m\u001b[0m \u001b[1m0s\u001b[0m 250us/step - accuracy: 0.9406 - loss: 0.2161\n",
      "Epoch 167/200\n",
      "\u001b[1m1875/1875\u001b[0m \u001b[32m━━━━━━━━━━━━━━━━━━━━\u001b[0m\u001b[37m\u001b[0m \u001b[1m0s\u001b[0m 254us/step - accuracy: 0.9397 - loss: 0.2113\n",
      "Epoch 168/200\n",
      "\u001b[1m1875/1875\u001b[0m \u001b[32m━━━━━━━━━━━━━━━━━━━━\u001b[0m\u001b[37m\u001b[0m \u001b[1m0s\u001b[0m 257us/step - accuracy: 0.9392 - loss: 0.2208\n",
      "Epoch 169/200\n",
      "\u001b[1m1875/1875\u001b[0m \u001b[32m━━━━━━━━━━━━━━━━━━━━\u001b[0m\u001b[37m\u001b[0m \u001b[1m0s\u001b[0m 252us/step - accuracy: 0.9409 - loss: 0.2188\n",
      "Epoch 170/200\n",
      "\u001b[1m1875/1875\u001b[0m \u001b[32m━━━━━━━━━━━━━━━━━━━━\u001b[0m\u001b[37m\u001b[0m \u001b[1m0s\u001b[0m 259us/step - accuracy: 0.9410 - loss: 0.2102\n",
      "Epoch 171/200\n",
      "\u001b[1m1875/1875\u001b[0m \u001b[32m━━━━━━━━━━━━━━━━━━━━\u001b[0m\u001b[37m\u001b[0m \u001b[1m0s\u001b[0m 257us/step - accuracy: 0.9399 - loss: 0.2225\n",
      "Epoch 172/200\n",
      "\u001b[1m1875/1875\u001b[0m \u001b[32m━━━━━━━━━━━━━━━━━━━━\u001b[0m\u001b[37m\u001b[0m \u001b[1m0s\u001b[0m 256us/step - accuracy: 0.9398 - loss: 0.2203\n",
      "Epoch 173/200\n",
      "\u001b[1m1875/1875\u001b[0m \u001b[32m━━━━━━━━━━━━━━━━━━━━\u001b[0m\u001b[37m\u001b[0m \u001b[1m0s\u001b[0m 253us/step - accuracy: 0.9395 - loss: 0.2153\n",
      "Epoch 174/200\n",
      "\u001b[1m1875/1875\u001b[0m \u001b[32m━━━━━━━━━━━━━━━━━━━━\u001b[0m\u001b[37m\u001b[0m \u001b[1m0s\u001b[0m 251us/step - accuracy: 0.9397 - loss: 0.2154\n",
      "Epoch 175/200\n",
      "\u001b[1m1875/1875\u001b[0m \u001b[32m━━━━━━━━━━━━━━━━━━━━\u001b[0m\u001b[37m\u001b[0m \u001b[1m0s\u001b[0m 253us/step - accuracy: 0.9392 - loss: 0.2134\n",
      "Epoch 176/200\n",
      "\u001b[1m1875/1875\u001b[0m \u001b[32m━━━━━━━━━━━━━━━━━━━━\u001b[0m\u001b[37m\u001b[0m \u001b[1m0s\u001b[0m 250us/step - accuracy: 0.9397 - loss: 0.2122\n",
      "Epoch 177/200\n",
      "\u001b[1m1875/1875\u001b[0m \u001b[32m━━━━━━━━━━━━━━━━━━━━\u001b[0m\u001b[37m\u001b[0m \u001b[1m0s\u001b[0m 250us/step - accuracy: 0.9411 - loss: 0.2150\n",
      "Epoch 178/200\n",
      "\u001b[1m1875/1875\u001b[0m \u001b[32m━━━━━━━━━━━━━━━━━━━━\u001b[0m\u001b[37m\u001b[0m \u001b[1m0s\u001b[0m 252us/step - accuracy: 0.9401 - loss: 0.2160\n",
      "Epoch 179/200\n",
      "\u001b[1m1875/1875\u001b[0m \u001b[32m━━━━━━━━━━━━━━━━━━━━\u001b[0m\u001b[37m\u001b[0m \u001b[1m0s\u001b[0m 253us/step - accuracy: 0.9409 - loss: 0.2146\n",
      "Epoch 180/200\n",
      "\u001b[1m1875/1875\u001b[0m \u001b[32m━━━━━━━━━━━━━━━━━━━━\u001b[0m\u001b[37m\u001b[0m \u001b[1m1s\u001b[0m 265us/step - accuracy: 0.9394 - loss: 0.2231\n",
      "Epoch 181/200\n",
      "\u001b[1m1875/1875\u001b[0m \u001b[32m━━━━━━━━━━━━━━━━━━━━\u001b[0m\u001b[37m\u001b[0m \u001b[1m0s\u001b[0m 254us/step - accuracy: 0.9396 - loss: 0.2168\n",
      "Epoch 182/200\n",
      "\u001b[1m1875/1875\u001b[0m \u001b[32m━━━━━━━━━━━━━━━━━━━━\u001b[0m\u001b[37m\u001b[0m \u001b[1m0s\u001b[0m 256us/step - accuracy: 0.9407 - loss: 0.2151\n",
      "Epoch 183/200\n",
      "\u001b[1m1875/1875\u001b[0m \u001b[32m━━━━━━━━━━━━━━━━━━━━\u001b[0m\u001b[37m\u001b[0m \u001b[1m0s\u001b[0m 244us/step - accuracy: 0.9413 - loss: 0.2129\n",
      "Epoch 184/200\n",
      "\u001b[1m1875/1875\u001b[0m \u001b[32m━━━━━━━━━━━━━━━━━━━━\u001b[0m\u001b[37m\u001b[0m \u001b[1m0s\u001b[0m 246us/step - accuracy: 0.9405 - loss: 0.2124\n",
      "Epoch 185/200\n",
      "\u001b[1m1875/1875\u001b[0m \u001b[32m━━━━━━━━━━━━━━━━━━━━\u001b[0m\u001b[37m\u001b[0m \u001b[1m0s\u001b[0m 260us/step - accuracy: 0.9410 - loss: 0.2115\n",
      "Epoch 186/200\n",
      "\u001b[1m1875/1875\u001b[0m \u001b[32m━━━━━━━━━━━━━━━━━━━━\u001b[0m\u001b[37m\u001b[0m \u001b[1m0s\u001b[0m 254us/step - accuracy: 0.9413 - loss: 0.2106\n",
      "Epoch 187/200\n",
      "\u001b[1m1875/1875\u001b[0m \u001b[32m━━━━━━━━━━━━━━━━━━━━\u001b[0m\u001b[37m\u001b[0m \u001b[1m0s\u001b[0m 254us/step - accuracy: 0.9395 - loss: 0.2160\n",
      "Epoch 188/200\n",
      "\u001b[1m1875/1875\u001b[0m \u001b[32m━━━━━━━━━━━━━━━━━━━━\u001b[0m\u001b[37m\u001b[0m \u001b[1m0s\u001b[0m 254us/step - accuracy: 0.9396 - loss: 0.2141\n",
      "Epoch 189/200\n",
      "\u001b[1m1875/1875\u001b[0m \u001b[32m━━━━━━━━━━━━━━━━━━━━\u001b[0m\u001b[37m\u001b[0m \u001b[1m0s\u001b[0m 253us/step - accuracy: 0.9414 - loss: 0.2136\n",
      "Epoch 190/200\n",
      "\u001b[1m1875/1875\u001b[0m \u001b[32m━━━━━━━━━━━━━━━━━━━━\u001b[0m\u001b[37m\u001b[0m \u001b[1m0s\u001b[0m 253us/step - accuracy: 0.9407 - loss: 0.2121\n",
      "Epoch 191/200\n",
      "\u001b[1m1875/1875\u001b[0m \u001b[32m━━━━━━━━━━━━━━━━━━━━\u001b[0m\u001b[37m\u001b[0m \u001b[1m0s\u001b[0m 253us/step - accuracy: 0.9391 - loss: 0.2179\n",
      "Epoch 192/200\n",
      "\u001b[1m1875/1875\u001b[0m \u001b[32m━━━━━━━━━━━━━━━━━━━━\u001b[0m\u001b[37m\u001b[0m \u001b[1m0s\u001b[0m 254us/step - accuracy: 0.9401 - loss: 0.2170\n",
      "Epoch 193/200\n",
      "\u001b[1m1875/1875\u001b[0m \u001b[32m━━━━━━━━━━━━━━━━━━━━\u001b[0m\u001b[37m\u001b[0m \u001b[1m0s\u001b[0m 253us/step - accuracy: 0.9392 - loss: 0.2179\n",
      "Epoch 194/200\n",
      "\u001b[1m1875/1875\u001b[0m \u001b[32m━━━━━━━━━━━━━━━━━━━━\u001b[0m\u001b[37m\u001b[0m \u001b[1m0s\u001b[0m 255us/step - accuracy: 0.9396 - loss: 0.2162\n",
      "Epoch 195/200\n",
      "\u001b[1m1875/1875\u001b[0m \u001b[32m━━━━━━━━━━━━━━━━━━━━\u001b[0m\u001b[37m\u001b[0m \u001b[1m0s\u001b[0m 259us/step - accuracy: 0.9407 - loss: 0.2126\n",
      "Epoch 196/200\n",
      "\u001b[1m1875/1875\u001b[0m \u001b[32m━━━━━━━━━━━━━━━━━━━━\u001b[0m\u001b[37m\u001b[0m \u001b[1m0s\u001b[0m 262us/step - accuracy: 0.9401 - loss: 0.2192\n",
      "Epoch 197/200\n",
      "\u001b[1m1875/1875\u001b[0m \u001b[32m━━━━━━━━━━━━━━━━━━━━\u001b[0m\u001b[37m\u001b[0m \u001b[1m0s\u001b[0m 246us/step - accuracy: 0.9414 - loss: 0.2097\n",
      "Epoch 198/200\n",
      "\u001b[1m1875/1875\u001b[0m \u001b[32m━━━━━━━━━━━━━━━━━━━━\u001b[0m\u001b[37m\u001b[0m \u001b[1m0s\u001b[0m 258us/step - accuracy: 0.9404 - loss: 0.2090\n",
      "Epoch 199/200\n",
      "\u001b[1m1875/1875\u001b[0m \u001b[32m━━━━━━━━━━━━━━━━━━━━\u001b[0m\u001b[37m\u001b[0m \u001b[1m0s\u001b[0m 257us/step - accuracy: 0.9394 - loss: 0.2170\n",
      "Epoch 200/200\n",
      "\u001b[1m1875/1875\u001b[0m \u001b[32m━━━━━━━━━━━━━━━━━━━━\u001b[0m\u001b[37m\u001b[0m \u001b[1m0s\u001b[0m 257us/step - accuracy: 0.9399 - loss: 0.2161\n"
     ]
    },
    {
     "data": {
      "text/plain": [
       "<keras.src.callbacks.history.History at 0x176ef75f0>"
      ]
     },
     "execution_count": 19,
     "metadata": {},
     "output_type": "execute_result"
    }
   ],
   "source": [
    "nn0.fit(X_train, y_train, epochs = 200)"
   ]
  },
  {
   "cell_type": "code",
   "execution_count": 21,
   "id": "7b0e3e5a-19ce-470b-98e1-ec3e41def796",
   "metadata": {},
   "outputs": [
    {
     "name": "stdout",
     "output_type": "stream",
     "text": [
      "\u001b[1m313/313\u001b[0m \u001b[32m━━━━━━━━━━━━━━━━━━━━\u001b[0m\u001b[37m\u001b[0m \u001b[1m0s\u001b[0m 246us/step - accuracy: 0.9122 - loss: 0.3571\n"
     ]
    },
    {
     "data": {
      "text/plain": [
       "[0.3192741274833679, 0.9246000051498413]"
      ]
     },
     "execution_count": 21,
     "metadata": {},
     "output_type": "execute_result"
    }
   ],
   "source": [
    "nn0.evaluate(X_test, y_test)"
   ]
  },
  {
   "cell_type": "markdown",
   "id": "ecc16c2c-126a-4de4-a8df-5a2de3cd2f57",
   "metadata": {},
   "source": [
    "## Deuxième modèle\n",
    "\n",
    "Réseau minimaliste : juste un neurone\n",
    "\n",
    "Pour palier au problème de nombre d'epochs a priori inconnu, on va introduire ici un mécanisme de monitoring pour s'arrêter lorsque l'apprentissage commence à stagner."
   ]
  },
  {
   "cell_type": "code",
   "execution_count": 24,
   "id": "54c960ae-7d9c-45c1-bc24-f343f6a505af",
   "metadata": {},
   "outputs": [],
   "source": [
    "from keras.callbacks import Callback"
   ]
  },
  {
   "cell_type": "code",
   "execution_count": 26,
   "id": "c7e9e52d-1469-4d61-9cbd-1bf38fec8692",
   "metadata": {},
   "outputs": [],
   "source": [
    "class Moniteur(Callback):\n",
    "    # Moniteur hérite la structure générale (code de base) de Callback\n",
    "    # pour être capable d'intéragir avec model.fit()\n",
    "    # Ici nous apportons des modifications (redéfinition d'une fonction ou deux)\n",
    "    # pour avoir une fonctionnalité sur mesure (on customise)\n",
    "    def on_epoch_end(self, epoch, logs):\n",
    "        # ces arguments sont remplis automatiquement par model.fit()\n",
    "        # epoch : numéro d'epoch, logs : info sur l'apprentissage (loss, métriques...)\n",
    "        if epoch % 5 == 0:\n",
    "            print(f\"Epoch {epoch} finie !\")\n",
    "            print(logs)\n",
    "            print(\"\\n-----------------\")"
   ]
  },
  {
   "cell_type": "code",
   "execution_count": 28,
   "id": "3dca3c36-0019-46b8-86ba-11c1936ec80f",
   "metadata": {},
   "outputs": [],
   "source": [
    "mon_moniteur = Moniteur() # init d'objet à insérer dans l'apprentissage"
   ]
  },
  {
   "cell_type": "code",
   "execution_count": 30,
   "id": "6dd051b4-e41b-4f80-ac7d-cc583da3376f",
   "metadata": {},
   "outputs": [],
   "source": [
    "nn2 = Sequential([\n",
    "    keras.Input(shape=(28, 28)),\n",
    "    layers.Flatten(), # couche Dense exige l'entrée 1D 'plate'\n",
    "    layers.Dense(1, activation = 'relu'),\n",
    "    layers.Dense(10, activation = 'softmax')\n",
    "])"
   ]
  },
  {
   "cell_type": "code",
   "execution_count": 32,
   "id": "3cc0e323-78bd-4ef9-b4b6-6d4760378c4f",
   "metadata": {},
   "outputs": [],
   "source": [
    "nn2.compile(loss='categorical_crossentropy',\n",
    "            optimizer='adam',\n",
    "            metrics=['accuracy'])"
   ]
  },
  {
   "cell_type": "code",
   "execution_count": 34,
   "id": "4d54bc9e-b9a3-4b72-b481-42fe98e23aaf",
   "metadata": {
    "scrolled": true
   },
   "outputs": [
    {
     "name": "stdout",
     "output_type": "stream",
     "text": [
      "Epoch 0 finie !\n",
      "{'accuracy': 0.2141960710287094, 'loss': 2.0007259845733643, 'val_accuracy': 0.24744445085525513, 'val_loss': 1.884188175201416}\n",
      "\n",
      "-----------------\n",
      "Epoch 5 finie !\n",
      "{'accuracy': 0.2947843074798584, 'loss': 1.7033792734146118, 'val_accuracy': 0.29911109805107117, 'val_loss': 1.6859731674194336}\n",
      "\n",
      "-----------------\n",
      "Epoch 10 finie !\n",
      "{'accuracy': 0.3271960914134979, 'loss': 1.6594709157943726, 'val_accuracy': 0.3316666781902313, 'val_loss': 1.645410180091858}\n",
      "\n",
      "-----------------\n",
      "Epoch 15 finie !\n",
      "{'accuracy': 0.33988234400749207, 'loss': 1.642729640007019, 'val_accuracy': 0.33399999141693115, 'val_loss': 1.6300495862960815}\n",
      "\n",
      "-----------------\n",
      "Epoch 20 finie !\n",
      "{'accuracy': 0.3459411859512329, 'loss': 1.6337252855300903, 'val_accuracy': 0.3422222137451172, 'val_loss': 1.6209691762924194}\n",
      "\n",
      "-----------------\n",
      "Epoch 25 finie !\n",
      "{'accuracy': 0.34974509477615356, 'loss': 1.627564549446106, 'val_accuracy': 0.3508888781070709, 'val_loss': 1.613179087638855}\n",
      "\n",
      "-----------------\n",
      "Epoch 30 finie !\n",
      "{'accuracy': 0.3544313609600067, 'loss': 1.6235321760177612, 'val_accuracy': 0.3547777831554413, 'val_loss': 1.611411452293396}\n",
      "\n",
      "-----------------\n",
      "Epoch 35 finie !\n",
      "{'accuracy': 0.35454902052879333, 'loss': 1.620418667793274, 'val_accuracy': 0.35288888216018677, 'val_loss': 1.608681559562683}\n",
      "\n",
      "-----------------\n",
      "Epoch 40 finie !\n",
      "{'accuracy': 0.3589411675930023, 'loss': 1.6190121173858643, 'val_accuracy': 0.36633333563804626, 'val_loss': 1.6048327684402466}\n",
      "\n",
      "-----------------\n",
      "Epoch 45 finie !\n",
      "{'accuracy': 0.35947057604789734, 'loss': 1.6170454025268555, 'val_accuracy': 0.3513333201408386, 'val_loss': 1.6037054061889648}\n",
      "\n",
      "-----------------\n",
      "Epoch 50 finie !\n",
      "{'accuracy': 0.36223530769348145, 'loss': 1.6156634092330933, 'val_accuracy': 0.3623333275318146, 'val_loss': 1.6020125150680542}\n",
      "\n",
      "-----------------\n",
      "Epoch 55 finie !\n",
      "{'accuracy': 0.36227449774742126, 'loss': 1.614331603050232, 'val_accuracy': 0.35899999737739563, 'val_loss': 1.600168228149414}\n",
      "\n",
      "-----------------\n"
     ]
    },
    {
     "data": {
      "text/plain": [
       "<keras.src.callbacks.history.History at 0x177e8c1d0>"
      ]
     },
     "execution_count": 34,
     "metadata": {},
     "output_type": "execute_result"
    }
   ],
   "source": [
    "nn2.fit(X_train, y_train,\n",
    "        epochs = 60,  # je n'ai pas encore le contrôle dynamique...\n",
    "        validation_split = 0.15, # 15 pourcent de X_train sera mis de côté pour avoir validation\n",
    "        # durant l'apprentissage\n",
    "        verbose = 0,  # faire taire des messages par défaut (puisqu'on a notre propre Moniteur)\n",
    "        callbacks = [mon_moniteur]\n",
    "       )"
   ]
  },
  {
   "cell_type": "code",
   "execution_count": 36,
   "id": "02737a31-4e21-40ba-bf05-c298538a10b2",
   "metadata": {},
   "outputs": [
    {
     "name": "stdout",
     "output_type": "stream",
     "text": [
      "\u001b[1m313/313\u001b[0m \u001b[32m━━━━━━━━━━━━━━━━━━━━\u001b[0m\u001b[37m\u001b[0m \u001b[1m0s\u001b[0m 257us/step - accuracy: 0.3713 - loss: 1.6359\n"
     ]
    },
    {
     "data": {
      "text/plain": [
       "[1.613303303718567, 0.3736000061035156]"
      ]
     },
     "execution_count": 36,
     "metadata": {},
     "output_type": "execute_result"
    }
   ],
   "source": [
    "nn2.evaluate(X_test, y_test)"
   ]
  },
  {
   "cell_type": "markdown",
   "id": "c2aedd3f-dbe8-4e61-8713-f48da4869fe3",
   "metadata": {},
   "source": [
    "### Remarque\n",
    "\n",
    "Sans surprise, c'est très mauvais...\n",
    "En effet, l'information passe par une couche latente uni-dimensionnelle (1 seul neurone), c'est à dire on essaie d'encoder 10 classes dans un intervalle de R. Humainement c'est possible et facile, mais c'est une chose que les réseaux de neurones font mal. Un réseau a besoin de grande dimension ! \n",
    "Classiquement : malédiction de grande dimension.\n",
    "RN : bénédiction de grande dimension."
   ]
  },
  {
   "cell_type": "markdown",
   "id": "ea6ef211-633e-4d48-8fff-f12ad9b126d3",
   "metadata": {},
   "source": [
    "## Troisième modèle \n",
    "\n",
    "Couche latente de deux neurones"
   ]
  },
  {
   "cell_type": "markdown",
   "id": "bc6b9a8c-64ff-41ca-a1c2-791137ade250",
   "metadata": {},
   "source": [
    "On se propose de rajouter maintenant un mécanisme d'arrêt automatique d'apprentissage (EarlyStopping)."
   ]
  },
  {
   "cell_type": "code",
   "execution_count": 38,
   "id": "50d7d4c1-4edd-4299-bebb-6cfdffcd4bc5",
   "metadata": {},
   "outputs": [],
   "source": [
    "nn3 = Sequential([\n",
    "    keras.Input(shape=(28, 28)),\n",
    "    layers.Flatten(), # couche Dense exige l'entrée 1D 'plate'\n",
    "    layers.Dense(2, activation = 'relu'),\n",
    "    layers.Dense(10, activation = 'softmax')\n",
    "])"
   ]
  },
  {
   "cell_type": "code",
   "execution_count": 40,
   "id": "ccd934ea-44a1-48f1-be67-f884e65b4d3d",
   "metadata": {},
   "outputs": [],
   "source": [
    "nn3.compile(loss='categorical_crossentropy',\n",
    "            optimizer='adam',\n",
    "            metrics=['accuracy'])"
   ]
  },
  {
   "cell_type": "code",
   "execution_count": 42,
   "id": "a001cc4a-655e-4cca-b2e9-692b786e22c7",
   "metadata": {},
   "outputs": [],
   "source": [
    "from keras.callbacks import EarlyStopping"
   ]
  },
  {
   "cell_type": "code",
   "execution_count": 44,
   "id": "28d01ab4-dfaf-439d-8a84-b6bd88f9107e",
   "metadata": {
    "scrolled": true
   },
   "outputs": [
    {
     "name": "stdout",
     "output_type": "stream",
     "text": [
      "Epoch 0 finie !\n",
      "{'accuracy': 0.40741175413131714, 'loss': 1.657813310623169, 'val_accuracy': 0.492000013589859, 'val_loss': 1.3924615383148193}\n",
      "\n",
      "-----------------\n",
      "Epoch 5 finie !\n",
      "{'accuracy': 0.6136274337768555, 'loss': 1.1336184740066528, 'val_accuracy': 0.6331111192703247, 'val_loss': 1.0855114459991455}\n",
      "\n",
      "-----------------\n",
      "Epoch 10 finie !\n",
      "{'accuracy': 0.6570980548858643, 'loss': 1.039161205291748, 'val_accuracy': 0.6826666593551636, 'val_loss': 0.9866008162498474}\n",
      "\n",
      "-----------------\n",
      "Epoch 15 finie !\n",
      "{'accuracy': 0.6954313516616821, 'loss': 0.9845681190490723, 'val_accuracy': 0.7097777724266052, 'val_loss': 0.930296003818512}\n",
      "\n",
      "-----------------\n",
      "Epoch 20 finie !\n",
      "{'accuracy': 0.7008431553840637, 'loss': 0.963955819606781, 'val_accuracy': 0.7158889174461365, 'val_loss': 0.9114396572113037}\n",
      "\n",
      "-----------------\n",
      "Epoch 25 finie !\n",
      "{'accuracy': 0.7010980248451233, 'loss': 0.9536973237991333, 'val_accuracy': 0.7210000157356262, 'val_loss': 0.8994724154472351}\n",
      "\n",
      "-----------------\n",
      "Epoch 30 finie !\n",
      "{'accuracy': 0.7026470303535461, 'loss': 0.9476780295372009, 'val_accuracy': 0.7243333458900452, 'val_loss': 0.8970217108726501}\n",
      "\n",
      "-----------------\n"
     ]
    },
    {
     "data": {
      "text/plain": [
       "<keras.src.callbacks.history.History at 0x311f35a30>"
      ]
     },
     "execution_count": 44,
     "metadata": {},
     "output_type": "execute_result"
    }
   ],
   "source": [
    "nn3.fit(X_train, y_train,\n",
    "        epochs = 200,   # limite supérieur, on va s'arrêter bien avant\n",
    "        validation_split = 0.15, # 15 pourcent de X_train sera mis de côté pour avoir validation\n",
    "        # durant l'apprentissage\n",
    "        verbose = 0,  # faire taire des messages par défaut (puisqu'on a notre propre Moniteur)\n",
    "        callbacks = [mon_moniteur,\n",
    "                    EarlyStopping(monitor='val_accuracy', patience=10)\n",
    "                    ])"
   ]
  },
  {
   "cell_type": "markdown",
   "id": "c2e21b68-9ae7-41d3-8313-59695c1e3823",
   "metadata": {},
   "source": [
    "EarlyStopping a bien fonctionné ! On s'est arrêté au bout de ~40 époques, avec l'exactitude maximal possible pour ce réseau."
   ]
  },
  {
   "cell_type": "code",
   "execution_count": 46,
   "id": "526b0ee0-676e-4959-bcff-99b1974656f2",
   "metadata": {},
   "outputs": [
    {
     "name": "stdout",
     "output_type": "stream",
     "text": [
      "\u001b[1m313/313\u001b[0m \u001b[32m━━━━━━━━━━━━━━━━━━━━\u001b[0m\u001b[37m\u001b[0m \u001b[1m0s\u001b[0m 269us/step - accuracy: 0.7010 - loss: 0.9887\n"
     ]
    },
    {
     "data": {
      "text/plain": [
       "[0.9438548684120178, 0.7141000032424927]"
      ]
     },
     "execution_count": 46,
     "metadata": {},
     "output_type": "execute_result"
    }
   ],
   "source": [
    "nn3.evaluate(X_test, y_test)"
   ]
  },
  {
   "cell_type": "markdown",
   "id": "1f34455b-c788-4923-8153-4f33d0732761",
   "metadata": {},
   "source": [
    "Exactitude bien meilleure (mais toujours faible, comme l'espace latent est encore assez pauvre)."
   ]
  },
  {
   "cell_type": "markdown",
   "id": "00ca87a2-1e6d-4498-bc7d-08597d843719",
   "metadata": {},
   "source": [
    "## Quatrième modèle\n",
    "\n",
    "Trois neurones.\n",
    "Aussi on introduira un mécanisme de sauvegarde et reconstruction du meilleur modèle sur le trajet d'apprentissage."
   ]
  },
  {
   "cell_type": "code",
   "execution_count": 48,
   "id": "e694183f-5a6d-43a4-9068-a3fed594bbbc",
   "metadata": {},
   "outputs": [],
   "source": [
    "nn4 = Sequential([\n",
    "    keras.Input(shape=(28, 28)),\n",
    "    layers.Flatten(), # couche Dense exige l'entrée 1D 'plate'\n",
    "    layers.Dense(3, activation = 'relu'),\n",
    "    layers.Dense(10, activation = 'softmax')\n",
    "])"
   ]
  },
  {
   "cell_type": "code",
   "execution_count": 50,
   "id": "7fbdc91b-3380-4d5a-b9fd-333c4bb6a186",
   "metadata": {},
   "outputs": [],
   "source": [
    "nn4.compile(loss='categorical_crossentropy',\n",
    "            optimizer='adam',\n",
    "            metrics=['accuracy'])"
   ]
  },
  {
   "cell_type": "code",
   "execution_count": 52,
   "id": "1094c015-7e68-4ed7-b514-c1f5e2dd0c8d",
   "metadata": {},
   "outputs": [],
   "source": [
    "opt_stop = EarlyStopping(monitor='val_accuracy', # ou 'val_loss'\n",
    "                        patience=10,\n",
    "                        restore_best_weights=True)"
   ]
  },
  {
   "cell_type": "code",
   "execution_count": 54,
   "id": "08dc98db-e023-406e-a328-cd4062616afd",
   "metadata": {
    "scrolled": true
   },
   "outputs": [
    {
     "name": "stdout",
     "output_type": "stream",
     "text": [
      "Epoch 0 finie !\n",
      "{'accuracy': 0.39264705777168274, 'loss': 1.6560041904449463, 'val_accuracy': 0.6060000061988831, 'val_loss': 1.1675937175750732}\n",
      "\n",
      "-----------------\n",
      "Epoch 5 finie !\n",
      "{'accuracy': 0.766372561454773, 'loss': 0.7336027026176453, 'val_accuracy': 0.7839999794960022, 'val_loss': 0.6588708758354187}\n",
      "\n",
      "-----------------\n",
      "Epoch 10 finie !\n",
      "{'accuracy': 0.7933529615402222, 'loss': 0.6777204871177673, 'val_accuracy': 0.7996666431427002, 'val_loss': 0.6268792748451233}\n",
      "\n",
      "-----------------\n",
      "Epoch 15 finie !\n",
      "{'accuracy': 0.8015294075012207, 'loss': 0.6587459444999695, 'val_accuracy': 0.8113333582878113, 'val_loss': 0.6056952476501465}\n",
      "\n",
      "-----------------\n",
      "Epoch 20 finie !\n",
      "{'accuracy': 0.8060196042060852, 'loss': 0.6495605111122131, 'val_accuracy': 0.8144444227218628, 'val_loss': 0.5975280404090881}\n",
      "\n",
      "-----------------\n",
      "Epoch 25 finie !\n",
      "{'accuracy': 0.8091764450073242, 'loss': 0.6444031000137329, 'val_accuracy': 0.815666675567627, 'val_loss': 0.5975708961486816}\n",
      "\n",
      "-----------------\n",
      "Epoch 30 finie !\n",
      "{'accuracy': 0.8094902038574219, 'loss': 0.64023756980896, 'val_accuracy': 0.8191111087799072, 'val_loss': 0.5961667895317078}\n",
      "\n",
      "-----------------\n",
      "Epoch 35 finie !\n",
      "{'accuracy': 0.8124313950538635, 'loss': 0.6377096176147461, 'val_accuracy': 0.8213333487510681, 'val_loss': 0.5876446962356567}\n",
      "\n",
      "-----------------\n",
      "Epoch 40 finie !\n",
      "{'accuracy': 0.8125882148742676, 'loss': 0.634017825126648, 'val_accuracy': 0.8225555419921875, 'val_loss': 0.5862980484962463}\n",
      "\n",
      "-----------------\n",
      "Epoch 45 finie !\n",
      "{'accuracy': 0.8135490417480469, 'loss': 0.6315951943397522, 'val_accuracy': 0.8228889107704163, 'val_loss': 0.584507405757904}\n",
      "\n",
      "-----------------\n",
      "Epoch 50 finie !\n",
      "{'accuracy': 0.8148823380470276, 'loss': 0.6275373697280884, 'val_accuracy': 0.8198888897895813, 'val_loss': 0.5833718776702881}\n",
      "\n",
      "-----------------\n",
      "Epoch 55 finie !\n",
      "{'accuracy': 0.8141764998435974, 'loss': 0.6250025629997253, 'val_accuracy': 0.8235555291175842, 'val_loss': 0.5776662230491638}\n",
      "\n",
      "-----------------\n",
      "Epoch 60 finie !\n",
      "{'accuracy': 0.8145686388015747, 'loss': 0.621362566947937, 'val_accuracy': 0.8198888897895813, 'val_loss': 0.5843780636787415}\n",
      "\n",
      "-----------------\n",
      "Epoch 65 finie !\n",
      "{'accuracy': 0.8140588402748108, 'loss': 0.619495689868927, 'val_accuracy': 0.8221111297607422, 'val_loss': 0.5793525576591492}\n",
      "\n",
      "-----------------\n"
     ]
    },
    {
     "data": {
      "text/plain": [
       "<keras.src.callbacks.history.History at 0x312334cb0>"
      ]
     },
     "execution_count": 54,
     "metadata": {},
     "output_type": "execute_result"
    }
   ],
   "source": [
    "nn4.fit(X_train, y_train,\n",
    "        epochs = 300, \n",
    "        validation_split = 0.15,\n",
    "        # durant l'apprentissage\n",
    "        verbose = 0,\n",
    "        callbacks = [mon_moniteur, opt_stop])"
   ]
  },
  {
   "cell_type": "code",
   "execution_count": 56,
   "id": "1a36b6e4-24c6-42cc-bd2b-3914c0d5ee20",
   "metadata": {},
   "outputs": [
    {
     "name": "stdout",
     "output_type": "stream",
     "text": [
      "\u001b[1m313/313\u001b[0m \u001b[32m━━━━━━━━━━━━━━━━━━━━\u001b[0m\u001b[37m\u001b[0m \u001b[1m0s\u001b[0m 272us/step - accuracy: 0.7948 - loss: 0.7009\n"
     ]
    },
    {
     "data": {
      "text/plain": [
       "[0.6279044151306152, 0.8191999793052673]"
      ]
     },
     "execution_count": 56,
     "metadata": {},
     "output_type": "execute_result"
    }
   ],
   "source": [
    "nn4.evaluate(X_test, y_test)"
   ]
  },
  {
   "cell_type": "markdown",
   "id": "9a591f48-975d-4485-a81c-c78b1bd1df2f",
   "metadata": {},
   "source": [
    "Ici les oscillations de val_acc sont minimes, on ne voit pas très nettement le gain avec le retour au meilleur modèle (mais cela a fonctionné)."
   ]
  }
 ],
 "metadata": {
  "kernelspec": {
   "display_name": "Python 3 (ipykernel)",
   "language": "python",
   "name": "python3"
  },
  "language_info": {
   "codemirror_mode": {
    "name": "ipython",
    "version": 3
   },
   "file_extension": ".py",
   "mimetype": "text/x-python",
   "name": "python",
   "nbconvert_exporter": "python",
   "pygments_lexer": "ipython3",
   "version": "3.12.7"
  }
 },
 "nbformat": 4,
 "nbformat_minor": 5
}
