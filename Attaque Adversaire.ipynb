{
 "cells": [
  {
   "cell_type": "markdown",
   "id": "90c4054f-1613-4421-b2e6-9f0d212c1cb9",
   "metadata": {},
   "source": [
    "# Analyse et attaque adversaire \n",
    "\n",
    "sur un classifieur ultra-simple, c-a-d. un seul neurone sigmoidale (une regression logistique) sur MINISTm(pour Deep Learning)"
   ]
  },
  {
   "cell_type": "markdown",
   "id": "37b74fd1-cae3-4fe2-a555-4c5d14c18ae9",
   "metadata": {},
   "source": [
    "En résumé, le principe d’une attaque adversaire est de manipuler légèrement une entrée en exploitant les informations sur le gradient de la perte pour induire une erreur dans la prédiction du modèle. Ces attaques mettent en lumière la nécessité de concevoir des modèles plus robustes et de développer des méthodes pour détecter et contrer ces manipulations."
   ]
  },
  {
   "cell_type": "code",
   "execution_count": 44,
   "id": "08154ed6-fcac-4acf-9285-42e9868cee7b",
   "metadata": {},
   "outputs": [],
   "source": [
    "import numpy as np \n",
    "import keras\n",
    "import matplotlib.pyplot as plt\n",
    "from keras import layers\n",
    "from keras.datasets import mnist\n",
    "from keras.models import Sequential "
   ]
  },
  {
   "cell_type": "code",
   "execution_count": 3,
   "id": "09a11131-74f7-47dd-bcec-c878a9da243b",
   "metadata": {},
   "outputs": [],
   "source": [
    "seplin = Sequential([\n",
    "    # mnist: images 28x28 des chiffres ecrits a la main \n",
    "    keras.Input(shape=(28,28)),\n",
    "    layers.Flatten(),  # juste changement de forme,\n",
    "    # on convertit  une matrice 28x28 en un vecteur 1D de taille (784, )\n",
    "    layers.Dense(1, activation='sigmoid')\n",
    "])"
   ]
  },
  {
   "cell_type": "code",
   "execution_count": 4,
   "id": "7c9d80fc-e9f2-4631-8b27-7da8219c38ae",
   "metadata": {},
   "outputs": [],
   "source": [
    "seplin.compile(loss='binary_crossentropy', # pour la classif. binaire\n",
    "               optimizer='adam',\n",
    "               metrics=['accuracy']\n",
    "              )"
   ]
  },
  {
   "cell_type": "code",
   "execution_count": 5,
   "id": "0611415f-c85d-4640-90c9-412bdc887936",
   "metadata": {},
   "outputs": [],
   "source": [
    "# Donnée\n",
    "(train_data, train_labels), (test_data, test_labels) = mnist.load_data()"
   ]
  },
  {
   "cell_type": "code",
   "execution_count": 6,
   "id": "ddae67ee-679a-4007-933d-36d1b594e571",
   "metadata": {},
   "outputs": [],
   "source": [
    "# normalisation \n",
    "def preprocessing(tab):\n",
    "    a = tab.astype('float32') / 255.0\n",
    "    return a"
   ]
  },
  {
   "cell_type": "code",
   "execution_count": 7,
   "id": "1b91c936-d698-4f59-b9a6-0e417611b588",
   "metadata": {},
   "outputs": [],
   "source": [
    "X_train = preprocessing(train_data)\n",
    "X_test = preprocessing(test_data)"
   ]
  },
  {
   "cell_type": "code",
   "execution_count": 8,
   "id": "38d3bb0f-1c23-440d-b430-f9fe29e83c98",
   "metadata": {},
   "outputs": [
    {
     "data": {
      "text/plain": [
       "array([5, 0, 4, 1, 9, 2, 1, 3, 1, 4], dtype=uint8)"
      ]
     },
     "execution_count": 8,
     "metadata": {},
     "output_type": "execute_result"
    }
   ],
   "source": [
    "train_labels[:10]"
   ]
  },
  {
   "cell_type": "code",
   "execution_count": 9,
   "id": "fa88bb64-0ea5-457a-b2b2-b8ea052afd40",
   "metadata": {},
   "outputs": [],
   "source": [
    "from keras.utils import to_categorical \n",
    "y_train_cat = to_categorical(train_labels)\n",
    "y_trest_cat = to_categorical(test_labels)"
   ]
  },
  {
   "cell_type": "code",
   "execution_count": 10,
   "id": "2f486715-290e-49a3-9168-d5f13611794a",
   "metadata": {},
   "outputs": [
    {
     "data": {
      "text/plain": [
       "array([[0., 0., 0., 0., 0., 1., 0., 0., 0., 0.],\n",
       "       [1., 0., 0., 0., 0., 0., 0., 0., 0., 0.],\n",
       "       [0., 0., 0., 0., 1., 0., 0., 0., 0., 0.],\n",
       "       [0., 1., 0., 0., 0., 0., 0., 0., 0., 0.],\n",
       "       [0., 0., 0., 0., 0., 0., 0., 0., 0., 1.],\n",
       "       [0., 0., 1., 0., 0., 0., 0., 0., 0., 0.],\n",
       "       [0., 1., 0., 0., 0., 0., 0., 0., 0., 0.],\n",
       "       [0., 0., 0., 1., 0., 0., 0., 0., 0., 0.],\n",
       "       [0., 1., 0., 0., 0., 0., 0., 0., 0., 0.],\n",
       "       [0., 0., 0., 0., 1., 0., 0., 0., 0., 0.]])"
      ]
     },
     "execution_count": 10,
     "metadata": {},
     "output_type": "execute_result"
    }
   ],
   "source": [
    "y_train_cat[:10]"
   ]
  },
  {
   "cell_type": "code",
   "execution_count": 20,
   "id": "fe04af20-dc36-4bfa-84c6-20a9f476f602",
   "metadata": {},
   "outputs": [
    {
     "data": {
      "text/plain": [
       "(28, 28)"
      ]
     },
     "execution_count": 20,
     "metadata": {},
     "output_type": "execute_result"
    }
   ],
   "source": [
    "X_train[0].shape"
   ]
  },
  {
   "cell_type": "code",
   "execution_count": 26,
   "id": "8b0e6506-a38a-47ad-bb49-8e751c25c74a",
   "metadata": {},
   "outputs": [
    {
     "data": {
      "image/png": "[encoded data removed]",
      "text/plain": [
       "<Figure size 640x480 with 12 Axes>"
      ]
     },
     "metadata": {},
     "output_type": "display_data"
    }
   ],
   "source": [
    "# Visu\n",
    "imgs = X_train[:12, :]\n",
    "for i in range(12):\n",
    "    plt.subplot(3, 4, i+1)  # une grille d'images\n",
    "    plt.imshow(imgs[i], cmap='viridis')\n",
    "plt.show()"
   ]
  },
  {
   "cell_type": "code",
   "execution_count": 28,
   "id": "ac86937e-8f12-4562-87ba-3f2eebf48854",
   "metadata": {},
   "outputs": [
    {
     "data": {
      "text/plain": [
       "(60000, 28, 28)"
      ]
     },
     "execution_count": 28,
     "metadata": {},
     "output_type": "execute_result"
    }
   ],
   "source": [
    "X_train.shape"
   ]
  },
  {
   "cell_type": "code",
   "execution_count": 30,
   "id": "f60420b7-a79b-48e8-8acf-12a4bb0d606e",
   "metadata": {},
   "outputs": [
    {
     "data": {
      "text/plain": [
       "(10000, 28, 28)"
      ]
     },
     "execution_count": 30,
     "metadata": {},
     "output_type": "execute_result"
    }
   ],
   "source": [
    "X_test.shape"
   ]
  },
  {
   "cell_type": "code",
   "execution_count": 48,
   "id": "2de4ad1a-383f-4d37-89a7-9902bad72100",
   "metadata": {},
   "outputs": [],
   "source": [
    "# decomposition en 2 classes : 0 et non-zero \n",
    "def digits_to_bin(k, labels):\n",
    "    # mettre l'étiquete 0 pour le chiffre k et 1 pour non-k\n",
    "    y_bin = np.zeros(len(labels))\n",
    "    for i in range(len(labels)):\n",
    "        if labels[i] == k:\n",
    "            y_bin[i] = 0\n",
    "        else:\n",
    "            y_bin[i] = 1\n",
    "    # idiome pythonique\n",
    "    # y_bin = [if item ==k else 1 for item in labels[:10]]\n",
    "    return y_bin "
   ]
  },
  {
   "cell_type": "code",
   "execution_count": 40,
   "id": "d8fedd2a-6475-4a93-ac6b-e3a0987df4e6",
   "metadata": {},
   "outputs": [],
   "source": [
    "y_train_bin = digits_to_bin"
   ]
  },
  {
   "cell_type": "code",
   "execution_count": 32,
   "id": "ccaab98a-1737-4e99-a33f-359ed21401df",
   "metadata": {},
   "outputs": [
    {
     "data": {
      "text/plain": [
       "[1, 0, 1, 1, 1, 1, 1, 1, 1, 1]"
      ]
     },
     "execution_count": 32,
     "metadata": {},
     "output_type": "execute_result"
    }
   ],
   "source": [
    "# petit test de forme pythonique\n",
    "[0 if item ==0 else 1 for item in train_labels[:10]]"
   ]
  },
  {
   "cell_type": "code",
   "execution_count": 36,
   "id": "29b8ba4c-d923-4e3c-abf1-584ec5f40bf4",
   "metadata": {},
   "outputs": [
    {
     "data": {
      "text/plain": [
       "[1, 0, 1, 1, 1, 1, 1, 1, 1, 1]"
      ]
     },
     "execution_count": 36,
     "metadata": {},
     "output_type": "execute_result"
    }
   ],
   "source": [
    "[int(item!= 0) for item in train_labels[:10]]"
   ]
  },
  {
   "cell_type": "code",
   "execution_count": 50,
   "id": "99c64e63-3137-4114-b1e4-31a104d8af50",
   "metadata": {},
   "outputs": [],
   "source": [
    "y_train_bin = digits_to_bin(0, train_labels)\n",
    "y_test_bin = digits_to_bin(0, test_labels)"
   ]
  },
  {
   "cell_type": "code",
   "execution_count": 52,
   "id": "1d6d4070-46f1-4c79-918d-262d3631a14a",
   "metadata": {
    "scrolled": true
   },
   "outputs": [
    {
     "name": "stdout",
     "output_type": "stream",
     "text": [
      "Epoch 1/150\n",
      "\u001b[1m1875/1875\u001b[0m \u001b[32m━━━━━━━━━━━━━━━━━━━━\u001b[0m\u001b[37m\u001b[0m \u001b[1m5s\u001b[0m 1ms/step - accuracy: 0.9566 - loss: 0.1385  \n",
      "Epoch 2/150\n",
      "\u001b[1m1875/1875\u001b[0m \u001b[32m━━━━━━━━━━━━━━━━━━━━\u001b[0m\u001b[37m\u001b[0m \u001b[1m2s\u001b[0m 913us/step - accuracy: 0.9900 - loss: 0.0366\n",
      "Epoch 3/150\n",
      "\u001b[1m1875/1875\u001b[0m \u001b[32m━━━━━━━━━━━━━━━━━━━━\u001b[0m\u001b[37m\u001b[0m \u001b[1m2s\u001b[0m 845us/step - accuracy: 0.9908 - loss: 0.0316\n",
      "Epoch 4/150\n",
      "\u001b[1m1875/1875\u001b[0m \u001b[32m━━━━━━━━━━━━━━━━━━━━\u001b[0m\u001b[37m\u001b[0m \u001b[1m1s\u001b[0m 739us/step - accuracy: 0.9918 - loss: 0.0268\n",
      "Epoch 5/150\n",
      "\u001b[1m1875/1875\u001b[0m \u001b[32m━━━━━━━━━━━━━━━━━━━━\u001b[0m\u001b[37m\u001b[0m \u001b[1m2s\u001b[0m 862us/step - accuracy: 0.9920 - loss: 0.0262\n",
      "Epoch 6/150\n",
      "\u001b[1m1875/1875\u001b[0m \u001b[32m━━━━━━━━━━━━━━━━━━━━\u001b[0m\u001b[37m\u001b[0m \u001b[1m2s\u001b[0m 897us/step - accuracy: 0.9923 - loss: 0.0264\n",
      "Epoch 7/150\n",
      "\u001b[1m1875/1875\u001b[0m \u001b[32m━━━━━━━━━━━━━━━━━━━━\u001b[0m\u001b[37m\u001b[0m \u001b[1m2s\u001b[0m 845us/step - accuracy: 0.9923 - loss: 0.0250\n",
      "Epoch 8/150\n",
      "\u001b[1m1875/1875\u001b[0m \u001b[32m━━━━━━━━━━━━━━━━━━━━\u001b[0m\u001b[37m\u001b[0m \u001b[1m2s\u001b[0m 803us/step - accuracy: 0.9926 - loss: 0.0241\n",
      "Epoch 9/150\n",
      "\u001b[1m1875/1875\u001b[0m \u001b[32m━━━━━━━━━━━━━━━━━━━━\u001b[0m\u001b[37m\u001b[0m \u001b[1m2s\u001b[0m 788us/step - accuracy: 0.9931 - loss: 0.0236\n",
      "Epoch 10/150\n",
      "\u001b[1m1875/1875\u001b[0m \u001b[32m━━━━━━━━━━━━━━━━━━━━\u001b[0m\u001b[37m\u001b[0m \u001b[1m2s\u001b[0m 848us/step - accuracy: 0.9932 - loss: 0.0242\n",
      "Epoch 11/150\n",
      "\u001b[1m1875/1875\u001b[0m \u001b[32m━━━━━━━━━━━━━━━━━━━━\u001b[0m\u001b[37m\u001b[0m \u001b[1m2s\u001b[0m 929us/step - accuracy: 0.9933 - loss: 0.0223\n",
      "Epoch 12/150\n",
      "\u001b[1m1875/1875\u001b[0m \u001b[32m━━━━━━━━━━━━━━━━━━━━\u001b[0m\u001b[37m\u001b[0m \u001b[1m2s\u001b[0m 827us/step - accuracy: 0.9934 - loss: 0.0218\n",
      "Epoch 13/150\n",
      "\u001b[1m1875/1875\u001b[0m \u001b[32m━━━━━━━━━━━━━━━━━━━━\u001b[0m\u001b[37m\u001b[0m \u001b[1m1s\u001b[0m 770us/step - accuracy: 0.9936 - loss: 0.0222\n",
      "Epoch 14/150\n",
      "\u001b[1m1875/1875\u001b[0m \u001b[32m━━━━━━━━━━━━━━━━━━━━\u001b[0m\u001b[37m\u001b[0m \u001b[1m2s\u001b[0m 812us/step - accuracy: 0.9934 - loss: 0.0227\n",
      "Epoch 15/150\n",
      "\u001b[1m1875/1875\u001b[0m \u001b[32m━━━━━━━━━━━━━━━━━━━━\u001b[0m\u001b[37m\u001b[0m \u001b[1m1s\u001b[0m 778us/step - accuracy: 0.9928 - loss: 0.0254\n",
      "Epoch 16/150\n",
      "\u001b[1m1875/1875\u001b[0m \u001b[32m━━━━━━━━━━━━━━━━━━━━\u001b[0m\u001b[37m\u001b[0m \u001b[1m2s\u001b[0m 796us/step - accuracy: 0.9935 - loss: 0.0221\n",
      "Epoch 17/150\n",
      "\u001b[1m1875/1875\u001b[0m \u001b[32m━━━━━━━━━━━━━━━━━━━━\u001b[0m\u001b[37m\u001b[0m \u001b[1m1s\u001b[0m 770us/step - accuracy: 0.9933 - loss: 0.0224\n",
      "Epoch 18/150\n",
      "\u001b[1m1875/1875\u001b[0m \u001b[32m━━━━━━━━━━━━━━━━━━━━\u001b[0m\u001b[37m\u001b[0m \u001b[1m1s\u001b[0m 778us/step - accuracy: 0.9937 - loss: 0.0214\n",
      "Epoch 19/150\n",
      "\u001b[1m1875/1875\u001b[0m \u001b[32m━━━━━━━━━━━━━━━━━━━━\u001b[0m\u001b[37m\u001b[0m \u001b[1m1s\u001b[0m 763us/step - accuracy: 0.9939 - loss: 0.0217\n",
      "Epoch 20/150\n",
      "\u001b[1m1875/1875\u001b[0m \u001b[32m━━━━━━━━━━━━━━━━━━━━\u001b[0m\u001b[37m\u001b[0m \u001b[1m1s\u001b[0m 770us/step - accuracy: 0.9935 - loss: 0.0219\n",
      "Epoch 21/150\n",
      "\u001b[1m1875/1875\u001b[0m \u001b[32m━━━━━━━━━━━━━━━━━━━━\u001b[0m\u001b[37m\u001b[0m \u001b[1m2s\u001b[0m 946us/step - accuracy: 0.9936 - loss: 0.0208\n",
      "Epoch 22/150\n",
      "\u001b[1m1875/1875\u001b[0m \u001b[32m━━━━━━━━━━━━━━━━━━━━\u001b[0m\u001b[37m\u001b[0m \u001b[1m2s\u001b[0m 921us/step - accuracy: 0.9938 - loss: 0.0212\n",
      "Epoch 23/150\n",
      "\u001b[1m1875/1875\u001b[0m \u001b[32m━━━━━━━━━━━━━━━━━━━━\u001b[0m\u001b[37m\u001b[0m \u001b[1m2s\u001b[0m 829us/step - accuracy: 0.9937 - loss: 0.0228\n",
      "Epoch 24/150\n",
      "\u001b[1m1875/1875\u001b[0m \u001b[32m━━━━━━━━━━━━━━━━━━━━\u001b[0m\u001b[37m\u001b[0m \u001b[1m2s\u001b[0m 829us/step - accuracy: 0.9932 - loss: 0.0219\n",
      "Epoch 25/150\n",
      "\u001b[1m1875/1875\u001b[0m \u001b[32m━━━━━━━━━━━━━━━━━━━━\u001b[0m\u001b[37m\u001b[0m \u001b[1m2s\u001b[0m 804us/step - accuracy: 0.9938 - loss: 0.0224\n",
      "Epoch 26/150\n",
      "\u001b[1m1875/1875\u001b[0m \u001b[32m━━━━━━━━━━━━━━━━━━━━\u001b[0m\u001b[37m\u001b[0m \u001b[1m1s\u001b[0m 787us/step - accuracy: 0.9933 - loss: 0.0227\n",
      "Epoch 27/150\n",
      "\u001b[1m1875/1875\u001b[0m \u001b[32m━━━━━━━━━━━━━━━━━━━━\u001b[0m\u001b[37m\u001b[0m \u001b[1m1s\u001b[0m 770us/step - accuracy: 0.9936 - loss: 0.0209\n",
      "Epoch 28/150\n",
      "\u001b[1m1875/1875\u001b[0m \u001b[32m━━━━━━━━━━━━━━━━━━━━\u001b[0m\u001b[37m\u001b[0m \u001b[1m2s\u001b[0m 804us/step - accuracy: 0.9934 - loss: 0.0212\n",
      "Epoch 29/150\n",
      "\u001b[1m1875/1875\u001b[0m \u001b[32m━━━━━━━━━━━━━━━━━━━━\u001b[0m\u001b[37m\u001b[0m \u001b[1m2s\u001b[0m 803us/step - accuracy: 0.9936 - loss: 0.0211\n",
      "Epoch 30/150\n",
      "\u001b[1m1875/1875\u001b[0m \u001b[32m━━━━━━━━━━━━━━━━━━━━\u001b[0m\u001b[37m\u001b[0m \u001b[1m1s\u001b[0m 762us/step - accuracy: 0.9935 - loss: 0.0209\n",
      "Epoch 31/150\n",
      "\u001b[1m1875/1875\u001b[0m \u001b[32m━━━━━━━━━━━━━━━━━━━━\u001b[0m\u001b[37m\u001b[0m \u001b[1m2s\u001b[0m 904us/step - accuracy: 0.9942 - loss: 0.0205\n",
      "Epoch 32/150\n",
      "\u001b[1m1875/1875\u001b[0m \u001b[32m━━━━━━━━━━━━━━━━━━━━\u001b[0m\u001b[37m\u001b[0m \u001b[1m2s\u001b[0m 854us/step - accuracy: 0.9944 - loss: 0.0200\n",
      "Epoch 33/150\n",
      "\u001b[1m1875/1875\u001b[0m \u001b[32m━━━━━━━━━━━━━━━━━━━━\u001b[0m\u001b[37m\u001b[0m \u001b[1m1s\u001b[0m 787us/step - accuracy: 0.9939 - loss: 0.0206\n",
      "Epoch 34/150\n",
      "\u001b[1m1875/1875\u001b[0m \u001b[32m━━━━━━━━━━━━━━━━━━━━\u001b[0m\u001b[37m\u001b[0m \u001b[1m1s\u001b[0m 762us/step - accuracy: 0.9938 - loss: 0.0208\n",
      "Epoch 35/150\n",
      "\u001b[1m1875/1875\u001b[0m \u001b[32m━━━━━━━━━━━━━━━━━━━━\u001b[0m\u001b[37m\u001b[0m \u001b[1m1s\u001b[0m 787us/step - accuracy: 0.9942 - loss: 0.0202\n",
      "Epoch 36/150\n",
      "\u001b[1m1875/1875\u001b[0m \u001b[32m━━━━━━━━━━━━━━━━━━━━\u001b[0m\u001b[37m\u001b[0m \u001b[1m1s\u001b[0m 753us/step - accuracy: 0.9936 - loss: 0.0203\n",
      "Epoch 37/150\n",
      "\u001b[1m1875/1875\u001b[0m \u001b[32m━━━━━━━━━━━━━━━━━━━━\u001b[0m\u001b[37m\u001b[0m \u001b[1m1s\u001b[0m 745us/step - accuracy: 0.9939 - loss: 0.0199\n",
      "Epoch 38/150\n",
      "\u001b[1m1875/1875\u001b[0m \u001b[32m━━━━━━━━━━━━━━━━━━━━\u001b[0m\u001b[37m\u001b[0m \u001b[1m1s\u001b[0m 772us/step - accuracy: 0.9946 - loss: 0.0184\n",
      "Epoch 39/150\n",
      "\u001b[1m1875/1875\u001b[0m \u001b[32m━━━━━━━━━━━━━━━━━━━━\u001b[0m\u001b[37m\u001b[0m \u001b[1m1s\u001b[0m 745us/step - accuracy: 0.9938 - loss: 0.0216\n",
      "Epoch 40/150\n",
      "\u001b[1m1875/1875\u001b[0m \u001b[32m━━━━━━━━━━━━━━━━━━━━\u001b[0m\u001b[37m\u001b[0m \u001b[1m1s\u001b[0m 737us/step - accuracy: 0.9942 - loss: 0.0197\n",
      "Epoch 41/150\n",
      "\u001b[1m1875/1875\u001b[0m \u001b[32m━━━━━━━━━━━━━━━━━━━━\u001b[0m\u001b[37m\u001b[0m \u001b[1m1s\u001b[0m 787us/step - accuracy: 0.9944 - loss: 0.0189\n",
      "Epoch 42/150\n",
      "\u001b[1m1875/1875\u001b[0m \u001b[32m━━━━━━━━━━━━━━━━━━━━\u001b[0m\u001b[37m\u001b[0m \u001b[1m2s\u001b[0m 904us/step - accuracy: 0.9945 - loss: 0.0190\n",
      "Epoch 43/150\n",
      "\u001b[1m1875/1875\u001b[0m \u001b[32m━━━━━━━━━━━━━━━━━━━━\u001b[0m\u001b[37m\u001b[0m \u001b[1m2s\u001b[0m 795us/step - accuracy: 0.9938 - loss: 0.0221\n",
      "Epoch 44/150\n",
      "\u001b[1m1875/1875\u001b[0m \u001b[32m━━━━━━━━━━━━━━━━━━━━\u001b[0m\u001b[37m\u001b[0m \u001b[1m2s\u001b[0m 787us/step - accuracy: 0.9940 - loss: 0.0204\n",
      "Epoch 45/150\n",
      "\u001b[1m1875/1875\u001b[0m \u001b[32m━━━━━━━━━━━━━━━━━━━━\u001b[0m\u001b[37m\u001b[0m \u001b[1m2s\u001b[0m 830us/step - accuracy: 0.9939 - loss: 0.0211\n",
      "Epoch 46/150\n",
      "\u001b[1m1875/1875\u001b[0m \u001b[32m━━━━━━━━━━━━━━━━━━━━\u001b[0m\u001b[37m\u001b[0m \u001b[1m1s\u001b[0m 745us/step - accuracy: 0.9939 - loss: 0.0202\n",
      "Epoch 47/150\n",
      "\u001b[1m1875/1875\u001b[0m \u001b[32m━━━━━━━━━━━━━━━━━━━━\u001b[0m\u001b[37m\u001b[0m \u001b[1m1s\u001b[0m 745us/step - accuracy: 0.9936 - loss: 0.0221\n",
      "Epoch 48/150\n",
      "\u001b[1m1875/1875\u001b[0m \u001b[32m━━━━━━━━━━━━━━━━━━━━\u001b[0m\u001b[37m\u001b[0m \u001b[1m1s\u001b[0m 764us/step - accuracy: 0.9940 - loss: 0.0201\n",
      "Epoch 49/150\n",
      "\u001b[1m1875/1875\u001b[0m \u001b[32m━━━━━━━━━━━━━━━━━━━━\u001b[0m\u001b[37m\u001b[0m \u001b[1m1s\u001b[0m 762us/step - accuracy: 0.9933 - loss: 0.0228\n",
      "Epoch 50/150\n",
      "\u001b[1m1875/1875\u001b[0m \u001b[32m━━━━━━━━━━━━━━━━━━━━\u001b[0m\u001b[37m\u001b[0m \u001b[1m1s\u001b[0m 745us/step - accuracy: 0.9944 - loss: 0.0201\n",
      "Epoch 51/150\n",
      "\u001b[1m1875/1875\u001b[0m \u001b[32m━━━━━━━━━━━━━━━━━━━━\u001b[0m\u001b[37m\u001b[0m \u001b[1m1s\u001b[0m 737us/step - accuracy: 0.9942 - loss: 0.0196\n",
      "Epoch 52/150\n",
      "\u001b[1m1875/1875\u001b[0m \u001b[32m━━━━━━━━━━━━━━━━━━━━\u001b[0m\u001b[37m\u001b[0m \u001b[1m2s\u001b[0m 812us/step - accuracy: 0.9935 - loss: 0.0233\n",
      "Epoch 53/150\n",
      "\u001b[1m1875/1875\u001b[0m \u001b[32m━━━━━━━━━━━━━━━━━━━━\u001b[0m\u001b[37m\u001b[0m \u001b[1m2s\u001b[0m 946us/step - accuracy: 0.9937 - loss: 0.0205\n",
      "Epoch 54/150\n",
      "\u001b[1m1875/1875\u001b[0m \u001b[32m━━━━━━━━━━━━━━━━━━━━\u001b[0m\u001b[37m\u001b[0m \u001b[1m2s\u001b[0m 880us/step - accuracy: 0.9937 - loss: 0.0209\n",
      "Epoch 55/150\n",
      "\u001b[1m1875/1875\u001b[0m \u001b[32m━━━━━━━━━━━━━━━━━━━━\u001b[0m\u001b[37m\u001b[0m \u001b[1m2s\u001b[0m 820us/step - accuracy: 0.9932 - loss: 0.0225\n",
      "Epoch 56/150\n",
      "\u001b[1m1875/1875\u001b[0m \u001b[32m━━━━━━━━━━━━━━━━━━━━\u001b[0m\u001b[37m\u001b[0m \u001b[1m1s\u001b[0m 770us/step - accuracy: 0.9936 - loss: 0.0214\n",
      "Epoch 57/150\n",
      "\u001b[1m1875/1875\u001b[0m \u001b[32m━━━━━━━━━━━━━━━━━━━━\u001b[0m\u001b[37m\u001b[0m \u001b[1m1s\u001b[0m 770us/step - accuracy: 0.9940 - loss: 0.0206\n",
      "Epoch 58/150\n",
      "\u001b[1m1875/1875\u001b[0m \u001b[32m━━━━━━━━━━━━━━━━━━━━\u001b[0m\u001b[37m\u001b[0m \u001b[1m2s\u001b[0m 787us/step - accuracy: 0.9939 - loss: 0.0208\n",
      "Epoch 59/150\n",
      "\u001b[1m1875/1875\u001b[0m \u001b[32m━━━━━━━━━━━━━━━━━━━━\u001b[0m\u001b[37m\u001b[0m \u001b[1m1s\u001b[0m 771us/step - accuracy: 0.9943 - loss: 0.0199\n",
      "Epoch 60/150\n",
      "\u001b[1m1875/1875\u001b[0m \u001b[32m━━━━━━━━━━━━━━━━━━━━\u001b[0m\u001b[37m\u001b[0m \u001b[1m1s\u001b[0m 779us/step - accuracy: 0.9938 - loss: 0.0225\n",
      "Epoch 61/150\n",
      "\u001b[1m1875/1875\u001b[0m \u001b[32m━━━━━━━━━━━━━━━━━━━━\u001b[0m\u001b[37m\u001b[0m \u001b[1m1s\u001b[0m 770us/step - accuracy: 0.9939 - loss: 0.0206\n",
      "Epoch 62/150\n",
      "\u001b[1m1875/1875\u001b[0m \u001b[32m━━━━━━━━━━━━━━━━━━━━\u001b[0m\u001b[37m\u001b[0m \u001b[1m1s\u001b[0m 753us/step - accuracy: 0.9943 - loss: 0.0189\n",
      "Epoch 63/150\n",
      "\u001b[1m1875/1875\u001b[0m \u001b[32m━━━━━━━━━━━━━━━━━━━━\u001b[0m\u001b[37m\u001b[0m \u001b[1m2s\u001b[0m 887us/step - accuracy: 0.9942 - loss: 0.0196\n",
      "Epoch 64/150\n",
      "\u001b[1m1875/1875\u001b[0m \u001b[32m━━━━━━━━━━━━━━━━━━━━\u001b[0m\u001b[37m\u001b[0m \u001b[1m2s\u001b[0m 1ms/step - accuracy: 0.9936 - loss: 0.0217\n",
      "Epoch 65/150\n",
      "\u001b[1m1875/1875\u001b[0m \u001b[32m━━━━━━━━━━━━━━━━━━━━\u001b[0m\u001b[37m\u001b[0m \u001b[1m2s\u001b[0m 860us/step - accuracy: 0.9945 - loss: 0.0188\n",
      "Epoch 66/150\n",
      "\u001b[1m1875/1875\u001b[0m \u001b[32m━━━━━━━━━━━━━━━━━━━━\u001b[0m\u001b[37m\u001b[0m \u001b[1m1s\u001b[0m 789us/step - accuracy: 0.9943 - loss: 0.0199\n",
      "Epoch 67/150\n",
      "\u001b[1m1875/1875\u001b[0m \u001b[32m━━━━━━━━━━━━━━━━━━━━\u001b[0m\u001b[37m\u001b[0m \u001b[1m1s\u001b[0m 753us/step - accuracy: 0.9938 - loss: 0.0208\n",
      "Epoch 68/150\n",
      "\u001b[1m1875/1875\u001b[0m \u001b[32m━━━━━━━━━━━━━━━━━━━━\u001b[0m\u001b[37m\u001b[0m \u001b[1m2s\u001b[0m 871us/step - accuracy: 0.9948 - loss: 0.0194\n",
      "Epoch 69/150\n",
      "\u001b[1m1875/1875\u001b[0m \u001b[32m━━━━━━━━━━━━━━━━━━━━\u001b[0m\u001b[37m\u001b[0m \u001b[1m1s\u001b[0m 760us/step - accuracy: 0.9941 - loss: 0.0213\n",
      "Epoch 70/150\n",
      "\u001b[1m1875/1875\u001b[0m \u001b[32m━━━━━━━━━━━━━━━━━━━━\u001b[0m\u001b[37m\u001b[0m \u001b[1m1s\u001b[0m 762us/step - accuracy: 0.9936 - loss: 0.0208\n",
      "Epoch 71/150\n",
      "\u001b[1m1875/1875\u001b[0m \u001b[32m━━━━━━━━━━━━━━━━━━━━\u001b[0m\u001b[37m\u001b[0m \u001b[1m1s\u001b[0m 755us/step - accuracy: 0.9934 - loss: 0.0221\n",
      "Epoch 72/150\n",
      "\u001b[1m1875/1875\u001b[0m \u001b[32m━━━━━━━━━━━━━━━━━━━━\u001b[0m\u001b[37m\u001b[0m \u001b[1m1s\u001b[0m 737us/step - accuracy: 0.9938 - loss: 0.0194\n",
      "Epoch 73/150\n",
      "\u001b[1m1875/1875\u001b[0m \u001b[32m━━━━━━━━━━━━━━━━━━━━\u001b[0m\u001b[37m\u001b[0m \u001b[1m2s\u001b[0m 887us/step - accuracy: 0.9942 - loss: 0.0204\n",
      "Epoch 74/150\n",
      "\u001b[1m1875/1875\u001b[0m \u001b[32m━━━━━━━━━━━━━━━━━━━━\u001b[0m\u001b[37m\u001b[0m \u001b[1m2s\u001b[0m 881us/step - accuracy: 0.9939 - loss: 0.0207\n",
      "Epoch 75/150\n",
      "\u001b[1m1875/1875\u001b[0m \u001b[32m━━━━━━━━━━━━━━━━━━━━\u001b[0m\u001b[37m\u001b[0m \u001b[1m2s\u001b[0m 803us/step - accuracy: 0.9937 - loss: 0.0210\n",
      "Epoch 76/150\n",
      "\u001b[1m1875/1875\u001b[0m \u001b[32m━━━━━━━━━━━━━━━━━━━━\u001b[0m\u001b[37m\u001b[0m \u001b[1m1s\u001b[0m 753us/step - accuracy: 0.9940 - loss: 0.0195\n",
      "Epoch 77/150\n",
      "\u001b[1m1875/1875\u001b[0m \u001b[32m━━━━━━━━━━━━━━━━━━━━\u001b[0m\u001b[37m\u001b[0m \u001b[1m1s\u001b[0m 770us/step - accuracy: 0.9943 - loss: 0.0209\n",
      "Epoch 78/150\n",
      "\u001b[1m1875/1875\u001b[0m \u001b[32m━━━━━━━━━━━━━━━━━━━━\u001b[0m\u001b[37m\u001b[0m \u001b[1m1s\u001b[0m 763us/step - accuracy: 0.9945 - loss: 0.0202\n",
      "Epoch 79/150\n",
      "\u001b[1m1875/1875\u001b[0m \u001b[32m━━━━━━━━━━━━━━━━━━━━\u001b[0m\u001b[37m\u001b[0m \u001b[1m1s\u001b[0m 770us/step - accuracy: 0.9946 - loss: 0.0192\n",
      "Epoch 80/150\n",
      "\u001b[1m1875/1875\u001b[0m \u001b[32m━━━━━━━━━━━━━━━━━━━━\u001b[0m\u001b[37m\u001b[0m \u001b[1m1s\u001b[0m 745us/step - accuracy: 0.9942 - loss: 0.0197\n",
      "Epoch 81/150\n",
      "\u001b[1m1875/1875\u001b[0m \u001b[32m━━━━━━━━━━━━━━━━━━━━\u001b[0m\u001b[37m\u001b[0m \u001b[1m1s\u001b[0m 770us/step - accuracy: 0.9945 - loss: 0.0197\n",
      "Epoch 82/150\n",
      "\u001b[1m1875/1875\u001b[0m \u001b[32m━━━━━━━━━━━━━━━━━━━━\u001b[0m\u001b[37m\u001b[0m \u001b[1m1s\u001b[0m 779us/step - accuracy: 0.9939 - loss: 0.0204\n",
      "Epoch 83/150\n",
      "\u001b[1m1875/1875\u001b[0m \u001b[32m━━━━━━━━━━━━━━━━━━━━\u001b[0m\u001b[37m\u001b[0m \u001b[1m2s\u001b[0m 929us/step - accuracy: 0.9938 - loss: 0.0201\n",
      "Epoch 84/150\n",
      "\u001b[1m1875/1875\u001b[0m \u001b[32m━━━━━━━━━━━━━━━━━━━━\u001b[0m\u001b[37m\u001b[0m \u001b[1m2s\u001b[0m 1ms/step - accuracy: 0.9934 - loss: 0.0212\n",
      "Epoch 85/150\n",
      "\u001b[1m1875/1875\u001b[0m \u001b[32m━━━━━━━━━━━━━━━━━━━━\u001b[0m\u001b[37m\u001b[0m \u001b[1m2s\u001b[0m 963us/step - accuracy: 0.9941 - loss: 0.0217\n",
      "Epoch 86/150\n",
      "\u001b[1m1875/1875\u001b[0m \u001b[32m━━━━━━━━━━━━━━━━━━━━\u001b[0m\u001b[37m\u001b[0m \u001b[1m1s\u001b[0m 782us/step - accuracy: 0.9941 - loss: 0.0197\n",
      "Epoch 87/150\n",
      "\u001b[1m1875/1875\u001b[0m \u001b[32m━━━━━━━━━━━━━━━━━━━━\u001b[0m\u001b[37m\u001b[0m \u001b[1m1s\u001b[0m 779us/step - accuracy: 0.9942 - loss: 0.0199\n",
      "Epoch 88/150\n",
      "\u001b[1m1875/1875\u001b[0m \u001b[32m━━━━━━━━━━━━━━━━━━━━\u001b[0m\u001b[37m\u001b[0m \u001b[1m2s\u001b[0m 787us/step - accuracy: 0.9944 - loss: 0.0187\n",
      "Epoch 89/150\n",
      "\u001b[1m1875/1875\u001b[0m \u001b[32m━━━━━━━━━━━━━━━━━━━━\u001b[0m\u001b[37m\u001b[0m \u001b[1m1s\u001b[0m 779us/step - accuracy: 0.9942 - loss: 0.0213\n",
      "Epoch 90/150\n",
      "\u001b[1m1875/1875\u001b[0m \u001b[32m━━━━━━━━━━━━━━━━━━━━\u001b[0m\u001b[37m\u001b[0m \u001b[1m1s\u001b[0m 787us/step - accuracy: 0.9938 - loss: 0.0196\n",
      "Epoch 91/150\n",
      "\u001b[1m1875/1875\u001b[0m \u001b[32m━━━━━━━━━━━━━━━━━━━━\u001b[0m\u001b[37m\u001b[0m \u001b[1m2s\u001b[0m 787us/step - accuracy: 0.9940 - loss: 0.0205\n",
      "Epoch 92/150\n",
      "\u001b[1m1875/1875\u001b[0m \u001b[32m━━━━━━━━━━━━━━━━━━━━\u001b[0m\u001b[37m\u001b[0m \u001b[1m2s\u001b[0m 829us/step - accuracy: 0.9940 - loss: 0.0193\n",
      "Epoch 93/150\n",
      "\u001b[1m1875/1875\u001b[0m \u001b[32m━━━━━━━━━━━━━━━━━━━━\u001b[0m\u001b[37m\u001b[0m \u001b[1m2s\u001b[0m 837us/step - accuracy: 0.9944 - loss: 0.0198\n",
      "Epoch 94/150\n",
      "\u001b[1m1875/1875\u001b[0m \u001b[32m━━━━━━━━━━━━━━━━━━━━\u001b[0m\u001b[37m\u001b[0m \u001b[1m2s\u001b[0m 955us/step - accuracy: 0.9940 - loss: 0.0203\n",
      "Epoch 95/150\n",
      "\u001b[1m1875/1875\u001b[0m \u001b[32m━━━━━━━━━━━━━━━━━━━━\u001b[0m\u001b[37m\u001b[0m \u001b[1m2s\u001b[0m 863us/step - accuracy: 0.9940 - loss: 0.0201\n",
      "Epoch 96/150\n",
      "\u001b[1m1875/1875\u001b[0m \u001b[32m━━━━━━━━━━━━━━━━━━━━\u001b[0m\u001b[37m\u001b[0m \u001b[1m2s\u001b[0m 796us/step - accuracy: 0.9942 - loss: 0.0202\n",
      "Epoch 97/150\n",
      "\u001b[1m1875/1875\u001b[0m \u001b[32m━━━━━━━━━━━━━━━━━━━━\u001b[0m\u001b[37m\u001b[0m \u001b[1m1s\u001b[0m 770us/step - accuracy: 0.9938 - loss: 0.0209\n",
      "Epoch 98/150\n",
      "\u001b[1m1875/1875\u001b[0m \u001b[32m━━━━━━━━━━━━━━━━━━━━\u001b[0m\u001b[37m\u001b[0m \u001b[1m1s\u001b[0m 778us/step - accuracy: 0.9945 - loss: 0.0194\n",
      "Epoch 99/150\n",
      "\u001b[1m1875/1875\u001b[0m \u001b[32m━━━━━━━━━━━━━━━━━━━━\u001b[0m\u001b[37m\u001b[0m \u001b[1m2s\u001b[0m 821us/step - accuracy: 0.9938 - loss: 0.0204\n",
      "Epoch 100/150\n",
      "\u001b[1m1875/1875\u001b[0m \u001b[32m━━━━━━━━━━━━━━━━━━━━\u001b[0m\u001b[37m\u001b[0m \u001b[1m1s\u001b[0m 770us/step - accuracy: 0.9941 - loss: 0.0195\n",
      "Epoch 101/150\n",
      "\u001b[1m1875/1875\u001b[0m \u001b[32m━━━━━━━━━━━━━━━━━━━━\u001b[0m\u001b[37m\u001b[0m \u001b[1m2s\u001b[0m 822us/step - accuracy: 0.9939 - loss: 0.0205\n",
      "Epoch 102/150\n",
      "\u001b[1m1875/1875\u001b[0m \u001b[32m━━━━━━━━━━━━━━━━━━━━\u001b[0m\u001b[37m\u001b[0m \u001b[1m2s\u001b[0m 835us/step - accuracy: 0.9937 - loss: 0.0202\n",
      "Epoch 103/150\n",
      "\u001b[1m1875/1875\u001b[0m \u001b[32m━━━━━━━━━━━━━━━━━━━━\u001b[0m\u001b[37m\u001b[0m \u001b[1m2s\u001b[0m 891us/step - accuracy: 0.9939 - loss: 0.0198\n",
      "Epoch 104/150\n",
      "\u001b[1m1875/1875\u001b[0m \u001b[32m━━━━━━━━━━━━━━━━━━━━\u001b[0m\u001b[37m\u001b[0m \u001b[1m2s\u001b[0m 1ms/step - accuracy: 0.9937 - loss: 0.0193\n",
      "Epoch 105/150\n",
      "\u001b[1m1875/1875\u001b[0m \u001b[32m━━━━━━━━━━━━━━━━━━━━\u001b[0m\u001b[37m\u001b[0m \u001b[1m2s\u001b[0m 912us/step - accuracy: 0.9938 - loss: 0.0207\n",
      "Epoch 106/150\n",
      "\u001b[1m1875/1875\u001b[0m \u001b[32m━━━━━━━━━━━━━━━━━━━━\u001b[0m\u001b[37m\u001b[0m \u001b[1m2s\u001b[0m 844us/step - accuracy: 0.9940 - loss: 0.0202\n",
      "Epoch 107/150\n",
      "\u001b[1m1875/1875\u001b[0m \u001b[32m━━━━━━━━━━━━━━━━━━━━\u001b[0m\u001b[37m\u001b[0m \u001b[1m2s\u001b[0m 799us/step - accuracy: 0.9946 - loss: 0.0181\n",
      "Epoch 108/150\n",
      "\u001b[1m1875/1875\u001b[0m \u001b[32m━━━━━━━━━━━━━━━━━━━━\u001b[0m\u001b[37m\u001b[0m \u001b[1m2s\u001b[0m 790us/step - accuracy: 0.9938 - loss: 0.0198\n",
      "Epoch 109/150\n",
      "\u001b[1m1875/1875\u001b[0m \u001b[32m━━━━━━━━━━━━━━━━━━━━\u001b[0m\u001b[37m\u001b[0m \u001b[1m2s\u001b[0m 831us/step - accuracy: 0.9939 - loss: 0.0201\n",
      "Epoch 110/150\n",
      "\u001b[1m1875/1875\u001b[0m \u001b[32m━━━━━━━━━━━━━━━━━━━━\u001b[0m\u001b[37m\u001b[0m \u001b[1m2s\u001b[0m 822us/step - accuracy: 0.9941 - loss: 0.0189\n",
      "Epoch 111/150\n",
      "\u001b[1m1875/1875\u001b[0m \u001b[32m━━━━━━━━━━━━━━━━━━━━\u001b[0m\u001b[37m\u001b[0m \u001b[1m2s\u001b[0m 793us/step - accuracy: 0.9942 - loss: 0.0217\n",
      "Epoch 112/150\n",
      "\u001b[1m1875/1875\u001b[0m \u001b[32m━━━━━━━━━━━━━━━━━━━━\u001b[0m\u001b[37m\u001b[0m \u001b[1m2s\u001b[0m 856us/step - accuracy: 0.9939 - loss: 0.0206\n",
      "Epoch 113/150\n",
      "\u001b[1m1875/1875\u001b[0m \u001b[32m━━━━━━━━━━━━━━━━━━━━\u001b[0m\u001b[37m\u001b[0m \u001b[1m2s\u001b[0m 865us/step - accuracy: 0.9945 - loss: 0.0201\n",
      "Epoch 114/150\n",
      "\u001b[1m1875/1875\u001b[0m \u001b[32m━━━━━━━━━━━━━━━━━━━━\u001b[0m\u001b[37m\u001b[0m \u001b[1m2s\u001b[0m 956us/step - accuracy: 0.9937 - loss: 0.0228\n",
      "Epoch 115/150\n",
      "\u001b[1m1875/1875\u001b[0m \u001b[32m━━━━━━━━━━━━━━━━━━━━\u001b[0m\u001b[37m\u001b[0m \u001b[1m2s\u001b[0m 890us/step - accuracy: 0.9940 - loss: 0.0194\n",
      "Epoch 116/150\n",
      "\u001b[1m1875/1875\u001b[0m \u001b[32m━━━━━━━━━━━━━━━━━━━━\u001b[0m\u001b[37m\u001b[0m \u001b[1m2s\u001b[0m 826us/step - accuracy: 0.9947 - loss: 0.0191\n",
      "Epoch 117/150\n",
      "\u001b[1m1875/1875\u001b[0m \u001b[32m━━━━━━━━━━━━━━━━━━━━\u001b[0m\u001b[37m\u001b[0m \u001b[1m2s\u001b[0m 823us/step - accuracy: 0.9941 - loss: 0.0201\n",
      "Epoch 118/150\n",
      "\u001b[1m1875/1875\u001b[0m \u001b[32m━━━━━━━━━━━━━━━━━━━━\u001b[0m\u001b[37m\u001b[0m \u001b[1m2s\u001b[0m 857us/step - accuracy: 0.9941 - loss: 0.0193\n",
      "Epoch 119/150\n",
      "\u001b[1m1875/1875\u001b[0m \u001b[32m━━━━━━━━━━━━━━━━━━━━\u001b[0m\u001b[37m\u001b[0m \u001b[1m2s\u001b[0m 791us/step - accuracy: 0.9933 - loss: 0.0216\n",
      "Epoch 120/150\n",
      "\u001b[1m1875/1875\u001b[0m \u001b[32m━━━━━━━━━━━━━━━━━━━━\u001b[0m\u001b[37m\u001b[0m \u001b[1m2s\u001b[0m 803us/step - accuracy: 0.9941 - loss: 0.0198\n",
      "Epoch 121/150\n",
      "\u001b[1m1875/1875\u001b[0m \u001b[32m━━━━━━━━━━━━━━━━━━━━\u001b[0m\u001b[37m\u001b[0m \u001b[1m2s\u001b[0m 804us/step - accuracy: 0.9947 - loss: 0.0191\n",
      "Epoch 122/150\n",
      "\u001b[1m1875/1875\u001b[0m \u001b[32m━━━━━━━━━━━━━━━━━━━━\u001b[0m\u001b[37m\u001b[0m \u001b[1m2s\u001b[0m 787us/step - accuracy: 0.9945 - loss: 0.0176\n",
      "Epoch 123/150\n",
      "\u001b[1m1875/1875\u001b[0m \u001b[32m━━━━━━━━━━━━━━━━━━━━\u001b[0m\u001b[37m\u001b[0m \u001b[1m2s\u001b[0m 896us/step - accuracy: 0.9936 - loss: 0.0222\n",
      "Epoch 124/150\n",
      "\u001b[1m1875/1875\u001b[0m \u001b[32m━━━━━━━━━━━━━━━━━━━━\u001b[0m\u001b[37m\u001b[0m \u001b[1m2s\u001b[0m 963us/step - accuracy: 0.9940 - loss: 0.0200\n",
      "Epoch 125/150\n",
      "\u001b[1m1875/1875\u001b[0m \u001b[32m━━━━━━━━━━━━━━━━━━━━\u001b[0m\u001b[37m\u001b[0m \u001b[1m2s\u001b[0m 888us/step - accuracy: 0.9935 - loss: 0.0196\n",
      "Epoch 126/150\n",
      "\u001b[1m1875/1875\u001b[0m \u001b[32m━━━━━━━━━━━━━━━━━━━━\u001b[0m\u001b[37m\u001b[0m \u001b[1m2s\u001b[0m 787us/step - accuracy: 0.9943 - loss: 0.0190\n",
      "Epoch 127/150\n",
      "\u001b[1m1875/1875\u001b[0m \u001b[32m━━━━━━━━━━━━━━━━━━━━\u001b[0m\u001b[37m\u001b[0m \u001b[1m2s\u001b[0m 782us/step - accuracy: 0.9939 - loss: 0.0203\n",
      "Epoch 128/150\n",
      "\u001b[1m1875/1875\u001b[0m \u001b[32m━━━━━━━━━━━━━━━━━━━━\u001b[0m\u001b[37m\u001b[0m \u001b[1m2s\u001b[0m 795us/step - accuracy: 0.9948 - loss: 0.0184\n",
      "Epoch 129/150\n",
      "\u001b[1m1875/1875\u001b[0m \u001b[32m━━━━━━━━━━━━━━━━━━━━\u001b[0m\u001b[37m\u001b[0m \u001b[1m1s\u001b[0m 762us/step - accuracy: 0.9937 - loss: 0.0201\n",
      "Epoch 130/150\n",
      "\u001b[1m1875/1875\u001b[0m \u001b[32m━━━━━━━━━━━━━━━━━━━━\u001b[0m\u001b[37m\u001b[0m \u001b[1m2s\u001b[0m 795us/step - accuracy: 0.9943 - loss: 0.0203\n",
      "Epoch 131/150\n",
      "\u001b[1m1875/1875\u001b[0m \u001b[32m━━━━━━━━━━━━━━━━━━━━\u001b[0m\u001b[37m\u001b[0m \u001b[1m2s\u001b[0m 796us/step - accuracy: 0.9941 - loss: 0.0202\n",
      "Epoch 132/150\n",
      "\u001b[1m1875/1875\u001b[0m \u001b[32m━━━━━━━━━━━━━━━━━━━━\u001b[0m\u001b[37m\u001b[0m \u001b[1m2s\u001b[0m 787us/step - accuracy: 0.9940 - loss: 0.0206\n",
      "Epoch 133/150\n",
      "\u001b[1m1875/1875\u001b[0m \u001b[32m━━━━━━━━━━━━━━━━━━━━\u001b[0m\u001b[37m\u001b[0m \u001b[1m2s\u001b[0m 845us/step - accuracy: 0.9936 - loss: 0.0216\n",
      "Epoch 134/150\n",
      "\u001b[1m1875/1875\u001b[0m \u001b[32m━━━━━━━━━━━━━━━━━━━━\u001b[0m\u001b[37m\u001b[0m \u001b[1m2s\u001b[0m 988us/step - accuracy: 0.9944 - loss: 0.0188\n",
      "Epoch 135/150\n",
      "\u001b[1m1875/1875\u001b[0m \u001b[32m━━━━━━━━━━━━━━━━━━━━\u001b[0m\u001b[37m\u001b[0m \u001b[1m2s\u001b[0m 890us/step - accuracy: 0.9943 - loss: 0.0190\n",
      "Epoch 136/150\n",
      "\u001b[1m1875/1875\u001b[0m \u001b[32m━━━━━━━━━━━━━━━━━━━━\u001b[0m\u001b[37m\u001b[0m \u001b[1m2s\u001b[0m 822us/step - accuracy: 0.9945 - loss: 0.0198\n",
      "Epoch 137/150\n",
      "\u001b[1m1875/1875\u001b[0m \u001b[32m━━━━━━━━━━━━━━━━━━━━\u001b[0m\u001b[37m\u001b[0m \u001b[1m2s\u001b[0m 795us/step - accuracy: 0.9940 - loss: 0.0206\n",
      "Epoch 138/150\n",
      "\u001b[1m1875/1875\u001b[0m \u001b[32m━━━━━━━━━━━━━━━━━━━━\u001b[0m\u001b[37m\u001b[0m \u001b[1m1s\u001b[0m 779us/step - accuracy: 0.9944 - loss: 0.0195\n",
      "Epoch 139/150\n",
      "\u001b[1m1875/1875\u001b[0m \u001b[32m━━━━━━━━━━━━━━━━━━━━\u001b[0m\u001b[37m\u001b[0m \u001b[1m2s\u001b[0m 804us/step - accuracy: 0.9942 - loss: 0.0194\n",
      "Epoch 140/150\n",
      "\u001b[1m1875/1875\u001b[0m \u001b[32m━━━━━━━━━━━━━━━━━━━━\u001b[0m\u001b[37m\u001b[0m \u001b[1m2s\u001b[0m 821us/step - accuracy: 0.9943 - loss: 0.0195\n",
      "Epoch 141/150\n",
      "\u001b[1m1875/1875\u001b[0m \u001b[32m━━━━━━━━━━━━━━━━━━━━\u001b[0m\u001b[37m\u001b[0m \u001b[1m2s\u001b[0m 829us/step - accuracy: 0.9942 - loss: 0.0195\n",
      "Epoch 142/150\n",
      "\u001b[1m1875/1875\u001b[0m \u001b[32m━━━━━━━━━━━━━━━━━━━━\u001b[0m\u001b[37m\u001b[0m \u001b[1m2s\u001b[0m 812us/step - accuracy: 0.9942 - loss: 0.0186\n",
      "Epoch 143/150\n",
      "\u001b[1m1875/1875\u001b[0m \u001b[32m━━━━━━━━━━━━━━━━━━━━\u001b[0m\u001b[37m\u001b[0m \u001b[1m2s\u001b[0m 837us/step - accuracy: 0.9940 - loss: 0.0207\n",
      "Epoch 144/150\n",
      "\u001b[1m1875/1875\u001b[0m \u001b[32m━━━━━━━━━━━━━━━━━━━━\u001b[0m\u001b[37m\u001b[0m \u001b[1m2s\u001b[0m 921us/step - accuracy: 0.9942 - loss: 0.0191\n",
      "Epoch 145/150\n",
      "\u001b[1m1875/1875\u001b[0m \u001b[32m━━━━━━━━━━━━━━━━━━━━\u001b[0m\u001b[37m\u001b[0m \u001b[1m2s\u001b[0m 871us/step - accuracy: 0.9937 - loss: 0.0213\n",
      "Epoch 146/150\n",
      "\u001b[1m1875/1875\u001b[0m \u001b[32m━━━━━━━━━━━━━━━━━━━━\u001b[0m\u001b[37m\u001b[0m \u001b[1m2s\u001b[0m 787us/step - accuracy: 0.9945 - loss: 0.0196\n",
      "Epoch 147/150\n",
      "\u001b[1m1875/1875\u001b[0m \u001b[32m━━━━━━━━━━━━━━━━━━━━\u001b[0m\u001b[37m\u001b[0m \u001b[1m2s\u001b[0m 812us/step - accuracy: 0.9941 - loss: 0.0200\n",
      "Epoch 148/150\n",
      "\u001b[1m1875/1875\u001b[0m \u001b[32m━━━━━━━━━━━━━━━━━━━━\u001b[0m\u001b[37m\u001b[0m \u001b[1m2s\u001b[0m 829us/step - accuracy: 0.9944 - loss: 0.0183\n",
      "Epoch 149/150\n",
      "\u001b[1m1875/1875\u001b[0m \u001b[32m━━━━━━━━━━━━━━━━━━━━\u001b[0m\u001b[37m\u001b[0m \u001b[1m2s\u001b[0m 829us/step - accuracy: 0.9941 - loss: 0.0209\n",
      "Epoch 150/150\n",
      "\u001b[1m1875/1875\u001b[0m \u001b[32m━━━━━━━━━━━━━━━━━━━━\u001b[0m\u001b[37m\u001b[0m \u001b[1m2s\u001b[0m 808us/step - accuracy: 0.9943 - loss: 0.0205\n"
     ]
    },
    {
     "data": {
      "text/plain": [
       "<keras.src.callbacks.history.History at 0x1ed3f3a9a60>"
      ]
     },
     "execution_count": 52,
     "metadata": {},
     "output_type": "execute_result"
    }
   ],
   "source": [
    "seplin.fit(X_train, y_train_bin, epochs=150)"
   ]
  },
  {
   "cell_type": "code",
   "execution_count": 61,
   "id": "5b6d3712-9994-4094-b9ba-d6f6463469eb",
   "metadata": {},
   "outputs": [
    {
     "name": "stdout",
     "output_type": "stream",
     "text": [
      "\u001b[1m313/313\u001b[0m \u001b[32m━━━━━━━━━━━━━━━━━━━━\u001b[0m\u001b[37m\u001b[0m \u001b[1m0s\u001b[0m 997us/step - accuracy: 0.9909 - loss: 0.0289\n"
     ]
    },
    {
     "data": {
      "text/plain": [
       "[0.026253677904605865, 0.9919999837875366]"
      ]
     },
     "execution_count": 61,
     "metadata": {},
     "output_type": "execute_result"
    }
   ],
   "source": [
    "seplin.evaluate(X_test, y_test_bin)  # [loss, accuracy] sur X_test\n",
    "# pas de signe de surapprentissage"
   ]
  },
  {
   "cell_type": "markdown",
   "id": "95eeac6d-3ce8-4c99-969c-81b44cdd1572",
   "metadata": {},
   "source": [
    "## Regardons les détails du resultat"
   ]
  },
  {
   "cell_type": "code",
   "execution_count": null,
   "id": "abf349ad-76b0-414e-9ff0-87afa48e0bdf",
   "metadata": {},
   "outputs": [],
   "source": [
    "# Trouver les images \"vulnerables\" c.a.d  les plus proche de la frontière de décision "
   ]
  },
  {
   "cell_type": "code",
   "execution_count": 57,
   "id": "5f6fd088-3a38-4524-a28a-19a0b23be650",
   "metadata": {},
   "outputs": [
    {
     "name": "stdout",
     "output_type": "stream",
     "text": [
      "\u001b[1m313/313\u001b[0m \u001b[32m━━━━━━━━━━━━━━━━━━━━\u001b[0m\u001b[37m\u001b[0m \u001b[1m0s\u001b[0m 855us/step\n"
     ]
    }
   ],
   "source": [
    "y_pred = seplin.predict(X_test)"
   ]
  },
  {
   "cell_type": "code",
   "execution_count": 75,
   "id": "217f8d51-e16d-4e19-978a-4eeb7c80d86a",
   "metadata": {},
   "outputs": [
    {
     "data": {
      "text/plain": [
       "array([[0.5       ],\n",
       "       [0.49999952],\n",
       "       [0.49999982],\n",
       "       [0.49952686],\n",
       "       [0.4990055 ],\n",
       "       [0.49999994],\n",
       "       [0.49999404],\n",
       "       [0.5       ],\n",
       "       [0.4994834 ],\n",
       "       [0.5       ]], dtype=float32)"
      ]
     },
     "execution_count": 75,
     "metadata": {},
     "output_type": "execute_result"
    }
   ],
   "source": [
    "distance_bord = np.abs(y_pred - 0.5)\n",
    "distance_bord[:10]"
   ]
  },
  {
   "cell_type": "code",
   "execution_count": 77,
   "id": "401ca376-c087-4430-8ab9-c2bd4778d7a1",
   "metadata": {},
   "outputs": [
    {
     "data": {
      "text/plain": [
       "(10000, 1)"
      ]
     },
     "execution_count": 77,
     "metadata": {},
     "output_type": "execute_result"
    }
   ],
   "source": [
    "distance_bord.shape  # 2 dimenssion "
   ]
  },
  {
   "cell_type": "code",
   "execution_count": 79,
   "id": "4fdb2b19-b666-4777-bb84-c1e4558736c0",
   "metadata": {},
   "outputs": [
    {
     "data": {
      "text/plain": [
       "(10000,)"
      ]
     },
     "execution_count": 79,
     "metadata": {},
     "output_type": "execute_result"
    }
   ],
   "source": [
    "distance_bord.flatten().shape"
   ]
  },
  {
   "cell_type": "code",
   "execution_count": 63,
   "id": "de80ce7a-7e42-4433-b4b0-272fb03a674d",
   "metadata": {},
   "outputs": [],
   "source": [
    "seplin.save('seplin.keras')  # pour sauvegader le modèle, cf keras.io"
   ]
  },
  {
   "cell_type": "code",
   "execution_count": 176,
   "id": "bd2f911d-7db1-4dc6-9d34-83f6ea0ab8ba",
   "metadata": {},
   "outputs": [
    {
     "data": {
      "text/plain": [
       "2713"
      ]
     },
     "execution_count": 176,
     "metadata": {},
     "output_type": "execute_result"
    }
   ],
   "source": [
    "# l'indice d'image la plus proche de la frontiere\n",
    "i0 = np.argmin(distance_bord)\n",
    "i0"
   ]
  },
  {
   "cell_type": "code",
   "execution_count": 71,
   "id": "f47be6e6-18c3-4921-8068-27da7a0cb835",
   "metadata": {},
   "outputs": [],
   "source": [
    "# trouver 100 images les plus proches\n",
    "ind_proches = np.argsort(distance_bord.flatten())"
   ]
  },
  {
   "cell_type": "code",
   "execution_count": 73,
   "id": "9ddd183e-1c7b-4dd7-9d61-735c949e098d",
   "metadata": {},
   "outputs": [
    {
     "data": {
      "text/plain": [
       "array([2713, 2476, 1570, 1984, 7427, 3749, 8859,  713, 2449, 4620],\n",
       "      dtype=int64)"
      ]
     },
     "execution_count": 73,
     "metadata": {},
     "output_type": "execute_result"
    }
   ],
   "source": [
    "ind_proches[:10]"
   ]
  },
  {
   "cell_type": "markdown",
   "id": "7ddd3491-abac-4744-8372-a51fa61e63f8",
   "metadata": {},
   "source": [
    "# Remarque à retenir\n",
    "\n",
    "#### regardez toujours la forme (shape, type) de nos donnée"
   ]
  },
  {
   "cell_type": "code",
   "execution_count": 178,
   "id": "8fcdf3f3-48de-4d5b-989c-fcb5b89f6e4a",
   "metadata": {},
   "outputs": [
    {
     "name": "stdout",
     "output_type": "stream",
     "text": [
      "[0.5018052]\n",
      "1.0\n",
      "6\n"
     ]
    },
    {
     "data": {
      "image/png": "[encoded data removed]",
      "text/plain": [
       "<Figure size 640x480 with 1 Axes>"
      ]
     },
     "metadata": {},
     "output_type": "display_data"
    }
   ],
   "source": [
    "# quel est le chiffre correspondant ? \n",
    "print(y_pred[i0])\n",
    "print(y_test_bin[i0+5])   # label non zero predit correctement\n",
    "print(test_labels[i0+5])\n",
    "plt.imshow(X_test[i0+5])\n",
    "plt.show()\n",
    "# si on a pas le même cas de figure, on prend une image/indice suivant dans ind_proches"
   ]
  },
  {
   "cell_type": "code",
   "execution_count": 98,
   "id": "d7286d17-59ef-43cc-b65d-cf57d68d1112",
   "metadata": {},
   "outputs": [
    {
     "data": {
      "text/plain": [
       "[<Flatten name=flatten, built=True>, <Dense name=dense, built=True>]"
      ]
     },
     "execution_count": 98,
     "metadata": {},
     "output_type": "execute_result"
    }
   ],
   "source": [
    "# On se propose de modifier légèrement l'image pour la faire catégoriser comme 0!\n",
    "\n",
    "# on cherche un poids (le plus) important et on modifie le pixel correspondant.\n",
    "# (on veut un poids important pour que la modification de pixel soit minime)\n",
    "# Question : comment connaitre les poids / parametres du modele\n",
    "\n",
    "seplin.layers # liste de couches "
   ]
  },
  {
   "cell_type": "code",
   "execution_count": 100,
   "id": "53606fa8-a215-480b-a42b-9d5c561b196d",
   "metadata": {},
   "outputs": [
    {
     "data": {
      "text/plain": [
       "<KerasVariable shape=(784, 1), dtype=float32, path=sequential/dense/kernel>"
      ]
     },
     "execution_count": 100,
     "metadata": {},
     "output_type": "execute_result"
    }
   ],
   "source": [
    "seplin.layers[1].weights[0]  # matrice de 784 poids"
   ]
  },
  {
   "cell_type": "code",
   "execution_count": 102,
   "id": "a516d32a-8faa-4402-8b19-bac2d540dc96",
   "metadata": {},
   "outputs": [
    {
     "data": {
      "text/plain": [
       "76"
      ]
     },
     "execution_count": 102,
     "metadata": {},
     "output_type": "execute_result"
    }
   ],
   "source": [
    "seplin.layers[1].weights[0].numpy().argmax()  # le poids le plus important"
   ]
  },
  {
   "cell_type": "code",
   "execution_count": 104,
   "id": "efdf543b-58b6-4c51-b09b-efd937490dcc",
   "metadata": {},
   "outputs": [
    {
     "name": "stdout",
     "output_type": "stream",
     "text": [
      "ligne 2\n",
      "colonne 20\n"
     ]
    }
   ],
   "source": [
    "# pixel correspondant : 28 pixels par ligne\n",
    "print(\"ligne\", 76 // 28)\n",
    "print(\"colonne\", 76 % 28)"
   ]
  },
  {
   "cell_type": "code",
   "execution_count": 106,
   "id": "e152699b-7694-43df-b8d6-81f9e19523ce",
   "metadata": {},
   "outputs": [
    {
     "data": {
      "text/plain": [
       "array([13.860495], dtype=float32)"
      ]
     },
     "execution_count": 106,
     "metadata": {},
     "output_type": "execute_result"
    }
   ],
   "source": [
    "seplin.layers[1].weights[0].numpy()[76]  # positif ..."
   ]
  },
  {
   "cell_type": "code",
   "execution_count": 136,
   "id": "47a7c00f-d456-4a3a-9c17-fd488cc643ee",
   "metadata": {},
   "outputs": [
    {
     "data": {
      "text/plain": [
       "0.0"
      ]
     },
     "execution_count": 136,
     "metadata": {},
     "output_type": "execute_result"
    }
   ],
   "source": [
    "X_test[i0+5][2, 20] # le pixel correspondant a valeur 0\n",
    "# on ne peut pas diminuer sa valeur\n",
    "# il faut chercher un autre poids "
   ]
  },
  {
   "cell_type": "code",
   "execution_count": 140,
   "id": "18b2984b-4384-4224-87ab-71ef1918658d",
   "metadata": {},
   "outputs": [
    {
     "data": {
      "text/plain": [
       "array([0.       , 0.       , 0.       , 0.       , 0.       , 0.       ,\n",
       "       0.       , 0.       , 0.       , 0.       , 0.       , 0.       ,\n",
       "       0.       , 0.5019608, 1.       , 0.2509804, 0.       , 0.       ,\n",
       "       0.       , 0.       , 0.       , 0.       , 0.       , 0.       ,\n",
       "       0.       , 0.       , 0.       , 0.       ], dtype=float32)"
      ]
     },
     "execution_count": 140,
     "metadata": {},
     "output_type": "execute_result"
    }
   ],
   "source": [
    "# Mais observe que dans la troisime ligne de notre image i0,\n",
    "# on a deux deux\n",
    "\n",
    "X_test[i0+5][3]"
   ]
  },
  {
   "cell_type": "code",
   "execution_count": 182,
   "id": "b0e805ee-17ad-4e9c-bf46-27e8cff42cdb",
   "metadata": {},
   "outputs": [
    {
     "data": {
      "text/plain": [
       "0.5019608"
      ]
     },
     "execution_count": 182,
     "metadata": {},
     "output_type": "execute_result"
    }
   ],
   "source": [
    "X_test[i0+5][3,13]"
   ]
  },
  {
   "cell_type": "code",
   "execution_count": 148,
   "id": "ce9857e2-01ff-49e9-a194-f67978dfcc74",
   "metadata": {},
   "outputs": [],
   "source": [
    "# Quel poids correspond au pixel [3, 13] ?\n",
    "poids =seplin.layers[1].weights[0].numpy().reshape(28,28)  # extraction des poids"
   ]
  },
  {
   "cell_type": "code",
   "execution_count": 184,
   "id": "b7c16a0d-520e-4b50-853d-9cc81e36e67d",
   "metadata": {},
   "outputs": [
    {
     "data": {
      "text/plain": [
       "-0.023515228"
      ]
     },
     "execution_count": 184,
     "metadata": {},
     "output_type": "execute_result"
    }
   ],
   "source": [
    "poids[3, 13]  # ce poids est petit mais associé avec un pixel "
   ]
  },
  {
   "cell_type": "code",
   "execution_count": 156,
   "id": "78a6df56-d980-4306-a39f-c9d16f3a54e7",
   "metadata": {},
   "outputs": [
    {
     "data": {
      "text/plain": [
       "0.34"
      ]
     },
     "execution_count": 156,
     "metadata": {},
     "output_type": "execute_result"
    }
   ],
   "source": [
    "# contribution de pixel [3, 14]\n",
    "0.34 * 1"
   ]
  },
  {
   "cell_type": "code",
   "execution_count": 164,
   "id": "85d0442c-32a0-447f-b96e-f8e61d1a3cc9",
   "metadata": {},
   "outputs": [
    {
     "name": "stdout",
     "output_type": "stream",
     "text": [
      "distance au bord [0.49999422]\n"
     ]
    },
    {
     "data": {
      "text/plain": [
       "-0.007040088"
      ]
     },
     "execution_count": 164,
     "metadata": {},
     "output_type": "execute_result"
    }
   ],
   "source": [
    "# or il suffit de modifier le produit poids*luminosite\n",
    "# de ce pixel, pour diminuer l'argument de la fonction sigma\n",
    "#  qui calcul la probabilité d'appartenance à la sortie.\n",
    "print(\"distance au bord\", distance_bord[i0+5])\n",
    "\n",
    "# calcul de difference avec le poids modifié \n",
    "(0.264 * 0.84) - (0.264 * 0.866667)  # donc 0.84 convient comme changement minilae\n",
    "# (on pourrait chercher la modification minimale exacte, mais on le fait grossierement a la main,\n",
    "# car cela suffit largement)"
   ]
  },
  {
   "cell_type": "code",
   "execution_count": 166,
   "id": "25a42de3-355c-455e-88f4-88b6bac276b9",
   "metadata": {},
   "outputs": [],
   "source": [
    "X_test[i0+5][3,8] = 0.79"
   ]
  },
  {
   "cell_type": "code",
   "execution_count": 168,
   "id": "fa14c312-ab72-4fec-9675-65de1659af26",
   "metadata": {},
   "outputs": [
    {
     "name": "stdout",
     "output_type": "stream",
     "text": [
      "\u001b[1m313/313\u001b[0m \u001b[32m━━━━━━━━━━━━━━━━━━━━\u001b[0m\u001b[37m\u001b[0m \u001b[1m0s\u001b[0m 1ms/step\n"
     ]
    }
   ],
   "source": [
    "y_pred_new = seplin.predict(X_test)"
   ]
  },
  {
   "cell_type": "code",
   "execution_count": 170,
   "id": "a7798df4-3a6d-47b9-9b8d-dab52893e0ca",
   "metadata": {},
   "outputs": [
    {
     "data": {
      "text/plain": [
       "array([0.99999523], dtype=float32)"
      ]
     },
     "execution_count": 170,
     "metadata": {},
     "output_type": "execute_result"
    }
   ],
   "source": [
    "y_pred_new[i0+5]  # mainteant l'image i0+5 est mal classifiée !\n",
    "# rappel : seuil de décision est de 0.5 pour la categorisation "
   ]
  },
  {
   "cell_type": "code",
   "execution_count": 172,
   "id": "d36fe988-f466-4aea-9f80-6a04f4dbdd4a",
   "metadata": {},
   "outputs": [
    {
     "data": {
      "image/png": "[encoded data removed]",
      "text/plain": [
       "<Figure size 640x480 with 1 Axes>"
      ]
     },
     "metadata": {},
     "output_type": "display_data"
    }
   ],
   "source": [
    "plt.imshow(X_test[i0+5])\n",
    "plt.show()"
   ]
  },
  {
   "cell_type": "markdown",
   "id": "1560410d-89ed-4843-a02b-26a682c1fc78",
   "metadata": {},
   "source": [
    "# Question / exercice de généralisation \n",
    "\n",
    "Modifier de facon invisible une image qui est pas tout près de la frontière (par exemple, la prédiction de base est de 0.25 ou 0.75).\n",
    "\n",
    "indication : trouver plusieurs poids importants (argmax)"
   ]
  },
  {
   "cell_type": "markdown",
   "id": "56266e86-4be7-4931-b4e2-a29fcb768e0d",
   "metadata": {},
   "source": [
    "### Remarque: Ce notebook sera mis en ligne avec le modèle en consideration."
   ]
  },
  {
   "cell_type": "markdown",
   "id": "82e63a0a-9894-48f6-82a3-4c5f7aed6f95",
   "metadata": {},
   "source": [
    "## Question 2:\n",
    "\n",
    "Quel est l'image qui réalise le zero \"le plus parfait\", c.a.d qui a une prediction aussi petite que possible,\n",
    "c.a.d prediction nulle ? \n",
    "\n",
    "Idée: dans l'image, mettre 0 dans les pixels associés aux poids positifs, et mettre aux pixels associées aux poids négatifs"
   ]
  },
  {
   "cell_type": "code",
   "execution_count": 187,
   "id": "fea8a6ca-e265-4edf-ae42-32c9742bac6a",
   "metadata": {
    "scrolled": true
   },
   "outputs": [
    {
     "data": {
      "text/plain": [
       "array([[ True, False, False,  True,  True, False,  True,  True, False,\n",
       "        False,  True, False,  True,  True,  True,  True, False, False,\n",
       "        False,  True, False, False, False, False,  True, False, False,\n",
       "        False],\n",
       "       [False, False, False,  True, False, False,  True,  True,  True,\n",
       "         True,  True, False, False, False,  True, False, False, False,\n",
       "         True,  True,  True,  True,  True,  True, False, False, False,\n",
       "        False],\n",
       "       [ True,  True,  True, False, False,  True,  True, False,  True,\n",
       "         True,  True,  True,  True,  True,  True,  True, False,  True,\n",
       "         True, False,  True,  True,  True,  True,  True,  True, False,\n",
       "         True],\n",
       "       [False,  True,  True,  True, False, False,  True,  True,  True,\n",
       "         True,  True,  True,  True, False,  True,  True,  True, False,\n",
       "         True,  True, False,  True,  True, False,  True,  True,  True,\n",
       "         True],\n",
       "       [False,  True,  True,  True,  True,  True,  True,  True, False,\n",
       "        False,  True, False,  True, False,  True, False,  True, False,\n",
       "         True, False, False,  True, False,  True,  True,  True,  True,\n",
       "         True],\n",
       "       [False,  True,  True,  True,  True,  True, False,  True, False,\n",
       "         True, False, False,  True, False, False, False, False,  True,\n",
       "        False,  True, False,  True,  True,  True,  True,  True,  True,\n",
       "         True],\n",
       "       [ True,  True,  True,  True,  True,  True,  True,  True, False,\n",
       "         True,  True,  True,  True, False, False,  True,  True, False,\n",
       "        False,  True,  True, False, False,  True,  True,  True,  True,\n",
       "         True],\n",
       "       [False,  True,  True,  True,  True, False, False, False,  True,\n",
       "        False, False, False,  True, False, False,  True,  True, False,\n",
       "        False, False,  True,  True,  True, False,  True,  True,  True,\n",
       "        False],\n",
       "       [False,  True, False, False,  True,  True, False, False, False,\n",
       "        False,  True,  True, False,  True, False, False, False, False,\n",
       "        False,  True, False, False, False, False,  True,  True,  True,\n",
       "         True],\n",
       "       [ True,  True, False,  True,  True, False,  True, False,  True,\n",
       "        False, False,  True,  True, False, False,  True, False, False,\n",
       "        False, False, False,  True,  True, False,  True,  True,  True,\n",
       "         True],\n",
       "       [ True,  True, False,  True, False, False, False, False,  True,\n",
       "        False,  True, False,  True,  True, False, False, False, False,\n",
       "        False,  True,  True, False, False, False, False,  True,  True,\n",
       "         True],\n",
       "       [ True, False,  True, False,  True,  True, False,  True, False,\n",
       "         True,  True, False,  True, False,  True,  True,  True, False,\n",
       "         True, False, False, False, False, False,  True,  True,  True,\n",
       "         True],\n",
       "       [ True,  True,  True,  True,  True, False, False,  True, False,\n",
       "        False,  True, False, False, False,  True,  True,  True, False,\n",
       "         True, False, False, False, False,  True, False,  True,  True,\n",
       "         True],\n",
       "       [False, False,  True, False, False,  True, False, False, False,\n",
       "        False, False,  True,  True,  True,  True,  True,  True,  True,\n",
       "        False,  True,  True,  True, False, False,  True, False,  True,\n",
       "         True],\n",
       "       [ True,  True,  True,  True,  True, False, False, False,  True,\n",
       "        False,  True, False, False, False,  True, False,  True, False,\n",
       "         True,  True, False, False,  True, False,  True, False,  True,\n",
       "         True],\n",
       "       [ True,  True,  True,  True, False, False,  True, False, False,\n",
       "        False, False,  True, False,  True,  True,  True,  True,  True,\n",
       "         True,  True, False,  True, False, False, False,  True,  True,\n",
       "         True],\n",
       "       [ True,  True,  True,  True,  True, False, False, False, False,\n",
       "        False, False, False,  True,  True,  True,  True,  True, False,\n",
       "         True,  True, False, False,  True,  True,  True,  True,  True,\n",
       "        False],\n",
       "       [ True,  True,  True, False, False, False, False, False,  True,\n",
       "        False, False,  True, False,  True,  True,  True,  True, False,\n",
       "         True, False, False,  True, False,  True, False, False,  True,\n",
       "        False],\n",
       "       [ True,  True,  True,  True,  True,  True,  True,  True, False,\n",
       "        False, False, False,  True,  True,  True,  True,  True,  True,\n",
       "        False,  True,  True,  True,  True,  True,  True, False,  True,\n",
       "         True],\n",
       "       [False, False, False,  True,  True,  True, False, False, False,\n",
       "         True, False, False, False,  True,  True,  True,  True,  True,\n",
       "        False,  True, False,  True, False,  True, False,  True,  True,\n",
       "         True],\n",
       "       [ True, False,  True,  True, False, False,  True,  True, False,\n",
       "         True, False, False, False, False,  True, False,  True,  True,\n",
       "        False, False,  True, False,  True,  True,  True,  True, False,\n",
       "         True],\n",
       "       [False,  True,  True, False,  True,  True, False, False,  True,\n",
       "        False, False, False, False,  True,  True,  True, False,  True,\n",
       "         True,  True,  True,  True, False,  True,  True,  True, False,\n",
       "        False],\n",
       "       [ True,  True,  True,  True,  True, False, False,  True, False,\n",
       "        False, False, False,  True, False,  True,  True,  True, False,\n",
       "         True, False, False,  True, False, False,  True, False, False,\n",
       "        False],\n",
       "       [ True,  True,  True,  True,  True,  True, False, False,  True,\n",
       "        False, False, False, False, False, False,  True,  True, False,\n",
       "         True,  True,  True,  True, False,  True,  True, False,  True,\n",
       "        False],\n",
       "       [False,  True,  True,  True, False, False,  True,  True, False,\n",
       "        False, False,  True, False,  True, False, False,  True, False,\n",
       "        False,  True,  True,  True, False,  True,  True,  True, False,\n",
       "        False],\n",
       "       [ True, False,  True,  True,  True,  True,  True,  True,  True,\n",
       "         True,  True,  True,  True,  True,  True,  True,  True,  True,\n",
       "         True,  True,  True,  True,  True,  True,  True,  True,  True,\n",
       "         True],\n",
       "       [ True, False,  True,  True,  True,  True,  True,  True,  True,\n",
       "         True,  True,  True,  True,  True,  True,  True,  True,  True,\n",
       "         True,  True,  True,  True,  True,  True,  True,  True, False,\n",
       "        False],\n",
       "       [ True,  True,  True, False,  True,  True,  True,  True,  True,\n",
       "         True,  True,  True,  True,  True,  True,  True,  True,  True,\n",
       "         True,  True,  True,  True,  True,  True,  True,  True, False,\n",
       "        False]])"
      ]
     },
     "execution_count": 187,
     "metadata": {},
     "output_type": "execute_result"
    }
   ],
   "source": [
    "poids > 0"
   ]
  },
  {
   "cell_type": "code",
   "execution_count": 189,
   "id": "90c5aabb-4105-4fd2-a8be-d64eebb5dabf",
   "metadata": {},
   "outputs": [],
   "source": [
    "# poids positifs\n",
    "pp = (poids > 0).astype(int).reshape(28,28)   # convertion False-True en 0-1"
   ]
  },
  {
   "cell_type": "code",
   "execution_count": 199,
   "id": "8a352615-3f8c-4e58-b88e-ab3d739f9859",
   "metadata": {},
   "outputs": [
    {
     "data": {
      "image/png": "[encoded data removed]",
      "text/plain": [
       "<Figure size 640x480 with 2 Axes>"
      ]
     },
     "metadata": {},
     "output_type": "display_data"
    }
   ],
   "source": [
    "plt.imshow(pp, cmap='copper')\n",
    "plt.colorbar()\n",
    "plt.show()"
   ]
  },
  {
   "cell_type": "code",
   "execution_count": 193,
   "id": "b73950cc-e504-4c21-b924-b7c4fab2938f",
   "metadata": {},
   "outputs": [],
   "source": [
    "# \"Zero parfait\" est l'inversion du tableau pp\n",
    "zero = 1 - pp"
   ]
  },
  {
   "cell_type": "code",
   "execution_count": 195,
   "id": "659343aa-f368-442d-bcd0-4057cda2fc46",
   "metadata": {},
   "outputs": [
    {
     "name": "stdout",
     "output_type": "stream",
     "text": [
      "\u001b[1m1/1\u001b[0m \u001b[32m━━━━━━━━━━━━━━━━━━━━\u001b[0m\u001b[37m\u001b[0m \u001b[1m0s\u001b[0m 173ms/step\n"
     ]
    },
    {
     "data": {
      "text/plain": [
       "array([[0.]], dtype=float32)"
      ]
     },
     "execution_count": 195,
     "metadata": {},
     "output_type": "execute_result"
    }
   ],
   "source": [
    "seplin.predict(np.array([zero]))"
   ]
  },
  {
   "cell_type": "code",
   "execution_count": 201,
   "id": "36efe580-1bc0-4208-b89f-38f41e5ad213",
   "metadata": {},
   "outputs": [
    {
     "data": {
      "image/png": "[encoded data removed]",
      "text/plain": [
       "<Figure size 640x480 with 2 Axes>"
      ]
     },
     "metadata": {},
     "output_type": "display_data"
    }
   ],
   "source": [
    "plt.imshow(1-pp, cmap='copper')\n",
    "plt.colorbar()\n",
    "plt.show()"
   ]
  },
  {
   "cell_type": "code",
   "execution_count": 203,
   "id": "9ff5c928-5633-4610-9176-af82dcc82aea",
   "metadata": {},
   "outputs": [
    {
     "data": {
      "image/png": "[encoded data removed]",
      "text/plain": [
       "<Figure size 640x480 with 2 Axes>"
      ]
     },
     "metadata": {},
     "output_type": "display_data"
    }
   ],
   "source": [
    "# Enfin , quel sont les poids (\"neuro-anatomie\")\n",
    "\n",
    "plt.imshow(poids, cmap='copper')\n",
    "plt.colorbar()\n",
    "plt.show()"
   ]
  },
  {
   "cell_type": "code",
   "execution_count": null,
   "id": "48e60930-8217-445a-8063-acb3231ad6e6",
   "metadata": {},
   "outputs": [],
   "source": [
    "# on vois que le reseau a appris des regularité de notre dataset (bon centrage des zeros par exemple), \n",
    "# et non une forme generale / geometrique du chiffre 0."
   ]
  }
 ],
 "metadata": {
  "kernelspec": {
   "display_name": "Python 3 (ipykernel)",
   "language": "python",
   "name": "python3"
  },
  "language_info": {
   "codemirror_mode": {
    "name": "ipython",
    "version": 3
   },
   "file_extension": ".py",
   "mimetype": "text/x-python",
   "name": "python",
   "nbconvert_exporter": "python",
   "pygments_lexer": "ipython3",
   "version": "3.12.7"
  }
 },
 "nbformat": 4,
 "nbformat_minor": 5
}
