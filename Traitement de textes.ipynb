{
 "cells": [
  {
   "cell_type": "markdown",
   "id": "ff1946d0-97f9-4b76-8b81-0e4b91ce3521",
   "metadata": {},
   "source": [
    "# Traitement de texte NLP"
   ]
  },
  {
   "cell_type": "markdown",
   "id": "34b6e54b-b264-43a4-a114-094105451491",
   "metadata": {},
   "source": [
    "## Encodage \n",
    "\n",
    "Encodage classique: ASCII, UTF-8, ISO-8859-1 (INSEE...)\n",
    "\n",
    "tokenisation: on transforme une phrase en une suite de tokens, c.a.d suite de mots ou de fragments de mots (ou de lettres).\n",
    "\n",
    "tezte -> suite de tokens -> suite de nombres "
   ]
  },
  {
   "cell_type": "code",
   "execution_count": 8,
   "id": "f4857575-4bcc-4efd-b4f4-c939a00322f5",
   "metadata": {},
   "outputs": [],
   "source": [
    "#pip install tiktoken "
   ]
  },
  {
   "cell_type": "code",
   "execution_count": 1,
   "id": "6372f752-476c-49b3-9480-9e6c747d0437",
   "metadata": {},
   "outputs": [],
   "source": [
    "# utilisation basique de tokenizer de openAI\n",
    "import tiktoken "
   ]
  },
  {
   "cell_type": "code",
   "execution_count": 3,
   "id": "9eb372e9-79c1-4bac-b668-77043cc94b99",
   "metadata": {},
   "outputs": [],
   "source": [
    "enc = tiktoken.get_encoding('cl100k_base')"
   ]
  },
  {
   "cell_type": "code",
   "execution_count": 5,
   "id": "0b16f425-4271-4740-b432-8a8353877cd0",
   "metadata": {},
   "outputs": [
    {
     "name": "stdout",
     "output_type": "stream",
     "text": [
      "[15339, 1917]\n"
     ]
    }
   ],
   "source": [
    "print (enc.encode(\"hello world\"))  #ici , 2 token (2 mots)"
   ]
  },
  {
   "cell_type": "code",
   "execution_count": 7,
   "id": "6b16eb26-b65c-4f22-826d-7bc424802050",
   "metadata": {},
   "outputs": [
    {
     "name": "stdout",
     "output_type": "stream",
     "text": [
      "[478, 54312, 1744, 9964, 60946, 82, 514, 55467]\n"
     ]
    }
   ],
   "source": [
    "print(enc.encode(\"est-ce que tu comprends le français\"))"
   ]
  },
  {
   "cell_type": "code",
   "execution_count": 9,
   "id": "5dee7c15-3718-447e-97ca-9c5a4c407a4a",
   "metadata": {},
   "outputs": [
    {
     "name": "stdout",
     "output_type": "stream",
     "text": [
      "hello world\n"
     ]
    }
   ],
   "source": [
    "# l'operation inverse\n",
    "print(enc.decode([15339, 1917]))"
   ]
  },
  {
   "cell_type": "code",
   "execution_count": 11,
   "id": "9f16235d-3651-4daa-b9a0-00f0326180d5",
   "metadata": {},
   "outputs": [
    {
     "name": "stdout",
     "output_type": "stream",
     "text": [
      "hello world\n"
     ]
    }
   ],
   "source": [
    "print(enc.decode([15339, 1917]))"
   ]
  },
  {
   "cell_type": "code",
   "execution_count": 13,
   "id": "cd16b253-4fc1-46da-ad1a-09774e099d29",
   "metadata": {},
   "outputs": [
    {
     "name": "stdout",
     "output_type": "stream",
     "text": [
      "est-ce que tu comprends\n"
     ]
    }
   ],
   "source": [
    "print(enc.decode([478, 54312, 1744, 9964, 60946, 82]))"
   ]
  },
  {
   "cell_type": "markdown",
   "id": "cf37e1d7-c416-4778-8794-ccb4bd50450d",
   "metadata": {},
   "source": [
    "#  Exercice :\n",
    "\n",
    "combien de tokens in sherlock.txt ?"
   ]
  },
  {
   "cell_type": "markdown",
   "id": "93962325-db5d-4dc9-a258-117d76ce5cdb",
   "metadata": {},
   "source": [
    "# Exemple avec keras "
   ]
  },
  {
   "cell_type": "code",
   "execution_count": 17,
   "id": "0bce697d-1394-4831-8471-c958907291c1",
   "metadata": {},
   "outputs": [],
   "source": [
    "# selon F. Chollet (auteur de keras)\n",
    "samples = ['The cat sat on the cart','The dog ate my homework']"
   ]
  },
  {
   "cell_type": "code",
   "execution_count": 19,
   "id": "c18adfe8-4f6f-4984-a9ba-5db32630df31",
   "metadata": {},
   "outputs": [],
   "source": [
    "from tensorflow.keras.preprocessing.text import Tokenizer"
   ]
  },
  {
   "cell_type": "code",
   "execution_count": 20,
   "id": "128a9adb-7daf-4268-8f88-dd29f29b63f7",
   "metadata": {},
   "outputs": [],
   "source": [
    "# on va prendre un dictionnaire de 10000 mots les plus fréquents\n",
    "tok = Tokenizer(num_words=10000)"
   ]
  },
  {
   "cell_type": "code",
   "execution_count": 21,
   "id": "49f46aee-4407-4390-89c1-13ded9649ae9",
   "metadata": {},
   "outputs": [],
   "source": [
    "tok.fit_on_texts(samples)"
   ]
  },
  {
   "cell_type": "code",
   "execution_count": 22,
   "id": "9d51315e-a774-4055-a21f-24be6b0b6a89",
   "metadata": {},
   "outputs": [
    {
     "data": {
      "text/plain": [
       "{1: 'the',\n",
       " 2: 'cat',\n",
       " 3: 'sat',\n",
       " 4: 'on',\n",
       " 5: 'cart',\n",
       " 6: 'dog',\n",
       " 7: 'ate',\n",
       " 8: 'my',\n",
       " 9: 'homework'}"
      ]
     },
     "execution_count": 22,
     "metadata": {},
     "output_type": "execute_result"
    }
   ],
   "source": [
    "tok.index_word  #  dictionnaire nombre -> mot, adapte aux textes données"
   ]
  },
  {
   "cell_type": "code",
   "execution_count": 23,
   "id": "4d50b285-36b5-4146-96fc-7e32c53a6dbe",
   "metadata": {},
   "outputs": [
    {
     "data": {
      "text/plain": [
       "{'the': 1,\n",
       " 'cat': 2,\n",
       " 'sat': 3,\n",
       " 'on': 4,\n",
       " 'cart': 5,\n",
       " 'dog': 6,\n",
       " 'ate': 7,\n",
       " 'my': 8,\n",
       " 'homework': 9}"
      ]
     },
     "execution_count": 23,
     "metadata": {},
     "output_type": "execute_result"
    }
   ],
   "source": [
    "# bijection inverse:\n",
    "tok.word_index"
   ]
  },
  {
   "cell_type": "markdown",
   "id": "6e10c849-5883-4fcb-b21d-1ff97b9c7289",
   "metadata": {},
   "source": [
    "# Classification de textes (depeches de Reuters)"
   ]
  },
  {
   "cell_type": "code",
   "execution_count": 25,
   "id": "35b69909-f2bf-4a30-a4d7-5f4d3493d057",
   "metadata": {},
   "outputs": [
    {
     "data": {
      "text/plain": [
       "array([[0., 1., 1., ..., 0., 0., 0.],\n",
       "       [0., 1., 0., ..., 0., 0., 0.]])"
      ]
     },
     "execution_count": 25,
     "metadata": {},
     "output_type": "execute_result"
    }
   ],
   "source": [
    "# préparation d'un dataset\n",
    "\n",
    "#une phrase par ligne, \n",
    "#le nombre de colonne est constant pour toutes les lignes/phrases\n",
    "# et donc egale au nombre de mots dans le dictionnaire\n",
    "\n",
    "# Ce type d'encodage de phrases s'appelle BAG OF WORDS\n",
    "\n",
    "seq = tok.texts_to_matrix(samples)\n",
    "seq\n"
   ]
  },
  {
   "cell_type": "code",
   "execution_count": 32,
   "id": "d821ed32-ef1b-4cec-8c25-30185423540d",
   "metadata": {},
   "outputs": [
    {
     "data": {
      "text/plain": [
       "(2, 10000)"
      ]
     },
     "execution_count": 32,
     "metadata": {},
     "output_type": "execute_result"
    }
   ],
   "source": [
    "seq.shape"
   ]
  },
  {
   "cell_type": "code",
   "execution_count": 34,
   "id": "4c528237-904b-4167-89de-2393b7e92e32",
   "metadata": {},
   "outputs": [
    {
     "data": {
      "text/plain": [
       "array([[0., 1., 1., 1., 1., 1., 0., 0., 0., 0., 0., 0., 0., 0., 0.],\n",
       "       [0., 1., 0., 0., 0., 0., 1., 1., 1., 1., 0., 0., 0., 0., 0.]])"
      ]
     },
     "execution_count": 34,
     "metadata": {},
     "output_type": "execute_result"
    }
   ],
   "source": [
    "seq[:, 0:15]"
   ]
  },
  {
   "cell_type": "markdown",
   "id": "7df3de01-44de-4bc8-b89d-b08e816ec909",
   "metadata": {},
   "source": [
    "### REMARQUE \n",
    "\n",
    "Bag of Words oubli toute information relative à l'ordre des mots dans les phrases !!"
   ]
  },
  {
   "cell_type": "code",
   "execution_count": 37,
   "id": "38b64a5a-5c80-4d98-8b20-854e53319865",
   "metadata": {},
   "outputs": [],
   "source": [
    "# depeches Reuters\n",
    "from keras.datasets import reuters"
   ]
  },
  {
   "cell_type": "code",
   "execution_count": 39,
   "id": "090679fc-d01f-442b-9c8e-b842ec0ca134",
   "metadata": {},
   "outputs": [],
   "source": [
    "(train_data, train_labels), (test_data, test_labels) = reuters.load_data(num_words=10000)"
   ]
  },
  {
   "cell_type": "code",
   "execution_count": 41,
   "id": "3b472e1f-20b6-4155-a1a3-3de594b823cc",
   "metadata": {},
   "outputs": [
    {
     "data": {
      "text/plain": [
       "array([list([1, 2, 2, 8, 43, 10, 447, 5, 25, 207, 270, 5, 3095, 111, 16, 369, 186, 90, 67, 7, 89, 5, 19, 102, 6, 19, 124, 15, 90, 67, 84, 22, 482, 26, 7, 48, 4, 49, 8, 864, 39, 209, 154, 6, 151, 6, 83, 11, 15, 22, 155, 11, 15, 7, 48, 9, 4579, 1005, 504, 6, 258, 6, 272, 11, 15, 22, 134, 44, 11, 15, 16, 8, 197, 1245, 90, 67, 52, 29, 209, 30, 32, 132, 6, 109, 15, 17, 12]),\n",
       "       list([1, 3267, 699, 3434, 2295, 56, 2, 7511, 9, 56, 3906, 1073, 81, 5, 1198, 57, 366, 737, 132, 20, 4093, 7, 2, 49, 2295, 2, 1037, 3267, 699, 3434, 8, 7, 10, 241, 16, 855, 129, 231, 783, 5, 4, 587, 2295, 2, 2, 775, 7, 48, 34, 191, 44, 35, 1795, 505, 17, 12]),\n",
       "       list([1, 53, 12, 284, 15, 14, 272, 26, 53, 959, 32, 818, 15, 14, 272, 26, 39, 684, 70, 11, 14, 12, 3886, 18, 180, 183, 187, 70, 11, 14, 102, 32, 11, 29, 53, 44, 704, 15, 14, 19, 758, 15, 53, 959, 47, 1013, 15, 14, 19, 132, 15, 39, 965, 32, 11, 14, 147, 72, 11, 180, 183, 187, 44, 11, 14, 102, 19, 11, 123, 186, 90, 67, 960, 4, 78, 13, 68, 467, 511, 110, 59, 89, 90, 67, 1390, 55, 2678, 92, 617, 80, 1274, 46, 905, 220, 13, 4, 346, 48, 235, 629, 5, 211, 5, 1118, 7, 2, 81, 5, 187, 11, 15, 9, 1709, 201, 5, 47, 3615, 18, 478, 4514, 5, 1118, 7, 232, 2, 71, 5, 160, 63, 11, 9, 2, 81, 5, 102, 59, 11, 17, 12]),\n",
       "       ...,\n",
       "       list([1, 141, 3890, 387, 81, 8, 16, 1629, 10, 340, 1241, 850, 31, 56, 3890, 691, 9, 1241, 71, 9, 5985, 2, 2, 699, 2, 2, 2, 699, 244, 5945, 4, 49, 8, 4, 656, 850, 33, 2993, 9, 2139, 340, 3371, 1493, 9, 2, 22, 2, 1094, 687, 83, 35, 15, 257, 6, 57, 9190, 7, 4, 5956, 654, 5, 2, 6191, 1371, 4, 49, 8, 16, 369, 646, 6, 1076, 7, 124, 407, 17, 12]),\n",
       "       list([1, 53, 46, 957, 26, 14, 74, 132, 26, 39, 46, 258, 3614, 18, 14, 74, 134, 5131, 18, 88, 2321, 72, 11, 14, 1842, 32, 11, 123, 383, 89, 39, 46, 235, 10, 864, 728, 5, 258, 44, 11, 15, 22, 753, 9, 42, 92, 131, 728, 5, 69, 312, 11, 15, 22, 222, 2, 3237, 383, 48, 39, 74, 235, 10, 864, 276, 5, 61, 32, 11, 15, 21, 4, 211, 5, 126, 1072, 42, 92, 131, 46, 19, 352, 11, 15, 22, 710, 220, 9, 42, 92, 131, 276, 5, 59, 61, 11, 15, 22, 10, 455, 7, 1172, 137, 336, 1325, 6, 1532, 142, 971, 6463, 43, 359, 5, 4, 326, 753, 364, 17, 12]),\n",
       "       list([1, 227, 2406, 91, 2, 125, 2855, 21, 4, 3976, 76, 7, 4, 757, 481, 3976, 790, 5259, 5654, 9, 111, 149, 8, 7, 10, 76, 223, 51, 4, 417, 8, 1047, 91, 6917, 1688, 340, 7, 194, 9411, 6, 1894, 21, 127, 2151, 2394, 1456, 6, 3034, 4, 329, 433, 7, 65, 87, 1127, 10, 8219, 1475, 290, 9, 21, 567, 16, 1926, 24, 4, 76, 209, 30, 4033, 6655, 5654, 8, 4, 60, 8, 4, 966, 308, 40, 2575, 129, 2, 295, 277, 1071, 9, 24, 286, 2114, 234, 222, 9, 4, 906, 3994, 8519, 114, 5758, 1752, 7, 4, 113, 17, 12])],\n",
       "      dtype=object)"
      ]
     },
     "execution_count": 41,
     "metadata": {},
     "output_type": "execute_result"
    }
   ],
   "source": [
    "train_data   # déja tokenisé "
   ]
  },
  {
   "cell_type": "code",
   "execution_count": 43,
   "id": "40e63c1f-9e06-4666-aa03-184b4f07b274",
   "metadata": {},
   "outputs": [
    {
     "data": {
      "text/plain": [
       "(8982,)"
      ]
     },
     "execution_count": 43,
     "metadata": {},
     "output_type": "execute_result"
    }
   ],
   "source": [
    "train_data.shape  # environ 9k depeches"
   ]
  },
  {
   "cell_type": "code",
   "execution_count": 45,
   "id": "ef0ba08d-29db-4432-8961-d238021f704b",
   "metadata": {},
   "outputs": [
    {
     "data": {
      "text/plain": [
       "87"
      ]
     },
     "execution_count": 45,
     "metadata": {},
     "output_type": "execute_result"
    }
   ],
   "source": [
    "len(train_data[0])  # longeur d'une depeche"
   ]
  },
  {
   "cell_type": "code",
   "execution_count": 47,
   "id": "43f205e8-c7ac-4cf1-ac59-2ae99f5e373f",
   "metadata": {},
   "outputs": [
    {
     "data": {
      "text/plain": [
       "56"
      ]
     },
     "execution_count": 47,
     "metadata": {},
     "output_type": "execute_result"
    }
   ],
   "source": [
    "len(train_data[1])"
   ]
  },
  {
   "cell_type": "code",
   "execution_count": 49,
   "id": "8a49ee8a-670b-4159-8a2b-836410e2cd44",
   "metadata": {},
   "outputs": [],
   "source": [
    "word_index = reuters.get_word_index()   # dictionary des tokens (ici mots)"
   ]
  },
  {
   "cell_type": "code",
   "execution_count": 51,
   "id": "b97512e3-e0fe-4098-900f-f86013ca0a37",
   "metadata": {},
   "outputs": [
    {
     "data": {
      "text/plain": [
       "6962"
      ]
     },
     "execution_count": 51,
     "metadata": {},
     "output_type": "execute_result"
    }
   ],
   "source": [
    "word_index['master']"
   ]
  },
  {
   "cell_type": "code",
   "execution_count": 53,
   "id": "8a6791d1-e987-4d41-a96b-7ee9fad78030",
   "metadata": {},
   "outputs": [
    {
     "data": {
      "text/plain": [
       "array([ 3,  4,  3, ..., 25,  3, 25])"
      ]
     },
     "execution_count": 53,
     "metadata": {},
     "output_type": "execute_result"
    }
   ],
   "source": [
    "train_labels"
   ]
  },
  {
   "cell_type": "code",
   "execution_count": 55,
   "id": "d4e76595-2ce7-44c0-bf00-269715215395",
   "metadata": {},
   "outputs": [
    {
     "data": {
      "text/plain": [
       "(0, 45)"
      ]
     },
     "execution_count": 55,
     "metadata": {},
     "output_type": "execute_result"
    }
   ],
   "source": [
    "min(train_labels), max(train_labels)   # 46 labels, c.a.d domaines d'information : \"sport\", \"politique\" etc"
   ]
  },
  {
   "cell_type": "code",
   "execution_count": 57,
   "id": "ec73e2aa-abbd-41e6-899c-862df47c570d",
   "metadata": {},
   "outputs": [],
   "source": [
    "# il s'agit donc d'une tache de classification de depeches en 46 domaines."
   ]
  },
  {
   "cell_type": "code",
   "execution_count": 59,
   "id": "b8c5e8bc-5eb9-4421-aef2-1015d54d9679",
   "metadata": {},
   "outputs": [],
   "source": [
    "# Decodage d'une depeche (avoir index_word): inverser le dictionnaire\n",
    "index_word = dict(\n",
    "    [(value, key) for (key, value) in word_index.items()]\n",
    ")"
   ]
  },
  {
   "cell_type": "code",
   "execution_count": 61,
   "id": "dda0443e-a3e0-46cc-91ca-a149a11ba909",
   "metadata": {},
   "outputs": [
    {
     "data": {
      "text/plain": [
       "'master'"
      ]
     },
     "execution_count": 61,
     "metadata": {},
     "output_type": "execute_result"
    }
   ],
   "source": [
    "index_word[6962]"
   ]
  },
  {
   "cell_type": "code",
   "execution_count": 63,
   "id": "3abf0363-eeee-4112-96df-1a4b58a74dcf",
   "metadata": {},
   "outputs": [
    {
     "data": {
      "text/plain": [
       "'the of of mln loss for plc said at only ended said commonwealth could 1 traders now april 0 a after said from 1985 and from foreign 000 april 0 prices its account year a but in this mln home an states earlier and rise and revs vs 000 its 16 vs 000 a but 3 psbr oils several and shareholders and dividend vs 000 its all 4 vs 000 1 mln agreed largely april 0 are 2 states will billion total and against 000 pct dlrs'"
      ]
     },
     "execution_count": 63,
     "metadata": {},
     "output_type": "execute_result"
    }
   ],
   "source": [
    "dep = [index_word[ind] for ind in train_data[0]]\n",
    "' '.join(dep)  # BAG OF WORDS"
   ]
  },
  {
   "cell_type": "code",
   "execution_count": 65,
   "id": "4456cd78-3cb2-416a-94c2-418ebc53ea8d",
   "metadata": {},
   "outputs": [],
   "source": [
    "import numpy as np "
   ]
  },
  {
   "cell_type": "code",
   "execution_count": 67,
   "id": "e5a99869-560d-4712-8736-1fc54c73fb75",
   "metadata": {},
   "outputs": [],
   "source": [
    "# pré-traitement : formater les données pour le réseau \n",
    "\n",
    "# conversion en une matrice\n",
    "x_train = np.zeros((len(train_data), 10000))\n",
    "# nombre des lignes = nombre de depeches; 10000 = nombres des mots dans le dictionnaire\n",
    "\n",
    "for i, depnum in enumerate(train_data):\n",
    "    # i : numero de depeche pour le placement dans la matrice x_train\n",
    "    # depnum : suite des codes/nombres representant la depeche comme ci-dessus\n",
    "    # representation \"one-hot\" / bag of words\n",
    "    # on met 1 dans TOUTES les colonnes correspondant aux mots de la depeche\n",
    "    x_train[i, depnum] = 1\n",
    "\n",
    "x_test = np.zeros((len(test_data), 10000))\n",
    "for i, depnum in enumerate(test_data):\n",
    "    x_test[i, depnum] = 1"
   ]
  },
  {
   "cell_type": "code",
   "execution_count": 69,
   "id": "2ca52338-0b39-44d3-82fc-587622d6453a",
   "metadata": {},
   "outputs": [
    {
     "data": {
      "text/plain": [
       "array([[0., 1., 1., ..., 0., 0., 0.],\n",
       "       [0., 1., 1., ..., 0., 0., 0.],\n",
       "       [0., 1., 1., ..., 0., 0., 0.],\n",
       "       [0., 1., 1., ..., 0., 0., 0.],\n",
       "       [0., 1., 1., ..., 0., 0., 0.]])"
      ]
     },
     "execution_count": 69,
     "metadata": {},
     "output_type": "execute_result"
    }
   ],
   "source": [
    "x_train[0:5, :]  # 5 premiere depeches"
   ]
  },
  {
   "cell_type": "code",
   "execution_count": 71,
   "id": "6c2d03cf-e615-4fc5-8ae9-d0d717b86c2e",
   "metadata": {},
   "outputs": [
    {
     "data": {
      "text/plain": [
       "(8982, 46)"
      ]
     },
     "execution_count": 71,
     "metadata": {},
     "output_type": "execute_result"
    }
   ],
   "source": [
    "# conversion des labels en one-hot\n",
    "\n",
    "from keras.utils import to_categorical   # cela depend de la version de keras...\n",
    "y_train = to_categorical(train_labels)\n",
    "y_test = to_categorical(test_labels)\n",
    "\n",
    "y_train.shape  # 46"
   ]
  },
  {
   "cell_type": "markdown",
   "id": "654fd798-caa6-4a1b-87bb-39bfdb67a41b",
   "metadata": {},
   "source": [
    "## Simple réseau dense de classification \n"
   ]
  },
  {
   "cell_type": "code",
   "execution_count": 74,
   "id": "a17aa468-d2df-48d1-a110-6773d4ae1252",
   "metadata": {},
   "outputs": [],
   "source": [
    "from keras import models, layers"
   ]
  },
  {
   "cell_type": "code",
   "execution_count": 76,
   "id": "f41910d2-f5ec-4c82-8d56-c6cfd185a9bc",
   "metadata": {},
   "outputs": [],
   "source": [
    "model = models.Sequential([\n",
    "    layers.Input(shape=(10000, )),  # on ne précise pas le nombre d'exemple, mais la dimensionnalité d'un exemple\n",
    "    layers.Dense(64, activation='relu'),\n",
    "    layers.Dense(64, activation='relu'),\n",
    "    layers.Dense(46, activation='softmax')  # sortie, classification 46 labels\n",
    "])"
   ]
  },
  {
   "cell_type": "code",
   "execution_count": 78,
   "id": "f360758a-dda9-4508-a390-be94a192c099",
   "metadata": {},
   "outputs": [],
   "source": [
    "model.compile(optimizer='rmsprop',\n",
    "              loss='categorical_crossentropy',\n",
    "              metrics=['acc']\n",
    ")"
   ]
  },
  {
   "cell_type": "code",
   "execution_count": 80,
   "id": "8e6a4c63-454c-4f87-afe9-0f47c88df189",
   "metadata": {
    "scrolled": true
   },
   "outputs": [
    {
     "name": "stdout",
     "output_type": "stream",
     "text": [
      "Epoch 1/20\n",
      "\u001b[1m64/64\u001b[0m \u001b[32m━━━━━━━━━━━━━━━━━━━━\u001b[0m\u001b[37m\u001b[0m \u001b[1m0s\u001b[0m 4ms/step - acc: 0.4932 - loss: 2.4858 - val_acc: 0.7186 - val_loss: 1.3657\n",
      "Epoch 2/20\n",
      "\u001b[1m64/64\u001b[0m \u001b[32m━━━━━━━━━━━━━━━━━━━━\u001b[0m\u001b[37m\u001b[0m \u001b[1m0s\u001b[0m 4ms/step - acc: 0.7697 - loss: 1.0796 - val_acc: 0.7597 - val_loss: 1.1392\n",
      "Epoch 3/20\n",
      "\u001b[1m64/64\u001b[0m \u001b[32m━━━━━━━━━━━━━━━━━━━━\u001b[0m\u001b[37m\u001b[0m \u001b[1m0s\u001b[0m 3ms/step - acc: 0.8589 - loss: 0.6764 - val_acc: 0.7842 - val_loss: 1.0327\n",
      "Epoch 4/20\n",
      "\u001b[1m64/64\u001b[0m \u001b[32m━━━━━━━━━━━━━━━━━━━━\u001b[0m\u001b[37m\u001b[0m \u001b[1m0s\u001b[0m 3ms/step - acc: 0.9084 - loss: 0.4429 - val_acc: 0.8031 - val_loss: 0.9924\n",
      "Epoch 5/20\n",
      "\u001b[1m64/64\u001b[0m \u001b[32m━━━━━━━━━━━━━━━━━━━━\u001b[0m\u001b[37m\u001b[0m \u001b[1m0s\u001b[0m 3ms/step - acc: 0.9281 - loss: 0.3498 - val_acc: 0.7887 - val_loss: 0.9661\n",
      "Epoch 6/20\n",
      "\u001b[1m64/64\u001b[0m \u001b[32m━━━━━━━━━━━━━━━━━━━━\u001b[0m\u001b[37m\u001b[0m \u001b[1m0s\u001b[0m 3ms/step - acc: 0.9468 - loss: 0.2538 - val_acc: 0.7653 - val_loss: 1.0676\n",
      "Epoch 7/20\n",
      "\u001b[1m64/64\u001b[0m \u001b[32m━━━━━━━━━━━━━━━━━━━━\u001b[0m\u001b[37m\u001b[0m \u001b[1m0s\u001b[0m 3ms/step - acc: 0.9519 - loss: 0.2189 - val_acc: 0.7798 - val_loss: 1.0476\n",
      "Epoch 8/20\n",
      "\u001b[1m64/64\u001b[0m \u001b[32m━━━━━━━━━━━━━━━━━━━━\u001b[0m\u001b[37m\u001b[0m \u001b[1m0s\u001b[0m 3ms/step - acc: 0.9551 - loss: 0.1806 - val_acc: 0.6986 - val_loss: 1.4099\n",
      "Epoch 9/20\n",
      "\u001b[1m64/64\u001b[0m \u001b[32m━━━━━━━━━━━━━━━━━━━━\u001b[0m\u001b[37m\u001b[0m \u001b[1m0s\u001b[0m 3ms/step - acc: 0.9564 - loss: 0.1513 - val_acc: 0.7931 - val_loss: 1.0859\n",
      "Epoch 10/20\n",
      "\u001b[1m64/64\u001b[0m \u001b[32m━━━━━━━━━━━━━━━━━━━━\u001b[0m\u001b[37m\u001b[0m \u001b[1m0s\u001b[0m 3ms/step - acc: 0.9627 - loss: 0.1368 - val_acc: 0.7920 - val_loss: 1.1382\n",
      "Epoch 11/20\n",
      "\u001b[1m64/64\u001b[0m \u001b[32m━━━━━━━━━━━━━━━━━━━━\u001b[0m\u001b[37m\u001b[0m \u001b[1m0s\u001b[0m 3ms/step - acc: 0.9601 - loss: 0.1374 - val_acc: 0.7875 - val_loss: 1.1022\n",
      "Epoch 12/20\n",
      "\u001b[1m64/64\u001b[0m \u001b[32m━━━━━━━━━━━━━━━━━━━━\u001b[0m\u001b[37m\u001b[0m \u001b[1m0s\u001b[0m 3ms/step - acc: 0.9582 - loss: 0.1325 - val_acc: 0.7987 - val_loss: 1.1167\n",
      "Epoch 13/20\n",
      "\u001b[1m64/64\u001b[0m \u001b[32m━━━━━━━━━━━━━━━━━━━━\u001b[0m\u001b[37m\u001b[0m \u001b[1m0s\u001b[0m 3ms/step - acc: 0.9640 - loss: 0.1093 - val_acc: 0.7764 - val_loss: 1.1939\n",
      "Epoch 14/20\n",
      "\u001b[1m64/64\u001b[0m \u001b[32m━━━━━━━━━━━━━━━━━━━━\u001b[0m\u001b[37m\u001b[0m \u001b[1m0s\u001b[0m 3ms/step - acc: 0.9616 - loss: 0.1189 - val_acc: 0.7898 - val_loss: 1.1509\n",
      "Epoch 15/20\n",
      "\u001b[1m64/64\u001b[0m \u001b[32m━━━━━━━━━━━━━━━━━━━━\u001b[0m\u001b[37m\u001b[0m \u001b[1m0s\u001b[0m 3ms/step - acc: 0.9660 - loss: 0.1008 - val_acc: 0.7820 - val_loss: 1.2152\n",
      "Epoch 16/20\n",
      "\u001b[1m64/64\u001b[0m \u001b[32m━━━━━━━━━━━━━━━━━━━━\u001b[0m\u001b[37m\u001b[0m \u001b[1m0s\u001b[0m 3ms/step - acc: 0.9654 - loss: 0.0993 - val_acc: 0.7831 - val_loss: 1.2698\n",
      "Epoch 17/20\n",
      "\u001b[1m64/64\u001b[0m \u001b[32m━━━━━━━━━━━━━━━━━━━━\u001b[0m\u001b[37m\u001b[0m \u001b[1m0s\u001b[0m 3ms/step - acc: 0.9669 - loss: 0.0919 - val_acc: 0.7697 - val_loss: 1.3454\n",
      "Epoch 18/20\n",
      "\u001b[1m64/64\u001b[0m \u001b[32m━━━━━━━━━━━━━━━━━━━━\u001b[0m\u001b[37m\u001b[0m \u001b[1m0s\u001b[0m 3ms/step - acc: 0.9665 - loss: 0.0941 - val_acc: 0.7786 - val_loss: 1.2005\n",
      "Epoch 19/20\n",
      "\u001b[1m64/64\u001b[0m \u001b[32m━━━━━━━━━━━━━━━━━━━━\u001b[0m\u001b[37m\u001b[0m \u001b[1m0s\u001b[0m 3ms/step - acc: 0.9658 - loss: 0.0973 - val_acc: 0.7887 - val_loss: 1.2035\n",
      "Epoch 20/20\n",
      "\u001b[1m64/64\u001b[0m \u001b[32m━━━━━━━━━━━━━━━━━━━━\u001b[0m\u001b[37m\u001b[0m \u001b[1m0s\u001b[0m 3ms/step - acc: 0.9594 - loss: 0.0984 - val_acc: 0.7875 - val_loss: 1.2021\n"
     ]
    }
   ],
   "source": [
    "hist = model.fit(x_train,\n",
    "          y_train,\n",
    "          epochs=20,\n",
    "          batch_size=128,\n",
    "          validation_split=0.1)"
   ]
  },
  {
   "cell_type": "code",
   "execution_count": 94,
   "id": "4e7576a4-c2d4-464b-9023-76e145826e0b",
   "metadata": {},
   "outputs": [
    {
     "data": {
      "image/png": "[encoded data removed]",
      "text/plain": [
       "<Figure size 640x480 with 1 Axes>"
      ]
     },
     "metadata": {},
     "output_type": "display_data"
    }
   ],
   "source": [
    "# progression de l'apprentissage \n",
    "import matplotlib.pyplot as plt\n",
    "loss = hist.history['loss']\n",
    "epochs = range(1, len(loss)+1)  # pour l'axe des abscisses\n",
    "plt.plot(epochs, loss, label='loss')\n",
    "val_loss = hist.history['val_loss']\n",
    "plt.plot(epochs, val_loss, label='val_loss')\n",
    "plt.xlabel(\"epochs\")\n",
    "plt.ylabel(\"loss\")\n",
    "plt.legend()\n",
    "plt.show()"
   ]
  },
  {
   "cell_type": "markdown",
   "id": "c2362aa8-0b68-4069-9604-ec3bd304bfcf",
   "metadata": {},
   "source": [
    "## Remarque \n",
    "\n",
    "On observe un sur-apprentissage (cf.validation loss qui grandit)\n",
    "\n",
    "On aurait pu / du utiliser le callback EarlyStopping\n",
    "\n",
    "A to'on perdu beaucoup en accuracy (sur l'ensemble de test) ?"
   ]
  },
  {
   "cell_type": "code",
   "execution_count": 97,
   "id": "517b54c0-1c5f-4927-bce0-fe82f8b16a0a",
   "metadata": {},
   "outputs": [
    {
     "data": {
      "image/png": "[encoded data removed]",
      "text/plain": [
       "<Figure size 640x480 with 1 Axes>"
      ]
     },
     "metadata": {},
     "output_type": "display_data"
    }
   ],
   "source": [
    "\n",
    "loss = hist.history['acc']\n",
    "epochs = range(1, len(loss)+1)  # pour l'axe des abscisses\n",
    "plt.plot(epochs, loss, label='acc')\n",
    "val_loss = hist.history['val_acc']\n",
    "plt.plot(epochs, val_loss, label='val_acc')\n",
    "plt.xlabel(\"epochs\")\n",
    "plt.ylabel(\"loss\")\n",
    "plt.legend()\n",
    "plt.show()"
   ]
  },
  {
   "cell_type": "code",
   "execution_count": 103,
   "id": "468f4433-7fc6-4601-8e26-7a16328fe593",
   "metadata": {},
   "outputs": [
    {
     "name": "stdout",
     "output_type": "stream",
     "text": [
      "\u001b[1m71/71\u001b[0m \u001b[32m━━━━━━━━━━━━━━━━━━━━\u001b[0m\u001b[37m\u001b[0m \u001b[1m0s\u001b[0m 640us/step - acc: 0.7906 - loss: 1.1110\n",
      "accuracy en test = 0.7845057845115662\n"
     ]
    }
   ],
   "source": [
    "# val_acc : pas optimale, mais pas catastrophique non plus \n",
    "# Comparer avec l'ensemble de test/\n",
    "\n",
    "score = model.evaluate(x_test, y_test)\n",
    "print(f\"accuracy en test = {score[1]}\")  # score = [loss, accuracy]"
   ]
  },
  {
   "cell_type": "markdown",
   "id": "94a17d1e-4c41-4892-b2c3-bcc0da706a27",
   "metadata": {},
   "source": [
    "finalement pas trop de surapprentissage, le resultat final est tout a fait acceptable par rapport a la dynamique de l'apprentissage "
   ]
  }
 ],
 "metadata": {
  "kernelspec": {
   "display_name": "Python 3 (ipykernel)",
   "language": "python",
   "name": "python3"
  },
  "language_info": {
   "codemirror_mode": {
    "name": "ipython",
    "version": 3
   },
   "file_extension": ".py",
   "mimetype": "text/x-python",
   "name": "python",
   "nbconvert_exporter": "python",
   "pygments_lexer": "ipython3",
   "version": "3.12.7"
  }
 },
 "nbformat": 4,
 "nbformat_minor": 5
}
